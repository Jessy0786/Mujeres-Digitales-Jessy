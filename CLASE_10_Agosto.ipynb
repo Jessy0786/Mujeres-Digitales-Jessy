{
  "nbformat": 4,
  "nbformat_minor": 0,
  "metadata": {
    "colab": {
      "name": "CLASE 10 Agosto",
      "provenance": [],
      "collapsed_sections": [],
      "authorship_tag": "ABX9TyMcSVvwcj/4PeLzCYyrMu/m",
      "include_colab_link": true
    },
    "kernelspec": {
      "name": "python3",
      "display_name": "Python 3"
    },
    "language_info": {
      "name": "python"
    }
  },
  "cells": [
    {
      "cell_type": "markdown",
      "metadata": {
        "id": "view-in-github",
        "colab_type": "text"
      },
      "source": [
        "<a href=\"https://colab.research.google.com/github/Jessy0786/Mujeres-Digitales-Jessy/blob/main/CLASE_10_Agosto.ipynb\" target=\"_parent\"><img src=\"https://colab.research.google.com/assets/colab-badge.svg\" alt=\"Open In Colab\"/></a>"
      ]
    },
    {
      "cell_type": "markdown",
      "metadata": {
        "id": "lCT44Uv6oepY"
      },
      "source": [
        "# **FOR **\n",
        "Bucle,ciclo for \n",
        "\n",
        "para dejar claro,las partes que componen el bucle FOR\n",
        "\n",
        "\n",
        "Es un ciclo especializado para los ciclos controlados por cantidad se compone de 3 elementos:\n",
        "\n",
        "1. **variable de iteracion:** son objetos que hace referencia a un elemento que tiene la capacidad de repetirse., por ejemplo una lista.\n",
        "2. **elemento de iteracion**: son objetos que hacen referencia a un elemento (para hacer referencia a cada uno de los elementos del conjunto\n",
        "\n",
        "\n",
        "como saber que un elemento es iterable?\n",
        "\n",
        "\n",
        "Podemos darnos cuenta que es iterable usando la funcion isinstance().\n",
        "\n",
        "\n",
        "for (variable) in (iterable) #bloque de codigo"
      ]
    },
    {
      "cell_type": "code",
      "metadata": {
        "colab": {
          "base_uri": "https://localhost:8080/"
        },
        "id": "pXhezGDnp-5S",
        "outputId": "7a8a9ece-4ee7-4f67-d6bc-27faf575c3ac"
      },
      "source": [
        "for i in  range (0,5):\n",
        "  print(i)"
      ],
      "execution_count": null,
      "outputs": [
        {
          "output_type": "stream",
          "text": [
            "0\n",
            "1\n",
            "2\n",
            "3\n",
            "4\n"
          ],
          "name": "stdout"
        }
      ]
    },
    {
      "cell_type": "code",
      "metadata": {
        "id": "Y5DIv0rhsaZK"
      },
      "source": [
        "lista=[1,2,3,4,5,6,7,8,9]\n",
        "lista1=[2,3,4,5,6,7,8,9]\n",
        "a=\"computador\"\n",
        "b=10\n"
      ],
      "execution_count": null,
      "outputs": []
    },
    {
      "cell_type": "code",
      "metadata": {
        "colab": {
          "base_uri": "https://localhost:8080/"
        },
        "id": "e1urvSvquFQZ",
        "outputId": "a93f58c5-e21c-42d5-94c5-178676191a8a"
      },
      "source": [
        "from collections import Iterable #paquete iterable python\n",
        "lista=[1,2,3,4,5,6,7,8,9]\n",
        "lista1=[2,3,4,5,6,7,8,9]\n",
        "a=\"computador\"\n",
        "b=10\n",
        "print(isinstance(lista,Iterable))\n",
        "print(isinstance(a,Iterable))\n",
        "print(isinstance(b,Iterable))"
      ],
      "execution_count": null,
      "outputs": [
        {
          "output_type": "stream",
          "text": [
            "True\n",
            "True\n",
            "False\n"
          ],
          "name": "stdout"
        }
      ]
    },
    {
      "cell_type": "code",
      "metadata": {
        "colab": {
          "base_uri": "https://localhost:8080/",
          "height": 197
        },
        "id": "peYoaf0jvV6U",
        "outputId": "45f98a7d-fce0-4a9f-df1a-4a35c0d2eba2"
      },
      "source": [
        "a=30 #aparece un error porque a no es una variable iterable\n",
        "for i in a:\n",
        "  print(a)"
      ],
      "execution_count": null,
      "outputs": [
        {
          "output_type": "error",
          "ename": "TypeError",
          "evalue": "ignored",
          "traceback": [
            "\u001b[0;31m---------------------------------------------------------------------------\u001b[0m",
            "\u001b[0;31mTypeError\u001b[0m                                 Traceback (most recent call last)",
            "\u001b[0;32m<ipython-input-25-f18bc9e56bb3>\u001b[0m in \u001b[0;36m<module>\u001b[0;34m()\u001b[0m\n\u001b[1;32m      1\u001b[0m \u001b[0ma\u001b[0m\u001b[0;34m=\u001b[0m\u001b[0;36m30\u001b[0m\u001b[0;34m\u001b[0m\u001b[0;34m\u001b[0m\u001b[0m\n\u001b[0;32m----> 2\u001b[0;31m \u001b[0;32mfor\u001b[0m \u001b[0mi\u001b[0m \u001b[0;32min\u001b[0m \u001b[0ma\u001b[0m\u001b[0;34m:\u001b[0m\u001b[0;34m\u001b[0m\u001b[0;34m\u001b[0m\u001b[0m\n\u001b[0m\u001b[1;32m      3\u001b[0m   \u001b[0mprint\u001b[0m\u001b[0;34m(\u001b[0m\u001b[0ma\u001b[0m\u001b[0;34m)\u001b[0m\u001b[0;34m\u001b[0m\u001b[0;34m\u001b[0m\u001b[0m\n",
            "\u001b[0;31mTypeError\u001b[0m: 'int' object is not iterable"
          ]
        }
      ]
    },
    {
      "cell_type": "markdown",
      "metadata": {
        "id": "ohJfezUHvpUV"
      },
      "source": [
        "# Iteradores\n",
        "\n",
        "para entender los iteradores es importante conocer la funcion iter(), esta funcion puede ser llamada sobre un objeto que sea iterable y nos devolvera un iterador.\n",
        "\n",
        "ejm:"
      ]
    },
    {
      "cell_type": "code",
      "metadata": {
        "colab": {
          "base_uri": "https://localhost:8080/"
        },
        "id": "COYrHkSav7az",
        "outputId": "2d6d9265-66ef-4600-bbc1-a5b55d8b8f5a"
      },
      "source": [
        "lista1=[2,3,4,5,6,7,8,9]\n",
        "ref=iter(lista1)\n",
        "print(ref)\n",
        "print(next(ref))\n",
        "print(next(ref))\n",
        "print(next(ref))\n",
        "print(next(ref)) \n"
      ],
      "execution_count": null,
      "outputs": [
        {
          "output_type": "stream",
          "text": [
            "<list_iterator object at 0x7f70fda67210>\n",
            "2\n",
            "3\n",
            "4\n",
            "5\n"
          ],
          "name": "stdout"
        }
      ]
    },
    {
      "cell_type": "markdown",
      "metadata": {
        "id": "GGvPybOPwekI"
      },
      "source": [
        "Al imprimir ref es un iterador de la clase list_iterador hace referencia a la lista original y nos permite acceder a sus elementos con la funcion next()\n",
        "\n",
        "\n",
        "cada vez que llamemos a next sobre ref son devuelve el siguiente elemento de la lista original, si por ejemplo quiero acceder al elemento 7....\n",
        "\n",
        "\n",
        "# tener en cuenta\n",
        "\n",
        "existen otros iteradores para las diferentes clases:\n",
        "1. str_iterador para cadenas\n",
        "2. list_iterador para listas\n",
        "3. set_iterador para conjuntos\n",
        "4. dict_keyiterador para diccionarios"
      ]
    },
    {
      "cell_type": "markdown",
      "metadata": {
        "id": "sRBps40yx_A2"
      },
      "source": [
        "# **For anidados**\n",
        "Es posible anidar los for, es decir, ingresar uno dentro de otro, como lo veremos a continuacion "
      ]
    },
    {
      "cell_type": "code",
      "metadata": {
        "colab": {
          "base_uri": "https://localhost:8080/"
        },
        "id": "pMlDsUtkyNGX",
        "outputId": "48c1c6c5-960f-42d2-e607-912e4707fc2b"
      },
      "source": [
        "#vamos a crear una lista de lista lo cual conforma una matriz, recordemos que una matriz se compone de valores que se distribuyen en filas y columnas\n",
        "\n",
        "lista=[[1,2,3],\n",
        "       [4,5,6],\n",
        "       [7,8,9]]\n",
        "for i in lista:\n",
        "  print(i)\n",
        "for i in lista:\n",
        "  for j in i:\n",
        "    print(j)"
      ],
      "execution_count": null,
      "outputs": [
        {
          "output_type": "stream",
          "text": [
            "[1, 2, 3]\n",
            "[4, 5, 6]\n",
            "[7, 8, 9]\n",
            "1\n",
            "2\n",
            "3\n",
            "4\n",
            "5\n",
            "6\n",
            "7\n",
            "8\n",
            "9\n"
          ],
          "name": "stdout"
        }
      ]
    },
    {
      "cell_type": "code",
      "metadata": {
        "colab": {
          "base_uri": "https://localhost:8080/"
        },
        "id": "Ec8iN4GI0CrB",
        "outputId": "6c9bc08f-75c7-4fb2-8524-606855c9a40c"
      },
      "source": [
        "lista=[1,2,3,4,5,6,7] \n",
        "for i in lista[::-1]:  #mostrar lectura inversa\n",
        "  print(i)"
      ],
      "execution_count": null,
      "outputs": [
        {
          "output_type": "stream",
          "text": [
            "7\n",
            "6\n",
            "5\n",
            "4\n",
            "3\n",
            "2\n",
            "1\n"
          ],
          "name": "stdout"
        }
      ]
    },
    {
      "cell_type": "code",
      "metadata": {
        "colab": {
          "base_uri": "https://localhost:8080/"
        },
        "id": "Kz7C1uu00fcT",
        "outputId": "186494b0-70c0-4dc8-87d9-9cd70ef36e5c"
      },
      "source": [
        "lista=[1,2,3,4,5,6,7] \n",
        "for i in lista[::2]:  #intercalado\n",
        "  print(i)"
      ],
      "execution_count": null,
      "outputs": [
        {
          "output_type": "stream",
          "text": [
            "1\n",
            "3\n",
            "5\n",
            "7\n"
          ],
          "name": "stdout"
        }
      ]
    },
    {
      "cell_type": "code",
      "metadata": {
        "colab": {
          "base_uri": "https://localhost:8080/"
        },
        "id": "i_N8eyvD0yop",
        "outputId": "7d9de1c5-862a-4e21-c4d9-8c666e229a3c"
      },
      "source": [
        "a=\"computador\"\n",
        "for i in a:\n",
        "  print(a)"
      ],
      "execution_count": null,
      "outputs": [
        {
          "output_type": "stream",
          "text": [
            "computador\n",
            "computador\n",
            "computador\n",
            "computador\n",
            "computador\n",
            "computador\n",
            "computador\n",
            "computador\n",
            "computador\n",
            "computador\n"
          ],
          "name": "stdout"
        }
      ]
    },
    {
      "cell_type": "code",
      "metadata": {
        "colab": {
          "base_uri": "https://localhost:8080/"
        },
        "id": "v3F_CSah1m0c",
        "outputId": "77f7b02a-90c2-4a01-df04-8573161c9bb6"
      },
      "source": [
        "a=\"computador\"\n",
        "for i in a:\n",
        "  print(i)"
      ],
      "execution_count": null,
      "outputs": [
        {
          "output_type": "stream",
          "text": [
            "c\n",
            "o\n",
            "m\n",
            "p\n",
            "u\n",
            "t\n",
            "a\n",
            "d\n",
            "o\n",
            "r\n"
          ],
          "name": "stdout"
        }
      ]
    },
    {
      "cell_type": "code",
      "metadata": {
        "colab": {
          "base_uri": "https://localhost:8080/"
        },
        "id": "AbZOsXhk1DC3",
        "outputId": "113396e9-b64a-4d7d-b61f-0bff243438d3"
      },
      "source": [
        "a=\"computador\"\n",
        "for i in a[::4]:\n",
        "  print(i)"
      ],
      "execution_count": null,
      "outputs": [
        {
          "output_type": "stream",
          "text": [
            "c\n",
            "u\n",
            "o\n"
          ],
          "name": "stdout"
        }
      ]
    },
    {
      "cell_type": "code",
      "metadata": {
        "colab": {
          "base_uri": "https://localhost:8080/"
        },
        "id": "cY70p6ii1vp0",
        "outputId": "fe5c1f54-dcd5-4db2-d1af-f9438216bbc0"
      },
      "source": [
        "#usando rangos\n",
        "for i in range(10): #el rango genera una secuencia hasta el numero que se pasa como parametro inicia en 0\n",
        "  print(i)"
      ],
      "execution_count": null,
      "outputs": [
        {
          "output_type": "stream",
          "text": [
            "0\n",
            "1\n",
            "2\n",
            "3\n",
            "4\n",
            "5\n",
            "6\n",
            "7\n",
            "8\n",
            "9\n"
          ],
          "name": "stdout"
        }
      ]
    },
    {
      "cell_type": "code",
      "metadata": {
        "colab": {
          "base_uri": "https://localhost:8080/"
        },
        "id": "T9tEvHJF1yiA",
        "outputId": "98aff0a2-6ba5-4e92-af28-d46cea70d5c2"
      },
      "source": [
        "for i in range(2,10): #el primer numero es donde incia y el segundo es hasta donde llega\n",
        "  print(i)"
      ],
      "execution_count": null,
      "outputs": [
        {
          "output_type": "stream",
          "text": [
            "2\n",
            "3\n",
            "4\n",
            "5\n",
            "6\n",
            "7\n",
            "8\n",
            "9\n"
          ],
          "name": "stdout"
        }
      ]
    },
    {
      "cell_type": "code",
      "metadata": {
        "colab": {
          "base_uri": "https://localhost:8080/"
        },
        "id": "Kg6gMBzg2gLU",
        "outputId": "125b593c-b1d8-404c-c164-22a1193936cd"
      },
      "source": [
        "for i in range(0,10,2): #el primer numero es donde incia, el segundo es hasta donde llega el tercero son los saltos\n",
        "  print(i)"
      ],
      "execution_count": null,
      "outputs": [
        {
          "output_type": "stream",
          "text": [
            "0\n",
            "2\n",
            "4\n",
            "6\n",
            "8\n"
          ],
          "name": "stdout"
        }
      ]
    },
    {
      "cell_type": "code",
      "metadata": {
        "colab": {
          "base_uri": "https://localhost:8080/"
        },
        "id": "YeQyvfFq2-Fp",
        "outputId": "5c051a5e-3eb7-42f8-8b25-d9da454393d8"
      },
      "source": [
        "\n",
        "print(list(range(0,10,2))) #convertir un rango en una lista"
      ],
      "execution_count": null,
      "outputs": [
        {
          "output_type": "stream",
          "text": [
            "[0, 2, 4, 6, 8]\n"
          ],
          "name": "stdout"
        }
      ]
    },
    {
      "cell_type": "markdown",
      "metadata": {
        "id": "CApi458q3TFH"
      },
      "source": [
        "# Listas de comprensión \n",
        "\n",
        "Estas nos permiten crear listas de elementos en una sola linea de codigo\n",
        "\n",
        "\n",
        "\n"
      ]
    },
    {
      "cell_type": "code",
      "metadata": {
        "colab": {
          "base_uri": "https://localhost:8080/"
        },
        "id": "kSVmF4lk395n",
        "outputId": "b09b6dda-822f-47fe-c60a-6ac8141996de"
      },
      "source": [
        "lista3=[i**3 for i in range(0,10,2)]\n",
        "print(lista3)\n",
        "print(i)\n"
      ],
      "execution_count": null,
      "outputs": [
        {
          "output_type": "stream",
          "text": [
            "[0, 8, 64, 216, 512]\n",
            "8\n"
          ],
          "name": "stdout"
        }
      ]
    },
    {
      "cell_type": "code",
      "metadata": {
        "colab": {
          "base_uri": "https://localhost:8080/"
        },
        "id": "rp1u4ZaG4_hE",
        "outputId": "b8922987-9295-4008-a1eb-b346059e3a03"
      },
      "source": [
        "lista3=[i**3 for i in range(0,10)]\n",
        "print(lista3)\n",
        "print(i)"
      ],
      "execution_count": null,
      "outputs": [
        {
          "output_type": "stream",
          "text": [
            "[0, 1, 8, 27, 64, 125, 216, 343, 512, 729]\n",
            "8\n"
          ],
          "name": "stdout"
        }
      ]
    },
    {
      "cell_type": "code",
      "metadata": {
        "colab": {
          "base_uri": "https://localhost:8080/"
        },
        "id": "oxjdeose5Ti5",
        "outputId": "2c0f6c6b-62d1-4ca1-878d-fcc0d0f4f666"
      },
      "source": [
        "lista3 = []\n",
        "for numero in range(0,10,2):\n",
        "    lista3.append(numero**3)\n",
        "print(lista3)"
      ],
      "execution_count": null,
      "outputs": [
        {
          "output_type": "stream",
          "text": [
            "[0, 8, 64, 216, 512]\n"
          ],
          "name": "stdout"
        }
      ]
    },
    {
      "cell_type": "code",
      "metadata": {
        "colab": {
          "base_uri": "https://localhost:8080/"
        },
        "id": "EaAdxeon59rb",
        "outputId": "72835cdf-427d-4d07-cf3e-937354c1f04c"
      },
      "source": [
        "s=[1 for i in range(10)]\n",
        "print(s)"
      ],
      "execution_count": null,
      "outputs": [
        {
          "output_type": "stream",
          "text": [
            "[1, 1, 1, 1, 1, 1, 1, 1, 1, 1]\n"
          ],
          "name": "stdout"
        }
      ]
    },
    {
      "cell_type": "code",
      "metadata": {
        "colab": {
          "base_uri": "https://localhost:8080/"
        },
        "id": "_f6Xq7MQ6V3E",
        "outputId": "929e27e4-37e1-4b66-9e5a-a5427d071567"
      },
      "source": [
        "lista4=[5,10,15,20,25,30]\n",
        "lista5=[i/5 for i in lista4]\n",
        "print(lista5)"
      ],
      "execution_count": null,
      "outputs": [
        {
          "output_type": "stream",
          "text": [
            "[1.0, 2.0, 3.0, 4.0, 5.0, 6.0]\n"
          ],
          "name": "stdout"
        }
      ]
    },
    {
      "cell_type": "code",
      "metadata": {
        "colab": {
          "base_uri": "https://localhost:8080/"
        },
        "id": "Mik4IV_B66UG",
        "outputId": "19b3c15a-65b5-4357-8689-24bcf60e01b2"
      },
      "source": [
        "pera=\"mi mama me ama\"\n",
        "pera2=[i for i in pera if i==\"a\"]\n",
        "print(pera2)"
      ],
      "execution_count": null,
      "outputs": [
        {
          "output_type": "stream",
          "text": [
            "['a', 'a', 'a', 'a']\n"
          ],
          "name": "stdout"
        }
      ]
    },
    {
      "cell_type": "code",
      "metadata": {
        "colab": {
          "base_uri": "https://localhost:8080/"
        },
        "id": "vZ6hqtFB7vPC",
        "outputId": "4c8ac523-1189-44c1-8b98-4ee87605930d"
      },
      "source": [
        "pera=\"mi mama me ama\"\n",
        "pera2=[i for i in pera if i==\"m\"]\n",
        "print(pera2)\n"
      ],
      "execution_count": null,
      "outputs": [
        {
          "output_type": "stream",
          "text": [
            "['m', 'm', 'm', 'm', 'm']\n"
          ],
          "name": "stdout"
        }
      ]
    },
    {
      "cell_type": "code",
      "metadata": {
        "colab": {
          "base_uri": "https://localhost:8080/"
        },
        "id": "14_IN_3776WN",
        "outputId": "c82e4e65-5e62-492a-ad42-63d68d096757"
      },
      "source": [
        "pera=\"me gustan las peras\"\n",
        "pera2=[i for i in pera if i==\"a\"]\n",
        "print(pera2)\n",
        "print(len(pera2))"
      ],
      "execution_count": null,
      "outputs": [
        {
          "output_type": "stream",
          "text": [
            "['a', 'a', 'a']\n",
            "3\n"
          ],
          "name": "stdout"
        }
      ]
    }
  ]
}
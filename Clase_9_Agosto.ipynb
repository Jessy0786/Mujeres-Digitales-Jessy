{
  "nbformat": 4,
  "nbformat_minor": 0,
  "metadata": {
    "colab": {
      "name": "Clase 9 Agosto",
      "provenance": [],
      "collapsed_sections": [],
      "authorship_tag": "ABX9TyNR8tTRYXdSQrNY7Zixjvja",
      "include_colab_link": true
    },
    "kernelspec": {
      "name": "python3",
      "display_name": "Python 3"
    },
    "language_info": {
      "name": "python"
    }
  },
  "cells": [
    {
      "cell_type": "markdown",
      "metadata": {
        "id": "view-in-github",
        "colab_type": "text"
      },
      "source": [
        "<a href=\"https://colab.research.google.com/github/Jessy0786/Mujeres-Digitales-Jessy/blob/main/Clase_9_Agosto.ipynb\" target=\"_parent\"><img src=\"https://colab.research.google.com/assets/colab-badge.svg\" alt=\"Open In Colab\"/></a>"
      ]
    },
    {
      "cell_type": "markdown",
      "metadata": {
        "id": "yqlmY8yPieyL"
      },
      "source": [
        "Inicialmente se expusieron los 2 ejercicios de los talleres y se resolvieron dudas."
      ]
    },
    {
      "cell_type": "markdown",
      "metadata": {
        "id": "EcUVxk8jik7X"
      },
      "source": [
        "# **Clase 4**\n",
        "Estructuras de control interactivas\n",
        "\n",
        "# Acumuladores\n",
        "Se le da este nombre a las variables de almacenar algun tipo de informacion.\n",
        "\n"
      ]
    },
    {
      "cell_type": "code",
      "metadata": {
        "colab": {
          "base_uri": "https://localhost:8080/"
        },
        "id": "Yo-1x-JSjpe5",
        "outputId": "b6df2386-10f0-4f08-cf90-f39dbdf32013"
      },
      "source": [
        "nombre=input(\"nombre del consumidor\")\n",
        "listaCompra=\"\"\n",
        "print(nombre, \"escribe los siguientes viveres para su compra en el supermercado:\")\n",
        "listaCompra=listaCompra+\"1 paca de papel higienico\"\n",
        "listaCompra=listaCompra+\", shampoo sedal\"\n",
        "listaCompra=listaCompra+\", 1 chochorramo\"\n",
        "listaCompra=listaCompra+\", 2 libras de arroz\"\n",
        "listaCompra=listaCompra+\", 5 sabritas\"\n",
        "print(listaCompra)"
      ],
      "execution_count": null,
      "outputs": [
        {
          "output_type": "stream",
          "text": [
            "nombre del consumidorluz\n",
            "luz escribe los siguientes viveres para su compra en el supermercado:\n",
            "1 paca de papel higienico, shampoo sedal, 1 chochorramo, 2 libras de arroz, 5 sabritas\n"
          ],
          "name": "stdout"
        }
      ]
    },
    {
      "cell_type": "markdown",
      "metadata": {
        "id": "esQBPDSalda2"
      },
      "source": [
        "Se puede observar que no estamos creando una variable por cada item si no, que una variable definida nos sirve para almacenar la información"
      ]
    },
    {
      "cell_type": "markdown",
      "metadata": {
        "id": "rPTsig2Xlzz-"
      },
      "source": [
        "Ejemplo de variable almenadora con cantidades y precios"
      ]
    },
    {
      "cell_type": "code",
      "metadata": {
        "colab": {
          "base_uri": "https://localhost:8080/"
        },
        "id": "jUx6ret_l-H-",
        "outputId": "b6f08cc9-d44c-4bdf-ae81-4b232f9862f7"
      },
      "source": [
        "precioPacaPH=15000\n",
        "cantidadPH=2\n",
        "precioShampoo=12000\n",
        "cantidadS=3\n",
        "precioChocorramo=900\n",
        "cantidadChoco=5\n",
        "precioSabritas=500\n",
        "cantidadSab=4\n",
        "\n",
        "subtotal=0\n",
        "print(\"calculando el total de la compra...\")\n",
        "totalPPH=precioPacaPH*cantidadPH\n",
        "print(\"El valor del papel higienico es: $\",totalPPH)\n",
        "subtotal=subtotal+totalPPH\n",
        "print(\"el subtotal es: $\", subtotal)\n",
        "totalShampoo=precioShampoo*cantidadS\n",
        "print(\"El valor del shampoo es: $\",totalShampoo)\n",
        "subtotal=subtotal+totalShampoo\n",
        "print(\"el subtotal es: $\", subtotal)\n",
        "totalChoco=precioChocorramo*cantidadChoco\n",
        "print(\"El precio de los chocorramos es: $\",totalChoco)\n",
        "subtotal=subtotal+totalChoco\n",
        "print(\"el subtotal es: $\", subtotal)"
      ],
      "execution_count": null,
      "outputs": [
        {
          "output_type": "stream",
          "text": [
            "calculando el total de la compra...\n",
            "El valor del papel higienico es: $ 30000\n",
            "el subtotal es: $ 30000\n",
            "El valor del shampoo es: $ 36000\n",
            "el subtotal es: $ 66000\n",
            "El precio de los chocorramos es: $ 4500\n",
            "el subtotal es: $ 70500\n"
          ],
          "name": "stdout"
        }
      ]
    },
    {
      "cell_type": "markdown",
      "metadata": {
        "id": "JIDyD174pQh9"
      },
      "source": [
        "# **Contadores**\n",
        "Tiene mucha relacion con lo visto en acumuladores, estas varias se caracterizan por ser variables de control, es decir, controlan la cantidad de veces que se ejecuta determinada acción\n"
      ]
    },
    {
      "cell_type": "code",
      "metadata": {
        "colab": {
          "base_uri": "https://localhost:8080/"
        },
        "id": "hzYE-0q5prvv",
        "outputId": "cda43bed-1418-46e3-d2e1-c4bafda1748a"
      },
      "source": [
        "conteoChocorramos=0\n",
        "print(\"Se compraran chocorramos para todo el grupo.... se ha inciado la compra de asignacion en el carrito en total hay: \", conteoChocorramos, \"chocorramos\")\n",
        "conteoChocorramos=conteoChocorramos+1\n",
        "print(\"total hay: \", conteoChocorramos, \"chocorramos\")\n",
        "conteoChocorramos=conteoChocorramos+1\n",
        "print(\"total hay: \", conteoChocorramos, \"chocorramos\")\n",
        "conteoChocorramos=conteoChocorramos+1\n",
        "print(\"total hay: \", conteoChocorramos, \"chocorramos\")\n",
        "conteoChocorramos=conteoChocorramos+1\n",
        "print(\"total hay: \", conteoChocorramos, \"chocorramos\")\n",
        "conteoChocorramos=conteoChocorramos+1\n",
        "print(\"total hay: \", conteoChocorramos, \"chocorramos\")\n",
        "conteoChocorramos=conteoChocorramos+1\n",
        "print(\"total hay: \", conteoChocorramos, \"chocorramos\")"
      ],
      "execution_count": null,
      "outputs": [
        {
          "output_type": "stream",
          "text": [
            "Se compraran chocorramos para todo el grupo.... se ha inciado la compra de asignacion en el carrito en total hay:  0 chocorramos\n",
            "total hay:  1 chocorramos\n",
            "total hay:  2 chocorramos\n",
            "total hay:  3 chocorramos\n",
            "total hay:  4 chocorramos\n",
            "total hay:  5 chocorramos\n",
            "total hay:  6 chocorramos\n"
          ],
          "name": "stdout"
        }
      ]
    },
    {
      "cell_type": "markdown",
      "metadata": {
        "id": "sif87OR6q7Xk"
      },
      "source": [
        "# **Ciclos de control por condiciones**\n",
        "estas variables de control son la base de ciclos de control, y sirven para automatizar el proceso.\n",
        "# while"
      ]
    },
    {
      "cell_type": "code",
      "metadata": {
        "colab": {
          "base_uri": "https://localhost:8080/"
        },
        "id": "wvziPcDcsEtq",
        "outputId": "2aea5c2a-bc8d-4f52-ba2c-b8ec60664809"
      },
      "source": [
        "lapices=3\n",
        "contLap=0\n",
        "print(\"se ha inciado la compra en total hay: \", contLap,lapices)\n",
        "while(contLap<lapices):\n",
        "  contLap=contLap+1\n",
        "  print(\"se ha realizado la compra de lapices, Ahora hay \"+ str(contLap) +\" lapiz\") #parseo a string\n",
        "  print(\"se ha realizado la compra de lapices, Ahora hay \", contLap ,\" lapiz\")\n"
      ],
      "execution_count": null,
      "outputs": [
        {
          "output_type": "stream",
          "text": [
            "se ha inciado la compra en total hay:  0 3\n",
            "se ha realizado la compra de lapices, Ahora hay 1 lapiz\n",
            "se ha realizado la compra de lapices, Ahora hay  1  lapiz\n",
            "se ha realizado la compra de lapices, Ahora hay 2 lapiz\n",
            "se ha realizado la compra de lapices, Ahora hay  2  lapiz\n",
            "se ha realizado la compra de lapices, Ahora hay 3 lapiz\n",
            "se ha realizado la compra de lapices, Ahora hay  3  lapiz\n"
          ],
          "name": "stdout"
        }
      ]
    },
    {
      "cell_type": "markdown",
      "metadata": {
        "id": "ldWFUlfUvEpR"
      },
      "source": [
        "Tener en cuenta que dentro del ciclo de while se va afectando las variables implicadas en la declaracion de la condicion que debe cumplir el ciclo"
      ]
    },
    {
      "cell_type": "markdown",
      "metadata": {
        "id": "rPz_1xDowB_L"
      },
      "source": [
        "# For\n",
        "Es un ciclo especializado para los ciclos controlados por cantidad se compone de 3 elementos:\n",
        "1. variable de iteracion\n",
        "2. elemento de iteracion\n",
        "3. bloque de codigo a iterar"
      ]
    },
    {
      "cell_type": "code",
      "metadata": {
        "colab": {
          "base_uri": "https://localhost:8080/"
        },
        "id": "gUsr7JjzwE-8",
        "outputId": "79eb5f10-cd95-4870-b2c6-7f2a0cd65e3b"
      },
      "source": [
        "print(\"se ha inicado la compra de lapices\")\n",
        "for i in range(0,6):\n",
        "  print(\"se ha realizado la compra de lapices, Ahora hay: \",i, \"lapices\")"
      ],
      "execution_count": null,
      "outputs": [
        {
          "output_type": "stream",
          "text": [
            "se ha inicado la compra de lapices\n",
            "se ha realizado la compra de lapices, Ahora hay:  0 lapices\n",
            "se ha realizado la compra de lapices, Ahora hay:  1 lapices\n",
            "se ha realizado la compra de lapices, Ahora hay:  2 lapices\n",
            "se ha realizado la compra de lapices, Ahora hay:  3 lapices\n",
            "se ha realizado la compra de lapices, Ahora hay:  4 lapices\n",
            "se ha realizado la compra de lapices, Ahora hay:  5 lapices\n"
          ],
          "name": "stdout"
        }
      ]
    },
    {
      "cell_type": "code",
      "metadata": {
        "id": "HgQTQqLtyYoY"
      },
      "source": [
        ""
      ],
      "execution_count": null,
      "outputs": []
    }
  ]
}
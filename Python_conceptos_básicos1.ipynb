{
  "nbformat": 4,
  "nbformat_minor": 0,
  "metadata": {
    "colab": {
      "name": "Python_conceptos_básicos1.ipynb",
      "provenance": [],
      "authorship_tag": "ABX9TyNVUT61U1+1mQIahnIRTu5v",
      "include_colab_link": true
    },
    "kernelspec": {
      "name": "python3",
      "display_name": "Python 3"
    },
    "language_info": {
      "name": "python"
    }
  },
  "cells": [
    {
      "cell_type": "markdown",
      "metadata": {
        "id": "view-in-github",
        "colab_type": "text"
      },
      "source": [
        "<a href=\"https://colab.research.google.com/github/Jessy0786/Mujeres-Digitales-Jessy/blob/main/Python_conceptos_b%C3%A1sicos1.ipynb\" target=\"_parent\"><img src=\"https://colab.research.google.com/assets/colab-badge.svg\" alt=\"Open In Colab\"/></a>"
      ]
    },
    {
      "cell_type": "markdown",
      "metadata": {
        "id": "67WGLuB_5k2a"
      },
      "source": [
        "# Imprimir"
      ]
    },
    {
      "cell_type": "code",
      "metadata": {
        "colab": {
          "base_uri": "https://localhost:8080/"
        },
        "id": "UroB089Z5agi",
        "outputId": "8806b408-9e3f-4493-fbc6-aea2a2e7ea64"
      },
      "source": [
        "print('hola mundo')"
      ],
      "execution_count": 2,
      "outputs": [
        {
          "output_type": "stream",
          "name": "stdout",
          "text": [
            "hola mundo\n"
          ]
        }
      ]
    },
    {
      "cell_type": "markdown",
      "metadata": {
        "id": "pqzB-fNC6Z9A"
      },
      "source": [
        "# Tipos de datos"
      ]
    },
    {
      "cell_type": "markdown",
      "metadata": {
        "id": "CCWr2GhM8fy3"
      },
      "source": [
        "Numéricos"
      ]
    },
    {
      "cell_type": "code",
      "metadata": {
        "colab": {
          "base_uri": "https://localhost:8080/"
        },
        "id": "TS_Ewy1f6YEQ",
        "outputId": "84101d42-6544-4c74-e94f-119304816c75"
      },
      "source": [
        "numero=10 #numerico entero\n",
        "print(numero)\n",
        "print('numero')\n",
        "print(type(numero))\n",
        "print('-------------------------------------')\n",
        "numero1=10.98 #float\n",
        "print(numero1)\n",
        "print('numero')\n",
        "print(type(numero1))\n",
        "\n"
      ],
      "execution_count": 6,
      "outputs": [
        {
          "output_type": "stream",
          "name": "stdout",
          "text": [
            "10\n",
            "numero\n",
            "<class 'int'>\n",
            "-------------------------------------\n",
            "10.98\n",
            "numero\n",
            "<class 'float'>\n"
          ]
        }
      ]
    },
    {
      "cell_type": "markdown",
      "metadata": {
        "id": "X-kEbVNw8jqW"
      },
      "source": [
        "Cadena"
      ]
    },
    {
      "cell_type": "code",
      "metadata": {
        "colab": {
          "base_uri": "https://localhost:8080/"
        },
        "id": "jxbvkQiV60Cg",
        "outputId": "ef52e980-a5b7-4060-8312-f01a3c3b0fce"
      },
      "source": [
        "nombre='jessy'#string\n",
        "nombre1=\"Jessy\"\n",
        "print(nombre, nombre1)\n",
        "#se pueden combinar las comillas\n",
        "nombre2=\"estoy 'estudiando'\"\n",
        "nombre3='estoy \"estudiando\"'\n",
        "print(nombre2)\n",
        "print(nombre3)"
      ],
      "execution_count": 14,
      "outputs": [
        {
          "output_type": "stream",
          "name": "stdout",
          "text": [
            "jessy Jessy\n",
            "estoy 'estudiando'\n",
            "estoy \"estudiando\"\n"
          ]
        }
      ]
    },
    {
      "cell_type": "markdown",
      "metadata": {
        "id": "2G_icu5c8lsP"
      },
      "source": [
        "Booleanos"
      ]
    },
    {
      "cell_type": "code",
      "metadata": {
        "colab": {
          "base_uri": "https://localhost:8080/"
        },
        "id": "T8XDyqKd8oNm",
        "outputId": "d0701f09-3a86-4b23-ff92-8b7f966b8a48"
      },
      "source": [
        "valor=True\n",
        "print(valor)\n",
        "print(type(valor))\n",
        "print('____________________________________')\n",
        "valor1=False\n",
        "print(valor1)\n",
        "print(type(valor1))"
      ],
      "execution_count": 17,
      "outputs": [
        {
          "output_type": "stream",
          "name": "stdout",
          "text": [
            "True\n",
            "<class 'bool'>\n",
            "____________________________________\n",
            "False\n",
            "<class 'bool'>\n"
          ]
        }
      ]
    },
    {
      "cell_type": "markdown",
      "metadata": {
        "id": "xWgwum_V9ZLn"
      },
      "source": [
        "# Operaciones aritméticas básicas"
      ]
    },
    {
      "cell_type": "code",
      "metadata": {
        "colab": {
          "base_uri": "https://localhost:8080/"
        },
        "id": "4nXtnXTJ9nqG",
        "outputId": "63261261-2a31-48d5-c691-fa8dc9b3248f"
      },
      "source": [
        "num1=10\n",
        "num2=6.7\n",
        "suma=num1+num2\n",
        "print(suma)\n",
        "#puedo hacer operaciones simultaneas\n",
        "resultado=(num1+num2 *10/6) #aquí está multiplicando 6,7*10 /6 +10\n",
        "print(resultado)\n",
        "#reglas de precendencia \n",
        "resultado1=((num1+num2) *10/6) #aquí está haciendo primero la suma 10+6.7 *10 /6\n",
        "print(resultado1)\n",
        "print('_______________________________________')\n",
        "#concatenar \n",
        "print('el resultado es: ', resultado)\n",
        "print('el resultado1 es: ', resultado1)\n",
        "print('el resultado1 es:',resultado1)#python entiende que debe dejar un espacio\n"
      ],
      "execution_count": 27,
      "outputs": [
        {
          "output_type": "stream",
          "name": "stdout",
          "text": [
            "16.7\n",
            "21.166666666666664\n",
            "27.833333333333332\n",
            "_______________________________________\n",
            "el resultado es:  21.166666666666664\n",
            "el resultado1 es:  27.833333333333332\n",
            "el resultado1 es: 27.833333333333332\n"
          ]
        }
      ]
    },
    {
      "cell_type": "markdown",
      "metadata": {
        "id": "OVrWdW9LCn09"
      },
      "source": [
        "Tipado dinamico"
      ]
    },
    {
      "cell_type": "code",
      "metadata": {
        "colab": {
          "base_uri": "https://localhost:8080/"
        },
        "id": "qpgT2QJvCqwl",
        "outputId": "34be2fb7-c8f8-4bdd-a057-f3ad5afd3d38"
      },
      "source": [
        "valor=10\n",
        "print(valor)\n",
        "valor='Jessy'#python comprende que he cambiado el valor de la variable\n",
        "print(valor)"
      ],
      "execution_count": 29,
      "outputs": [
        {
          "output_type": "stream",
          "name": "stdout",
          "text": [
            "10\n",
            "Jessy\n"
          ]
        }
      ]
    },
    {
      "cell_type": "markdown",
      "metadata": {
        "id": "RemUwYtCEpfG"
      },
      "source": [
        "# Comentarios"
      ]
    },
    {
      "cell_type": "code",
      "metadata": {
        "colab": {
          "base_uri": "https://localhost:8080/",
          "height": 72
        },
        "id": "4d-YAv0RE0Xj",
        "outputId": "30e4abc5-1605-4aa2-9240-18452309e87b"
      },
      "source": [
        "valor=10\n",
        "print(valor)\n",
        "valor='Jessy'#python comprende que he cambiado el valor de la variable\n",
        "print(valor)\n",
        "#comentarios multilinea\n",
        "'''\n",
        "se supone que así\n",
        "''' #aqui en colab no funciona\n",
        "\n"
      ],
      "execution_count": 42,
      "outputs": [
        {
          "output_type": "stream",
          "name": "stdout",
          "text": [
            "10\n",
            "Jessy\n"
          ]
        },
        {
          "output_type": "execute_result",
          "data": {
            "application/vnd.google.colaboratory.intrinsic+json": {
              "type": "string"
            },
            "text/plain": [
              "'\\nse supone que así\\n'"
            ]
          },
          "metadata": {},
          "execution_count": 42
        }
      ]
    }
  ]
}
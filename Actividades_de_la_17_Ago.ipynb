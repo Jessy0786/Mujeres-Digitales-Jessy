{
  "nbformat": 4,
  "nbformat_minor": 0,
  "metadata": {
    "colab": {
      "name": "Actividades de la 17 Ago.ipynb",
      "provenance": [],
      "collapsed_sections": [],
      "authorship_tag": "ABX9TyPwLsM0NBktBa6rIu/xb7o7",
      "include_colab_link": true
    },
    "kernelspec": {
      "name": "python3",
      "display_name": "Python 3"
    },
    "language_info": {
      "name": "python"
    }
  },
  "cells": [
    {
      "cell_type": "markdown",
      "metadata": {
        "id": "view-in-github",
        "colab_type": "text"
      },
      "source": [
        "<a href=\"https://colab.research.google.com/github/Jessy0786/Mujeres-Digitales-Jessy/blob/main/Actividades_de_la_17_Ago.ipynb\" target=\"_parent\"><img src=\"https://colab.research.google.com/assets/colab-badge.svg\" alt=\"Open In Colab\"/></a>"
      ]
    },
    {
      "cell_type": "code",
      "metadata": {
        "id": "pfkU5zs21TIs"
      },
      "source": [
        "import pandas as pd"
      ],
      "execution_count": null,
      "outputs": []
    },
    {
      "cell_type": "code",
      "metadata": {
        "id": "WZ5A9m-acrB0",
        "colab": {
          "base_uri": "https://localhost:8080/"
        },
        "outputId": "48506a51-2cee-4912-ca7b-7f11ebc929b4"
      },
      "source": [
        "#Actividad 1\n",
        "#Realizar una serie con numeros impares de 1 a 15\n",
        "#Forma1\n",
        "impares= pd.Series([1,3,5,7,9,11,13,15])\n",
        "print(impares) "
      ],
      "execution_count": null,
      "outputs": [
        {
          "output_type": "stream",
          "text": [
            "0     1\n",
            "1     3\n",
            "2     5\n",
            "3     7\n",
            "4     9\n",
            "5    11\n",
            "6    13\n",
            "7    15\n",
            "dtype: int64\n"
          ],
          "name": "stdout"
        }
      ]
    },
    {
      "cell_type": "code",
      "metadata": {
        "colab": {
          "base_uri": "https://localhost:8080/"
        },
        "id": "eIUxNmRunqJL",
        "outputId": "6d10582c-b037-41ee-b344-4e8a79ce1738"
      },
      "source": [
        "#Realizar una serie con numeros impares de 1 a 15\n",
        "#forma2 con indices\n",
        "impares= pd.Series([1,3,5,7,9,11,13,15],name='nImpares',index=['a','b','c','d','e','f','g','i'])\n",
        "print(impares) "
      ],
      "execution_count": null,
      "outputs": [
        {
          "output_type": "stream",
          "text": [
            "a     1\n",
            "b     3\n",
            "c     5\n",
            "d     7\n",
            "e     9\n",
            "f    11\n",
            "g    13\n",
            "i    15\n",
            "Name: nImpares, dtype: int64\n"
          ],
          "name": "stdout"
        }
      ]
    },
    {
      "cell_type": "code",
      "metadata": {
        "colab": {
          "base_uri": "https://localhost:8080/"
        },
        "id": "XekUZtNgtMd0",
        "outputId": "4d1fb81a-c83e-42cb-eef5-02a1fc6fdf91"
      },
      "source": [
        "#Realizar una serie con numeros impares de 1 a 15\n",
        "#forma3: Rango (1,16,2) 1:inicio, 16: stop,  2:saltos\n",
        "impares= pd.Series(range(1,16,2),name='nImpares',index=['a','b','c','d','e','f','g','i'])\n",
        "print(impares)"
      ],
      "execution_count": null,
      "outputs": [
        {
          "output_type": "stream",
          "text": [
            "a     1\n",
            "b     3\n",
            "c     5\n",
            "d     7\n",
            "e     9\n",
            "f    11\n",
            "g    13\n",
            "i    15\n",
            "Name: nImpares, dtype: int64\n"
          ],
          "name": "stdout"
        }
      ]
    },
    {
      "cell_type": "code",
      "metadata": {
        "colab": {
          "base_uri": "https://localhost:8080/"
        },
        "id": "Bsq4RN_AwdxV",
        "outputId": "41bf8d9e-abeb-44da-e3bc-b790c26f8d8f"
      },
      "source": [
        "impares= pd.Series(range(1,16,2),name='nImpares',index=['a','b','c','d','e','f','g','i'])\n",
        "impares['c'] #imprimir el contenido de un indice"
      ],
      "execution_count": null,
      "outputs": [
        {
          "output_type": "execute_result",
          "data": {
            "text/plain": [
              "5"
            ]
          },
          "metadata": {},
          "execution_count": 49
        }
      ]
    },
    {
      "cell_type": "code",
      "metadata": {
        "colab": {
          "base_uri": "https://localhost:8080/"
        },
        "id": "ty79vT4hdfVy",
        "outputId": "b3d3241c-0ad7-4c18-efcf-4e7a43a2c6aa"
      },
      "source": [
        "#Actividad2 sacar los valores de 2 al 4\n",
        "impares= pd.Series(range(1,16,2))\n",
        "print(impares)\n",
        "print('------------------------')\n",
        "for i in (impares>2) & (impares<4):#como creí que debia ser\n",
        "  print(i)"
      ],
      "execution_count": null,
      "outputs": [
        {
          "output_type": "stream",
          "text": [
            "0     1\n",
            "1     3\n",
            "2     5\n",
            "3     7\n",
            "4     9\n",
            "5    11\n",
            "6    13\n",
            "7    15\n",
            "dtype: int64\n",
            "------------------------\n",
            "False\n",
            "True\n",
            "False\n",
            "False\n",
            "False\n",
            "False\n",
            "False\n",
            "False\n"
          ],
          "name": "stdout"
        }
      ]
    },
    {
      "cell_type": "code",
      "metadata": {
        "colab": {
          "base_uri": "https://localhost:8080/"
        },
        "id": "OfWlYacTl6VW",
        "outputId": "d226a3c2-540c-4d9d-df41-2b14bf6efd1b"
      },
      "source": [
        "impares= pd.Series(range(1,16,2))#como debió ser \n",
        "print(impares)\n",
        "print('------------------------')\n",
        "print(impares[2:5]) # en este caso se refiere a los indices de 2 a 4"
      ],
      "execution_count": null,
      "outputs": [
        {
          "output_type": "stream",
          "text": [
            "0     1\n",
            "1     3\n",
            "2     5\n",
            "3     7\n",
            "4     9\n",
            "5    11\n",
            "6    13\n",
            "7    15\n",
            "dtype: int64\n",
            "------------------------\n",
            "2    5\n",
            "3    7\n",
            "4    9\n",
            "dtype: int64\n"
          ],
          "name": "stdout"
        }
      ]
    },
    {
      "cell_type": "code",
      "metadata": {
        "colab": {
          "base_uri": "https://localhost:8080/"
        },
        "id": "Rn9DyHlcyiG6",
        "outputId": "7e52afd0-157e-4677-84bd-2abadf950488"
      },
      "source": [
        "impares"
      ],
      "execution_count": null,
      "outputs": [
        {
          "output_type": "execute_result",
          "data": {
            "text/plain": [
              "0     1\n",
              "1     3\n",
              "2     5\n",
              "3     7\n",
              "4     9\n",
              "5    11\n",
              "6    13\n",
              "7    15\n",
              "dtype: int64"
            ]
          },
          "metadata": {},
          "execution_count": 19
        }
      ]
    },
    {
      "cell_type": "code",
      "metadata": {
        "colab": {
          "base_uri": "https://localhost:8080/"
        },
        "id": "UCzZaxUtzhFK",
        "outputId": "84fe37ef-5a4e-4244-a2b6-3747bda79697"
      },
      "source": [
        "print(impares.loc[2:4]) #incluye el stop\n",
        "print('---------------------------')\n",
        "print(impares.iloc[2:4]) #no incluye el stop\n",
        "print('---------------------------')"
      ],
      "execution_count": null,
      "outputs": [
        {
          "output_type": "stream",
          "text": [
            "2    5\n",
            "3    7\n",
            "4    9\n",
            "dtype: int64\n",
            "---------------------------\n",
            "2    5\n",
            "3    7\n",
            "dtype: int64\n",
            "---------------------------\n"
          ],
          "name": "stdout"
        }
      ]
    },
    {
      "cell_type": "code",
      "metadata": {
        "colab": {
          "base_uri": "https://localhost:8080/"
        },
        "id": "kEGUMtiS0ky7",
        "outputId": "cebb8662-4a73-4a86-b211-7097252500f0"
      },
      "source": [
        "for i in impares.index : #usando un for\n",
        "  if (i>=2) & (i<=4):\n",
        "    print(i,impares[i])"
      ],
      "execution_count": null,
      "outputs": [
        {
          "output_type": "stream",
          "text": [
            "2 5\n",
            "3 7\n",
            "4 9\n"
          ],
          "name": "stdout"
        }
      ]
    },
    {
      "cell_type": "code",
      "metadata": {
        "colab": {
          "base_uri": "https://localhost:8080/"
        },
        "id": "wciDJI96V1UZ",
        "outputId": "3910b644-680f-43be-e92f-39fb2cc7dfbe"
      },
      "source": [
        "#Actividad 3\n",
        "#Realizar una serie con las fechas de mamá, papá e hij@\n",
        "import pandas as pd\n",
        "\n",
        "cumples= pd.to_datetime(pd.Series(['5/22/2022','2/11/2022','7/25/2022'],index=['Madre','Padre','Jessy']),errors='coerce')\n",
        "cumples"
      ],
      "execution_count": 5,
      "outputs": [
        {
          "output_type": "execute_result",
          "data": {
            "text/plain": [
              "Madre   2022-05-22\n",
              "Padre   2022-02-11\n",
              "Jessy   2022-07-25\n",
              "dtype: datetime64[ns]"
            ]
          },
          "metadata": {},
          "execution_count": 5
        }
      ]
    }
  ]
}
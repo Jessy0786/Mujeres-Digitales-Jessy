{
  "nbformat": 4,
  "nbformat_minor": 0,
  "metadata": {
    "kernelspec": {
      "display_name": "Python 3",
      "language": "python",
      "name": "python3"
    },
    "language_info": {
      "codemirror_mode": {
        "name": "ipython",
        "version": 3
      },
      "file_extension": ".py",
      "mimetype": "text/x-python",
      "name": "python",
      "nbconvert_exporter": "python",
      "pygments_lexer": "ipython3",
      "version": "3.7.3"
    },
    "colab": {
      "name": "Taller Semana 4 Jessy(1).ipynb",
      "provenance": [],
      "collapsed_sections": [],
      "include_colab_link": true
    }
  },
  "cells": [
    {
      "cell_type": "markdown",
      "metadata": {
        "id": "view-in-github",
        "colab_type": "text"
      },
      "source": [
        "<a href=\"https://colab.research.google.com/github/Jessy0786/Mujeres-Digitales-Jessy/blob/main/Taller_Semana_4_Jessy(1).ipynb\" target=\"_parent\"><img src=\"https://colab.research.google.com/assets/colab-badge.svg\" alt=\"Open In Colab\"/></a>"
      ]
    },
    {
      "cell_type": "markdown",
      "metadata": {
        "id": "SUIcZJyyd6Vw"
      },
      "source": [
        "# Investigando los accidentes de tránsito en Nueva York"
      ]
    },
    {
      "cell_type": "markdown",
      "metadata": {
        "id": "03iG65T_aSdi"
      },
      "source": [
        "# **Taller 4 Jesyca Maria Patiño Londoño**"
      ]
    },
    {
      "cell_type": "code",
      "metadata": {
        "id": "0qKbKxgBd6Vz"
      },
      "source": [
        "import pandas as pd \n",
        "import numpy as np\n",
        "import matplotlib.pyplot as plt\n",
        "import seaborn as sns\n",
        "%matplotlib inline"
      ],
      "execution_count": null,
      "outputs": []
    },
    {
      "cell_type": "markdown",
      "metadata": {
        "id": "CciJWSAqd6V0"
      },
      "source": [
        "## Introducción\n",
        "\n",
        "**Contexto empresarial.** La ciudad de Nueva York ha experimentado un aumento en el número de accidentes en las vías de la ciudad. Quieren saber si el número de accidentes ha aumentado en las últimas semanas. Para todos los accidentes reportados, han recopilado detalles para cada accidente y han estado manteniendo registros durante el último año y medio (desde enero de 2018 hasta agosto de 2019).\n",
        "\n",
        "La ciudad te ha contratado para que construyas visualizaciones que les ayuden a identificar patrones en accidentes, lo que les ayudaría a tomar acciones preventivas para reducir la cantidad de accidentes en el futuro. Tienen ciertos parámetros como comuna, hora del día, motivo del accidente, etc. De los que se preocupan y de los que les gustaría obtener información específica.\n",
        "\n",
        "**Problema empresarial.** Su tarea es formatear los datos proporcionados y proporcionar visualizaciones que respondan a las preguntas específicas que tiene el cliente, que se mencionan a continuación.\n",
        "\n",
        "**Contexto analítico.** Se le proporciona un archivo CSV que contiene detalles sobre cada accidente como fecha, hora, ubicación del accidente, motivo del accidente, tipos de vehículos involucrados, recuento de lesiones y muertes, etc. El delimitador en el archivo CSV dado es; en lugar del predeterminado,. Realizará las siguientes tareas con los datos:\n",
        "\n",
        "*    Leer, transformar y preparar datos para su visualización\n",
        "*    Realizar análisis y construir visualizaciones de los datos para identificar patrones en el conjunto de datos.\n",
        "\n",
        "El cliente tiene un conjunto específico de preguntas a las que le gustaría obtener respuestas. Deberá proporcionar visualizaciones para acompañar estos:\n",
        "\n",
        "1.    ¿Cómo ha fluctuado el número de accidentes durante el último año y medio? ¿Han aumentado con el tiempo? Los accidentes disminuyeron, tal y como indica la grafica\n",
        "2.   Para un día en particular, ¿durante qué horas es más probable que ocurran accidentes? A las 16 y 17 Horas\n",
        "3.    ¿Hay más accidentes entre semana que los fines de semana? Entre semana hay mas accidentes\n",
        "4.    ¿Cuál es la proporción de accidentes por área por comuna? ¿Qué distritos tienen un número desproporcionadamente grande de accidentes para su tamaño?\n",
        "**a**\n",
        "* BRONX :             895\n",
        "* BROOKLYN :         1076\n",
        "* MANHATTAN :        2135\n",
        "* QUEENS :            618\n",
        "* STATEN ISLAND :     148\n",
        "\n",
        "**b**\n",
        "* Manhattan tiene muchos accidentes con respecto al area que ocupa\n",
        "5.    Para cada comuna, ¿durante qué horas es más probable que ocurran accidentes?\n",
        "* BRONX            16 (Hora)         2952 (Numero de accidentes)\n",
        "* BROOKLYN         16 (Hora)         5701 (Numero de accidentes)\n",
        "* MANHATTAN        14 (Hora)         3375 (Numero de accidentes)\n",
        "* QUEENS           17 (Hora)         5104 (Numero de accidentes)\n",
        "* STATEN ISLAND    16 (Hora)          775 (Numero de accidentes)\n",
        "6.    ¿Cuáles son las 5 principales causas de accidentes en la ciudad?\n",
        "Se omitio : Unspecified\n",
        "* Driver Inattention/Distraction                            72203.0\n",
        "* Failure to Yield Right-of-Way                             20413.0\n",
        "* Following Too Closely                                     17909.0\n",
        "* Backing Unsafely                                          15068.0\n",
        "* Passing Too Closely                                       13378.0"
      ]
    },
    {
      "cell_type": "code",
      "metadata": {
        "id": "pf5H533Td6V1"
      },
      "source": [
        "# Use la siguiente informacipón de cada comuna (\"borough\") para realizar los análisis\n",
        "\n",
        "borough_data = {'bronx': {'name': 'the bronx', 'population': 1471160.0, 'area': 42.1},\n",
        " 'brooklyn': {'name': 'brooklyn', 'population': 2648771.0, 'area': 70.82},\n",
        " 'manhattan': {'name': 'manhattan', 'population': 1664727.0, 'area': 22.83},\n",
        " 'queens': {'name': 'queens', 'population': 2358582.0, 'area': 108.53},\n",
        " 'staten island': {'name': 'staten island', 'population': 479458.0, 'area': 58.37}}"
      ],
      "execution_count": null,
      "outputs": []
    },
    {
      "cell_type": "markdown",
      "metadata": {
        "id": "QP-Y4A-3d6V2"
      },
      "source": [
        "Tenemos las siguientes columnas\n",
        "\n",
        "     Borough: el comuna en el que ocurrió el accidente.\n",
        "     COLLISION_ID: un identificador único para esta colisión\n",
        "     CONTRIBUTING FACTOR VEHICLE (1, 2, 3, 4, 5): Motivos del accidente\n",
        "     CROSS STREET : Calle transversal más cercana al lugar de los accidentes\n",
        "     DATE: Fecha del accidente\n",
        "     TIME: Hora del accidente\n",
        "     DATETIME: la columna que creamos anteriormente con la combinación de fecha y hora\n",
        "     LATITUDE: Latitud del accidente\n",
        "     LONGITUDE: Longitud del accidente\n",
        "     NUMBER OF (CYCLIST, MOTORIST, PEDESTRIANS) INJURED: Lesión por categoría\n",
        "     NUMBER OF (CYCLIST, MOTORIST, PEDESTRIANS) KILLED: Categoría muerte sabia\n",
        "     ON STREET NAME: Calle donde ocurrió el accidente\n",
        "     TOTAL INJURED: Total de heridos por el accidente\n",
        "     TOTAL KILLED: Total de bajas en el accidente\n",
        "     VEHICLE TYPE CODE (1, 2, 3, 4, 5): Tipos de vehículos involucrados en el accidente\n",
        "     ZIP CODE: código postal del lugar del accidente"
      ]
    },
    {
      "cell_type": "markdown",
      "metadata": {
        "id": "KsHqg54gd6V3"
      },
      "source": [
        "Primero cargue los datos del csv a un dataframe.\n",
        "\n",
        "**Nota:** El archivo se encuentra separado por punto y coma ( ; ) en lugar de coma ( , ), así que se debe ingresar el parámetro sep para leer el archivo. Aquí puede encontrar información:\n",
        "\n",
        "https://pandas.pydata.org/pandas-docs/stable/reference/api/pandas.read_csv.html#pandas.read_csv"
      ]
    },
    {
      "cell_type": "code",
      "metadata": {
        "colab": {
          "resources": {
            "http://localhost:8080/nbextensions/google.colab/files.js": {
              "data": "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",
              "ok": true,
              "headers": [
                [
                  "content-type",
                  "application/javascript"
                ]
              ],
              "status": 200,
              "status_text": ""
            }
          },
          "base_uri": "https://localhost:8080/",
          "height": 38
        },
        "id": "8FuVciVZrNn6",
        "outputId": "320bbb62-1f14-444a-826d-3e98a0523c1f"
      },
      "source": [
        "from google.colab import files\n",
        "uploaded = files.upload()"
      ],
      "execution_count": null,
      "outputs": [
        {
          "output_type": "display_data",
          "data": {
            "text/html": [
              "\n",
              "     <input type=\"file\" id=\"files-5c8c9700-903b-4558-bb5c-448b89caafd5\" name=\"files[]\" multiple disabled\n",
              "        style=\"border:none\" />\n",
              "     <output id=\"result-5c8c9700-903b-4558-bb5c-448b89caafd5\">\n",
              "      Upload widget is only available when the cell has been executed in the\n",
              "      current browser session. Please rerun this cell to enable.\n",
              "      </output>\n",
              "      <script src=\"/nbextensions/google.colab/files.js\"></script> "
            ],
            "text/plain": [
              "<IPython.core.display.HTML object>"
            ]
          },
          "metadata": {}
        }
      ]
    },
    {
      "cell_type": "code",
      "metadata": {
        "id": "-lIQwE70d6V3",
        "colab": {
          "base_uri": "https://localhost:8080/"
        },
        "outputId": "723f5272-7c17-4054-f14f-0f4494343470"
      },
      "source": [
        "# Escriba su código aquí\n",
        "#df = pd.read_csv('accidents_sample.csv', sep= ';')\n",
        "df = pd.read_csv('/content/sample_data/accidents.csv', sep= ';')\n",
        "pd.options.display.max_columns = 5\n",
        "print(df)"
      ],
      "execution_count": null,
      "outputs": [
        {
          "output_type": "stream",
          "name": "stdout",
          "text": [
            "              DATE   TIME  ... VEHICLE TYPE CODE 4  VEHICLE TYPE CODE 5\n",
            "0       09/26/2018  12:12  ...                 NaN                  NaN\n",
            "1       09/25/2018  16:30  ...                 NaN                  NaN\n",
            "2       08/22/2019  19:30  ...                 NaN                  NaN\n",
            "3       09/23/2018  13:10  ...                 NaN                  NaN\n",
            "4       08/20/2019  22:40  ...                 NaN                  NaN\n",
            "...            ...    ...  ...                 ...                  ...\n",
            "238517  01/20/2018  15:00  ...                 NaN                  NaN\n",
            "238518  01/04/2018  14:00  ...                 NaN                  NaN\n",
            "238519  01/20/2018  13:05  ...                 NaN                  NaN\n",
            "238520  01/29/2018  17:45  ...                 NaN                  NaN\n",
            "238521  01/23/2018  16:38  ...                 NaN                  NaN\n",
            "\n",
            "[238522 rows x 24 columns]\n"
          ]
        }
      ]
    },
    {
      "cell_type": "markdown",
      "metadata": {
        "id": "icNi1Weed6V4"
      },
      "source": [
        "## Parte 1: Accidentes a lo largo del tiempo\n",
        "\n",
        "Agrupe los datos disponibles mensualmente y genere una gráfica lineal de accidentes a lo largo del tiempo. ¿Ha aumentado el número de accidentes durante el último año y medio?"
      ]
    },
    {
      "cell_type": "code",
      "metadata": {
        "id": "K876XaNBd6V6",
        "colab": {
          "base_uri": "https://localhost:8080/",
          "height": 698
        },
        "outputId": "c2052ab6-db86-4e84-b07c-a19115fce6d1"
      },
      "source": [
        "# Numero de accidentes a lo largo del tiempo\n",
        "dfg_mes = df['DATE']\n",
        "dfg_mes= dfg_mes.groupby(pd.PeriodIndex(df['DATE'], freq='M')).count()\n",
        "print(dfg_mes)\n",
        "dfg_mes.plot(kind='line',color='m');\n",
        "plt.ylabel(\"Número Accidentes\")\n",
        "plt.xlabel(\"Fecha\")\n",
        "plt.title(\"Número de accidentes por mes\")\n",
        "plt.legend()\n",
        "#Los accidentes disminuyeron"
      ],
      "execution_count": null,
      "outputs": [
        {
          "output_type": "stream",
          "name": "stdout",
          "text": [
            "DATE\n",
            "2018-01    11735\n",
            "2018-02    10395\n",
            "2018-03    12519\n",
            "2018-04    11679\n",
            "2018-05    13438\n",
            "2018-06    13314\n",
            "2018-07    12787\n",
            "2018-08    12644\n",
            "2018-09    12425\n",
            "2018-10    13336\n",
            "2018-11    12447\n",
            "2018-12    12479\n",
            "2019-01    11000\n",
            "2019-02    10310\n",
            "2019-03    11482\n",
            "2019-04    10833\n",
            "2019-05    12642\n",
            "2019-06    12577\n",
            "2019-07    12014\n",
            "2019-08     8466\n",
            "Freq: M, Name: DATE, dtype: int64\n"
          ]
        },
        {
          "output_type": "execute_result",
          "data": {
            "text/plain": [
              "<matplotlib.legend.Legend at 0x7f2bcec36d10>"
            ]
          },
          "metadata": {},
          "execution_count": 72
        },
        {
          "output_type": "display_data",
          "data": {
            "image/png": "[encoded data removed]",
            "text/plain": [
              "<Figure size 432x288 with 1 Axes>"
            ]
          },
          "metadata": {
            "needs_background": "light"
          }
        }
      ]
    },
    {
      "cell_type": "markdown",
      "metadata": {
        "id": "NqOw_sajd6V7"
      },
      "source": [
        "## Parte 2: Puntos calientes de accidentes en un día\n",
        "\n",
        "¿Cómo varía el número de accidentes a lo largo de un solo día? Cree una nueva columna HORA basada en los datos de la columna DATETIME, luego trace un gráfico de barras de la distribución por hora a lo largo del día."
      ]
    },
    {
      "cell_type": "code",
      "metadata": {
        "id": "IC6Do3s3d6V8",
        "colab": {
          "base_uri": "https://localhost:8080/",
          "height": 329
        },
        "outputId": "842209b7-1909-434c-9413-cc7df6290cac"
      },
      "source": [
        "# Numero de accidentes distribuidos en un día\n",
        "df['TIME'] = pd.to_datetime(df['TIME'])\n",
        "df['HOUR'] = df['TIME'].dt.hour\n",
        "dfg_hour = df.groupby('HOUR').size()\n",
        "plt.bar(dfg_hour.index, dfg_hour.values, color=\"m\")\n",
        "plt.ylabel(\"Número de accidentes\")\n",
        "plt.xlabel(\"Horas\")\n",
        "plt.title(\"Número de accidentes por hora\")\n",
        "plt.legend()"
      ],
      "execution_count": null,
      "outputs": [
        {
          "output_type": "stream",
          "name": "stderr",
          "text": [
            "No handles with labels found to put in legend.\n"
          ]
        },
        {
          "output_type": "execute_result",
          "data": {
            "text/plain": [
              "<matplotlib.legend.Legend at 0x7f2bceb732d0>"
            ]
          },
          "metadata": {},
          "execution_count": 73
        },
        {
          "output_type": "display_data",
          "data": {
            "image/png": "[encoded data removed]",
            "text/plain": [
              "<Figure size 432x288 with 1 Axes>"
            ]
          },
          "metadata": {
            "needs_background": "light"
          }
        }
      ]
    },
    {
      "cell_type": "markdown",
      "metadata": {
        "id": "DbVnzWWGd6V8"
      },
      "source": [
        "## Parte 3: Accidentes por día laborable\n",
        "\n",
        "¿Cómo varía el número de accidentes en una sola semana? Trace un gráfico de barras basado en el recuento de accidentes por día de la semana."
      ]
    },
    {
      "cell_type": "code",
      "metadata": {
        "id": "wjmKw6mGd6V8",
        "colab": {
          "base_uri": "https://localhost:8080/",
          "height": 465
        },
        "outputId": "f5ccfa37-bab8-45da-f353-e17473b3370b"
      },
      "source": [
        "# Por dia de la semana\n",
        "df['DATE'] = pd.to_datetime(df['DATE'])\n",
        "dfg_wd= df.groupby(df['DATE'].dt.weekday).size()\n",
        "plt.bar(dfg_wd.index, dfg_wd.values, color=\"m\")\n",
        "plt.ylabel(\"Número de accidentes\")\n",
        "plt.xlabel(\"Dias de la semana\")\n",
        "plt.title(\"Número de accidentes por dias de la semana\")\n",
        "plt.legend()\n",
        "print(dfg_wd)"
      ],
      "execution_count": null,
      "outputs": [
        {
          "output_type": "stream",
          "name": "stderr",
          "text": [
            "No handles with labels found to put in legend.\n"
          ]
        },
        {
          "output_type": "stream",
          "name": "stdout",
          "text": [
            "DATE\n",
            "0    34719\n",
            "1    35651\n",
            "2    35188\n",
            "3    36254\n",
            "4    37886\n",
            "5    31784\n",
            "6    27040\n",
            "dtype: int64\n"
          ]
        },
        {
          "output_type": "display_data",
          "data": {
            "image/png": "[encoded data removed]",
            "text/plain": [
              "<Figure size 432x288 with 1 Axes>"
            ]
          },
          "metadata": {
            "needs_background": "light"
          }
        }
      ]
    },
    {
      "cell_type": "code",
      "metadata": {
        "colab": {
          "base_uri": "https://localhost:8080/",
          "height": 411
        },
        "id": "lpYSnMVo_0SM",
        "outputId": "b5fb3735-9308-4082-a650-1e3a2b5efd73"
      },
      "source": [
        "# Por nombre del dia de la semana\n",
        "import calendar\n",
        "df['DATE'] = pd.to_datetime(df['DATE'])\n",
        "dfg_wd= df.groupby(df['DATE'].dt.day_name()).size()\n",
        "plt.figure(figsize=(10, 3))\n",
        "plt.bar(dfg_wd.index, dfg_wd.values, color=\"m\")\n",
        "plt.ylabel(\"Número de accidentes\")\n",
        "plt.xlabel(\"Dias de la semana\")\n",
        "plt.title(\"Número de accidentes por dias de la semana\")\n",
        "plt.legend()\n",
        "\n",
        "print(dfg_wd)"
      ],
      "execution_count": null,
      "outputs": [
        {
          "output_type": "stream",
          "name": "stderr",
          "text": [
            "No handles with labels found to put in legend.\n"
          ]
        },
        {
          "output_type": "stream",
          "name": "stdout",
          "text": [
            "DATE\n",
            "Friday       37886\n",
            "Monday       34719\n",
            "Saturday     31784\n",
            "Sunday       27040\n",
            "Thursday     36254\n",
            "Tuesday      35651\n",
            "Wednesday    35188\n",
            "dtype: int64\n"
          ]
        },
        {
          "output_type": "display_data",
          "data": {
            "image/png": "[encoded data removed]",
            "text/plain": [
              "<Figure size 720x216 with 1 Axes>"
            ]
          },
          "metadata": {
            "needs_background": "light"
          }
        }
      ]
    },
    {
      "cell_type": "markdown",
      "metadata": {
        "id": "7fNI3lqed6V9"
      },
      "source": [
        "## Parte 4: Análisis de comuna\n",
        "\n",
        "Trace un gráfico de barras del número total de accidentes en cada comuna, así como uno de los accidentes por kilómetro cuadrado por comuna. ¿Qué puedes concluir?"
      ]
    },
    {
      "cell_type": "code",
      "metadata": {
        "id": "ZDt6VtoTd6V9",
        "colab": {
          "base_uri": "https://localhost:8080/",
          "height": 329
        },
        "outputId": "de670c0f-4dfd-4994-fa86-0bbcc4a65015"
      },
      "source": [
        "# Número de accidentes por comuna\n",
        "dfg_c= df.groupby(df['BOROUGH']).size()\n",
        "print(dfg_c)\n",
        "plt.bar(dfg_c.index, dfg_c.values, color=\"m\")\n",
        "plt.ylabel(\"Número de accidentes\")\n",
        "plt.xlabel(\"comuna\")\n",
        "plt.title(\"Número de accidentes por comuna\")\n",
        "plt.legend()"
      ],
      "execution_count": null,
      "outputs": [
        {
          "output_type": "stream",
          "name": "stderr",
          "text": [
            "No handles with labels found to put in legend.\n"
          ]
        },
        {
          "output_type": "execute_result",
          "data": {
            "text/plain": [
              "<matplotlib.legend.Legend at 0x7f2bca01d410>"
            ]
          },
          "metadata": {},
          "execution_count": 130
        },
        {
          "output_type": "display_data",
          "data": {
            "image/png": "[encoded data removed]",
            "text/plain": [
              "<Figure size 432x288 with 1 Axes>"
            ]
          },
          "metadata": {
            "needs_background": "light"
          }
        }
      ]
    },
    {
      "cell_type": "code",
      "metadata": {
        "colab": {
          "base_uri": "https://localhost:8080/",
          "height": 329
        },
        "id": "Q2J7VBYOWe8E",
        "outputId": "b5942e60-3642-4c71-8409-f3ce67a35e9a"
      },
      "source": [
        "# Escriba su código aquí Número de accidentes por comuna por area\n",
        "dfg_ca= df.groupby(df['BOROUGH']).size()\n",
        "\n",
        "indexList = dfg_ca.index.tolist()\n",
        "listValues = dfg_ca.values\n",
        "index = 0\n",
        "for key in indexList:\n",
        "  key = str(key).lower()  \n",
        "  listValues[index] = dfg_ca.values[index]/borough_data[key]['area']\n",
        "  index = index + 1\n",
        "\n",
        "plt.bar(dfg_ca.index, listValues, color=\"m\")\n",
        "plt.ylabel(\"Número de accidentes\")\n",
        "plt.xlabel(\"comuna\")\n",
        "plt.title(\"Número de accidentes por comuna por area\")\n",
        "plt.legend()\n",
        "\n"
      ],
      "execution_count": null,
      "outputs": [
        {
          "output_type": "stream",
          "name": "stderr",
          "text": [
            "No handles with labels found to put in legend.\n"
          ]
        },
        {
          "output_type": "execute_result",
          "data": {
            "text/plain": [
              "<matplotlib.legend.Legend at 0x7fb420c51f10>"
            ]
          },
          "metadata": {},
          "execution_count": 21
        },
        {
          "output_type": "display_data",
          "data": {
            "image/png": "[encoded data removed]",
            "text/plain": [
              "<Figure size 432x288 with 1 Axes>"
            ]
          },
          "metadata": {
            "needs_background": "light"
          }
        }
      ]
    },
    {
      "cell_type": "code",
      "metadata": {
        "colab": {
          "base_uri": "https://localhost:8080/"
        },
        "id": "eJlt4oh8X0EN",
        "outputId": "57596ce8-9741-450c-cfc5-2aa95315ce26"
      },
      "source": [
        "print(dfg_ca)"
      ],
      "execution_count": null,
      "outputs": [
        {
          "output_type": "stream",
          "name": "stdout",
          "text": [
            "BOROUGH\n",
            "BRONX             895\n",
            "BROOKLYN         1076\n",
            "MANHATTAN        2135\n",
            "QUEENS            618\n",
            "STATEN ISLAND     148\n",
            "dtype: int64\n"
          ]
        }
      ]
    },
    {
      "cell_type": "markdown",
      "metadata": {
        "id": "T7GhKEKRd6V9"
      },
      "source": [
        "## Parte 5: Análisis por hora del comuna\n",
        "\n",
        "¿Qué horas tienen más accidentes en cada comuna? Trace un gráfico de barras para cada comuna que muestre el número de accidentes por cada hora del día."
      ]
    },
    {
      "cell_type": "code",
      "metadata": {
        "colab": {
          "base_uri": "https://localhost:8080/",
          "height": 566
        },
        "id": "oTRHpBagh5As",
        "outputId": "44913b40-6473-488d-d635-c64da54231bf"
      },
      "source": [
        "#g = sns.FacetGrid(churn, col='Attrition_Flag', height=4, aspect=1.2)\n",
        "#g.map(sns.histplot, 'Customer_Age')\n",
        "\n",
        "# Escriba su código aquí\n",
        "df['TIME'] = pd.to_datetime(df['TIME'])\n",
        "df['HOUR'] = df['TIME'].dt.hour\n",
        "\n",
        "dfg_Comuna_hour =df.groupby(['BOROUGH', 'HOUR'])['HOUR'].size().reset_index(name=\"NumAccidents\")\n",
        "print(dfg_Comuna_hour)\n",
        "\n",
        "g = sns.FacetGrid(dfg_Comuna_hour, col='BOROUGH', height=5)\n",
        "g.map(sns.histplot, 'HOUR', \"NumAccidents\")\n",
        "\n",
        "#dfg_hour.index\n",
        "#dfg_hour.values\n",
        "#print(df['BOROUGH'].unique())\n",
        "#g = sns.FacetGrid(dfg_hour, col=dfg_hour['BOROUGH'])\n",
        "#g.map(sns.histplot, dfg_hour.values)\n"
      ],
      "execution_count": null,
      "outputs": [
        {
          "output_type": "stream",
          "name": "stdout",
          "text": [
            "           BOROUGH  HOUR  NumAccidents\n",
            "0            BRONX     0          1329\n",
            "1            BRONX     1           529\n",
            "2            BRONX     2           402\n",
            "3            BRONX     3           361\n",
            "4            BRONX     4           418\n",
            "..             ...   ...           ...\n",
            "115  STATEN ISLAND    19           415\n",
            "116  STATEN ISLAND    20           367\n",
            "117  STATEN ISLAND    21           268\n",
            "118  STATEN ISLAND    22           224\n",
            "119  STATEN ISLAND    23           174\n",
            "\n",
            "[120 rows x 3 columns]\n"
          ]
        },
        {
          "output_type": "execute_result",
          "data": {
            "text/plain": [
              "<seaborn.axisgrid.FacetGrid at 0x7fb42086d1d0>"
            ]
          },
          "metadata": {},
          "execution_count": 5
        },
        {
          "output_type": "display_data",
          "data": {
            "image/png": "[encoded data removed]",
            "text/plain": [
              "<Figure size 1800x360 with 5 Axes>"
            ]
          },
          "metadata": {
            "needs_background": "light"
          }
        }
      ]
    },
    {
      "cell_type": "code",
      "metadata": {
        "colab": {
          "base_uri": "https://localhost:8080/"
        },
        "id": "tq94D_GJVsZ3",
        "outputId": "f99dcdec-c34a-4170-eed7-d437aa811dfa"
      },
      "source": [
        "# Para ver los datos de los numeros de accidentes en un rango determinado\n",
        "print(dfg_Comuna_hour.iloc[95:])"
      ],
      "execution_count": null,
      "outputs": [
        {
          "output_type": "stream",
          "name": "stdout",
          "text": [
            "           BOROUGH  HOUR  NumAccidents\n",
            "95          QUEENS    23          1528\n",
            "96   STATEN ISLAND     0           200\n",
            "97   STATEN ISLAND     1            95\n",
            "98   STATEN ISLAND     2            78\n",
            "99   STATEN ISLAND     3            65\n",
            "100  STATEN ISLAND     4            68\n",
            "101  STATEN ISLAND     5            71\n",
            "102  STATEN ISLAND     6           152\n",
            "103  STATEN ISLAND     7           241\n",
            "104  STATEN ISLAND     8           479\n",
            "105  STATEN ISLAND     9           427\n",
            "106  STATEN ISLAND    10           433\n",
            "107  STATEN ISLAND    11           454\n",
            "108  STATEN ISLAND    12           527\n",
            "109  STATEN ISLAND    13           567\n",
            "110  STATEN ISLAND    14           712\n",
            "111  STATEN ISLAND    15           596\n",
            "112  STATEN ISLAND    16           775\n",
            "113  STATEN ISLAND    17           698\n",
            "114  STATEN ISLAND    18           605\n",
            "115  STATEN ISLAND    19           415\n",
            "116  STATEN ISLAND    20           367\n",
            "117  STATEN ISLAND    21           268\n",
            "118  STATEN ISLAND    22           224\n",
            "119  STATEN ISLAND    23           174\n"
          ]
        }
      ]
    },
    {
      "cell_type": "markdown",
      "metadata": {
        "id": "6PPahsuVd6V-"
      },
      "source": [
        "## Parte 6: Causa de accidentes\n",
        "\n",
        "¿Qué factores provocan la mayoría de los accidentes?"
      ]
    },
    {
      "cell_type": "code",
      "metadata": {
        "id": "C2TiU-2gd6V-",
        "colab": {
          "base_uri": "https://localhost:8080/"
        },
        "outputId": "9a0d8215-72d6-479b-9e4f-76e80773f534"
      },
      "source": [
        "# Escriba su código aquí\n",
        "#CONTRIBUTING FACTOR VEHICLE 1\n",
        "#CONTRIBUTING FACTOR VEHICLE 2\n",
        "#CONTRIBUTING FACTOR VEHICLE 3\n",
        "#CONTRIBUTING FACTOR VEHICLE 4\n",
        "#CONTRIBUTING FACTOR VEHICLE 5\n",
        "#print(df['CONTRIBUTING FACTOR VEHICLE 1'].value_counts())\n",
        "print(pd.concat(\n",
        "    [df['CONTRIBUTING FACTOR VEHICLE 1'].value_counts(), df['CONTRIBUTING FACTOR VEHICLE 2'].value_counts(), df['CONTRIBUTING FACTOR VEHICLE 3'].value_counts(), df['CONTRIBUTING FACTOR VEHICLE 4'].value_counts(), df['CONTRIBUTING FACTOR VEHICLE 5'].value_counts()], \n",
        "    axis=1\n",
        "    ).sum(axis=1))\n"
      ],
      "execution_count": null,
      "outputs": [
        {
          "output_type": "stream",
          "name": "stdout",
          "text": [
            "Unspecified                                              240164.0\n",
            "Driver Inattention/Distraction                            72203.0\n",
            "Failure to Yield Right-of-Way                             20413.0\n",
            "Following Too Closely                                     17909.0\n",
            "Backing Unsafely                                          15068.0\n",
            "Passing Too Closely                                       13378.0\n",
            "Passing or Lane Usage Improper                            12953.0\n",
            "Other Vehicular                                           11093.0\n",
            "Turning Improperly                                         6798.0\n",
            "Unsafe Lane Changing                                       6986.0\n",
            "Traffic Control Disregarded                                5146.0\n",
            "Driver Inexperience                                        4431.0\n",
            "Unsafe Speed                                               3530.0\n",
            "Reaction to Uninvolved Vehicle                             3190.0\n",
            "Alcohol Involvement                                        2514.0\n",
            "View Obstructed/Limited                                    2537.0\n",
            "Pavement Slippery                                          2146.0\n",
            "Oversized Vehicle                                          2023.0\n",
            "Pedestrian/Bicyclist/Other Pedestrian Error/Confusion      1895.0\n",
            "Aggressive Driving/Road Rage                               1153.0\n",
            "Passenger Distraction                                      1053.0\n",
            "Brakes Defective                                            842.0\n",
            "Fell Asleep                                                 600.0\n",
            "Outside Car Distraction                                     572.0\n",
            "Glare                                                       447.0\n",
            "Obstruction/Debris                                          457.0\n",
            "Steering Failure                                            320.0\n",
            "Failure to Keep Right                                       378.0\n",
            "Pavement Defective                                          315.0\n",
            "Illnes                                                      256.0\n",
            "Driverless/Runaway Vehicle                                  247.0\n",
            "Tire Failure/Inadequate                                     220.0\n",
            "Fatigued/Drowsy                                             218.0\n",
            "Lost Consciousness                                          206.0\n",
            "Animals Action                                              189.0\n",
            "Accelerator Defective                                       143.0\n",
            "Lane Marking Improper/Inadequate                            194.0\n",
            "Drugs (illegal)                                             118.0\n",
            "Traffic Control Device Improper/Non-Working                 141.0\n",
            "Cell Phone (hand-Held)                                       94.0\n",
            "Physical Disability                                          61.0\n",
            "Other Lighting Defects                                       40.0\n",
            "Other Electronic Device                                      31.0\n",
            "Tow Hitch Defective                                          28.0\n",
            "Vehicle Vandalism                                            24.0\n",
            "Prescription Medication                                      20.0\n",
            "Tinted Windows                                               27.0\n",
            "Using On Board Navigation Device                             19.0\n",
            "Eating or Drinking                                           16.0\n",
            "Headlights Defective                                         17.0\n",
            "Texting                                                      13.0\n",
            "Shoulders Defective/Improper                                  9.0\n",
            "Cell Phone (hands-free)                                      12.0\n",
            "Windshield Inadequate                                         8.0\n",
            "Listening/Using Headphones                                    7.0\n",
            "dtype: float64\n"
          ]
        }
      ]
    }
  ]
}
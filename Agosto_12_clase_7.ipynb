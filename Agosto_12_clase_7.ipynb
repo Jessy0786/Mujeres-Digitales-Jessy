{
  "nbformat": 4,
  "nbformat_minor": 0,
  "metadata": {
    "colab": {
      "name": "Agosto 12 clase 7",
      "provenance": [],
      "collapsed_sections": [],
      "authorship_tag": "ABX9TyNJ3gdqh1NoH3bbjggbJVGd",
      "include_colab_link": true
    },
    "kernelspec": {
      "name": "python3",
      "display_name": "Python 3"
    },
    "language_info": {
      "name": "python"
    }
  },
  "cells": [
    {
      "cell_type": "markdown",
      "metadata": {
        "id": "view-in-github",
        "colab_type": "text"
      },
      "source": [
        "<a href=\"https://colab.research.google.com/github/Jessy0786/Mujeres-Digitales-Jessy/blob/main/Agosto_12_clase_7.ipynb\" target=\"_parent\"><img src=\"https://colab.research.google.com/assets/colab-badge.svg\" alt=\"Open In Colab\"/></a>"
      ]
    },
    {
      "cell_type": "markdown",
      "metadata": {
        "id": "cDYWE5nQzIjw"
      },
      "source": [
        "# **Continuación de funciones**\n",
        "Recorderis de la clase pasada\n",
        "\n"
      ]
    },
    {
      "cell_type": "code",
      "metadata": {
        "colab": {
          "base_uri": "https://localhost:8080/"
        },
        "id": "31E8F-QlzZ-2",
        "outputId": "f86a7dbc-41ef-48c3-da27-ded6c9c96db6"
      },
      "source": [
        "def suma(a,b,c,d=2):\n",
        "  return a+b+c+d\n",
        "suma(1,2,3,4)"
      ],
      "execution_count": null,
      "outputs": [
        {
          "output_type": "execute_result",
          "data": {
            "text/plain": [
              "10"
            ]
          },
          "metadata": {
            "tags": []
          },
          "execution_count": 2
        }
      ]
    },
    {
      "cell_type": "code",
      "metadata": {
        "id": "OKR_p4wY2N6G"
      },
      "source": [
        "def suma(number):\n",
        "  total=0\n",
        "  for i in number:\n",
        "    total+=i\n",
        "  return total\n",
        "suma([1,2,3,4])"
      ],
      "execution_count": null,
      "outputs": []
    },
    {
      "cell_type": "code",
      "metadata": {
        "colab": {
          "base_uri": "https://localhost:8080/"
        },
        "id": "PH0WGcMa0VqP",
        "outputId": "472bed4b-37b3-45fb-8ea2-be4a37d48268"
      },
      "source": [
        "def suma(*number):\n",
        "  total=0\n",
        "  for i in number:\n",
        "    total+=i\n",
        "  return total\n",
        "suma(1,2,3,4)"
      ],
      "execution_count": null,
      "outputs": [
        {
          "output_type": "execute_result",
          "data": {
            "text/plain": [
              "10"
            ]
          },
          "metadata": {
            "tags": []
          },
          "execution_count": 3
        }
      ]
    },
    {
      "cell_type": "markdown",
      "metadata": {
        "id": "iVYddICJ2guC"
      },
      "source": [
        "EL USo DEL DOBLE **\n",
        "\n",
        "nos permite tener como parametro de entrada una lista de elementos en forma de clave y valor,la forma de iterar sera usando el comenado item"
      ]
    },
    {
      "cell_type": "code",
      "metadata": {
        "colab": {
          "base_uri": "https://localhost:8080/"
        },
        "id": "fBeOig8S2X-E",
        "outputId": "485e56e4-637a-4b3a-bf04-4989e5a512aa"
      },
      "source": [
        "def suma(**dado):\n",
        "  suma=0\n",
        "  for i,j in dado.items():\n",
        "    suma +=j\n",
        "  return suma\n",
        "suma(a=1,b=1,c=1)"
      ],
      "execution_count": null,
      "outputs": [
        {
          "output_type": "execute_result",
          "data": {
            "text/plain": [
              "3"
            ]
          },
          "metadata": {
            "tags": []
          },
          "execution_count": 20
        }
      ]
    },
    {
      "cell_type": "markdown",
      "metadata": {
        "id": "CLDfo-9c3-KX"
      },
      "source": [
        "# Ampliemos la definicion del comando return \n",
        "\n",
        "1. Devolver parametros"
      ]
    },
    {
      "cell_type": "code",
      "metadata": {
        "colab": {
          "base_uri": "https://localhost:8080/",
          "height": 35
        },
        "id": "8G6OBs0n4Uuh",
        "outputId": "2730ea76-c68b-4c80-89db-e0df90d3753a"
      },
      "source": [
        "def w():\n",
        "  return \"Hola Jessy\"\n",
        "\n",
        "w()"
      ],
      "execution_count": null,
      "outputs": [
        {
          "output_type": "execute_result",
          "data": {
            "application/vnd.google.colaboratory.intrinsic+json": {
              "type": "string"
            },
            "text/plain": [
              "'hola jessy'"
            ]
          },
          "metadata": {
            "tags": []
          },
          "execution_count": 23
        }
      ]
    },
    {
      "cell_type": "markdown",
      "metadata": {
        "id": "TMPhdQTl4tEj"
      },
      "source": [
        "2. Devolver varias variables"
      ]
    },
    {
      "cell_type": "code",
      "metadata": {
        "colab": {
          "base_uri": "https://localhost:8080/"
        },
        "id": "XT7k1xS_4yBl",
        "outputId": "b3a9930e-1939-4f46-8973-2fb81add7f21"
      },
      "source": [
        "def sd(a,b,c):\n",
        "  q=a+b+c #declaracion de variable con una suma de argumentos\n",
        "  z=q/3 #declaracion de variable con un promedio\n",
        "  return q,z\n",
        "q,z=sd(1,2,3)\n",
        "print(q)\n",
        "print(z)\n"
      ],
      "execution_count": null,
      "outputs": [
        {
          "output_type": "stream",
          "text": [
            "6\n",
            "2.0\n"
          ],
          "name": "stdout"
        }
      ]
    },
    {
      "cell_type": "markdown",
      "metadata": {
        "id": "weFLCnJ85o7Z"
      },
      "source": [
        "# 3. formas de hacer documentacion en programas y por bloques de codigo o linea\n",
        "\n",
        "\n",
        "\n"
      ]
    },
    {
      "cell_type": "code",
      "metadata": {
        "colab": {
          "base_uri": "https://localhost:8080/"
        },
        "id": "UJCwIe15556V",
        "outputId": "8d6f9660-0cc5-4028-a5ef-897852dc1aae"
      },
      "source": [
        "def paula(a,b):\n",
        "  return a+b\n",
        "paula(2,1)\n"
      ],
      "execution_count": null,
      "outputs": [
        {
          "output_type": "execute_result",
          "data": {
            "text/plain": [
              "3"
            ]
          },
          "metadata": {
            "tags": []
          },
          "execution_count": 36
        }
      ]
    },
    {
      "cell_type": "code",
      "metadata": {
        "id": "rvRnYSwa6mh7"
      },
      "source": [
        "def paula(a,b):\n",
        "  \"\"\"\n",
        "  esto es un comentario \n",
        "  \"\"\"\n",
        "  return a+b\n"
      ],
      "execution_count": null,
      "outputs": []
    },
    {
      "cell_type": "code",
      "metadata": {
        "colab": {
          "base_uri": "https://localhost:8080/"
        },
        "id": "YgDzMlJ47H_n",
        "outputId": "ae4f683d-0073-4aba-ec04-27a4cdac7a2e"
      },
      "source": [
        "print(paula.__doc__)"
      ],
      "execution_count": null,
      "outputs": [
        {
          "output_type": "stream",
          "text": [
            "None\n"
          ],
          "name": "stdout"
        }
      ]
    },
    {
      "cell_type": "code",
      "metadata": {
        "colab": {
          "base_uri": "https://localhost:8080/"
        },
        "id": "CnM6Tp6_64Mp",
        "outputId": "791a7f31-7b09-4dd8-927d-bf8f12f2ddc9"
      },
      "source": [
        "help(paula)"
      ],
      "execution_count": null,
      "outputs": [
        {
          "output_type": "stream",
          "text": [
            "Help on function paula in module __main__:\n",
            "\n",
            "paula(a, b)\n",
            "\n"
          ],
          "name": "stdout"
        }
      ]
    },
    {
      "cell_type": "markdown",
      "metadata": {
        "id": "x9OFyiL68bnq"
      },
      "source": [
        "# Diferencia entre valores y referencias\n",
        "Existen 2 conceptos de paso por valor y por referencia que aplican a la hora de tratar a los parametros de entrada de una funcion:\n",
        "\n",
        "1. si se usa un parametro que pasa por valor, se crea una copia local de la variable, lo cual implica que cualquier modificacion sobre esta no tendra repercuciones sobre la base original\n",
        "2. si la variable pasa como referencia, si actuara directamente sobre la base original."
      ]
    },
    {
      "cell_type": "code",
      "metadata": {
        "colab": {
          "base_uri": "https://localhost:8080/"
        },
        "id": "jRG_FDIx9rRH",
        "outputId": "2a02ea0a-899a-4926-b85e-f0ad58dd262a"
      },
      "source": [
        "#ejemplo de paso por valor\n",
        "x=3 \n",
        "def funcion(w):\n",
        "  w=0\n",
        "funcion(x)\n",
        "print(x)"
      ],
      "execution_count": null,
      "outputs": [
        {
          "output_type": "stream",
          "text": [
            "3\n"
          ],
          "name": "stdout"
        }
      ]
    }
  ]
}
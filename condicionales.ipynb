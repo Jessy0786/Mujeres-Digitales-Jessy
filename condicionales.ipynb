{
  "nbformat": 4,
  "nbformat_minor": 0,
  "metadata": {
    "colab": {
      "name": "condicionales",
      "provenance": [],
      "collapsed_sections": [],
      "authorship_tag": "ABX9TyOF3N3tpgH1EYB9G8qAnFIr",
      "include_colab_link": true
    },
    "kernelspec": {
      "name": "python3",
      "display_name": "Python 3"
    },
    "language_info": {
      "name": "python"
    }
  },
  "cells": [
    {
      "cell_type": "markdown",
      "metadata": {
        "id": "view-in-github",
        "colab_type": "text"
      },
      "source": [
        "<a href=\"https://colab.research.google.com/github/Jessy0786/Mujeres-Digitales-Jessy/blob/main/condicionales.ipynb\" target=\"_parent\"><img src=\"https://colab.research.google.com/assets/colab-badge.svg\" alt=\"Open In Colab\"/></a>"
      ]
    },
    {
      "cell_type": "markdown",
      "metadata": {
        "id": "wghI8zja7EAZ"
      },
      "source": [
        "# Condicionales\n",
        "En programación, una sentencia condicional es una instrucción o grupo de instrucciones que se pueden ejecutar o no en función del valor de una condición."
      ]
    },
    {
      "cell_type": "code",
      "metadata": {
        "colab": {
          "base_uri": "https://localhost:8080/"
        },
        "id": "ueijWCEZ7V2U",
        "outputId": "91ba7419-8e8c-4c64-ae42-addb37cb46fb"
      },
      "source": [
        "num=input(\"escribir un numero cualquiera\")\n",
        "if num==40: \n",
        "  print(\"es igual a 40\")\n",
        "else:\n",
        "  print(\"este numero NO es 40\")"
      ],
      "execution_count": null,
      "outputs": [
        {
          "output_type": "stream",
          "text": [
            "escribir un numero cualquiera20\n",
            "este numero no es 40\n"
          ],
          "name": "stdout"
        }
      ]
    },
    {
      "cell_type": "code",
      "metadata": {
        "colab": {
          "base_uri": "https://localhost:8080/"
        },
        "id": "YcrzTAIPC-tS",
        "outputId": "c9760688-a22f-4ac2-e5e6-3d65e319c663"
      },
      "source": [
        "num=input(\"escribir una palabra cualquiera\")\n",
        "if num==\"hola\": \n",
        "  print(\"es igual a hola\")\n",
        "else:\n",
        "  print(\"esta palabra NO es hola\")"
      ],
      "execution_count": null,
      "outputs": [
        {
          "output_type": "stream",
          "text": [
            "escribir un numero cualquierahola\n",
            "es igual a hola\n"
          ],
          "name": "stdout"
        }
      ]
    },
    {
      "cell_type": "code",
      "metadata": {
        "colab": {
          "base_uri": "https://localhost:8080/"
        },
        "id": "ZRUAoXPxDYyn",
        "outputId": "c4ee6cb3-97a1-467c-a73d-065b2d5bbb06"
      },
      "source": [
        "num=int(input(\"escribir un número cualquiera\"))\n",
        "if num==23: \n",
        "  print(\"es igual a 37\")\n",
        "else:\n",
        "  print(\"este numero NO es 37\")"
      ],
      "execution_count": null,
      "outputs": [
        {
          "output_type": "stream",
          "text": [
            "escribir un número cualquiera50\n",
            "este numero NO es 37\n"
          ],
          "name": "stdout"
        }
      ]
    },
    {
      "cell_type": "code",
      "metadata": {
        "colab": {
          "base_uri": "https://localhost:8080/"
        },
        "id": "ISaUzT79FZT5",
        "outputId": "653b8af8-e33b-4c01-9d16-83cd2ec45bf2"
      },
      "source": [
        "num=int(input(\"escribir un número cualquiera\"))\n",
        "if num==50: \n",
        "  print(\"es igual a 37\")\n",
        "elif num==30:\n",
        "    print(\"es igual a 30\")\n",
        "else:\n",
        "  print(\"este numero NO es 37\")"
      ],
      "execution_count": null,
      "outputs": [
        {
          "output_type": "stream",
          "text": [
            "escribir un número cualquiera3\n",
            "este numero NO es 37\n"
          ],
          "name": "stdout"
        }
      ]
    },
    {
      "cell_type": "markdown",
      "metadata": {
        "id": "1leG6X6BH174"
      },
      "source": [
        "# Condicionales multiples"
      ]
    },
    {
      "cell_type": "code",
      "metadata": {
        "colab": {
          "base_uri": "https://localhost:8080/"
        },
        "id": "w2JuFAKVIloY",
        "outputId": "55452b5c-08da-45fa-dd9d-1a6445f9428b"
      },
      "source": [
        "x=int(input(\"valor es \"))\n",
        "if 0<x:\n",
        "    if x<10:\n",
        "      print(\"x es un numero positivo\")\n",
        "    "
      ],
      "execution_count": null,
      "outputs": [
        {
          "output_type": "stream",
          "text": [
            "valor es 3\n",
            "x es un numero positivo\n"
          ],
          "name": "stdout"
        }
      ]
    },
    {
      "cell_type": "code",
      "metadata": {
        "colab": {
          "base_uri": "https://localhost:8080/"
        },
        "id": "dNMheuY-KN1v",
        "outputId": "94919f9e-e592-4758-f9c9-c2d3c44450f9"
      },
      "source": [
        "x=int(input(\"valor es \"))\n",
        "if 0<x and x<10: \n",
        "  print(\"x es un numero positivo\")"
      ],
      "execution_count": null,
      "outputs": [
        {
          "output_type": "stream",
          "text": [
            "valor es 2\n",
            "x es un numero positivo\n"
          ],
          "name": "stdout"
        }
      ]
    },
    {
      "cell_type": "code",
      "metadata": {
        "colab": {
          "base_uri": "https://localhost:8080/"
        },
        "id": "epK0eh91KrMK",
        "outputId": "38b01bb2-dcac-400c-a034-08d5dac8e987"
      },
      "source": [
        "x=int(input(\"valor es \"))\n",
        "if 0<x<10: \n",
        "  print(\"x es un numero positivo\")"
      ],
      "execution_count": null,
      "outputs": [
        {
          "output_type": "stream",
          "text": [
            "valor es 30\n"
          ],
          "name": "stdout"
        }
      ]
    },
    {
      "cell_type": "markdown",
      "metadata": {
        "id": "GZOC-HiVKvlV"
      },
      "source": [
        "Esta condicion es la misma expresion booleana compuesta y la misma expresion condicional anidada"
      ]
    }
  ]
}
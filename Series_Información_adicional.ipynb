{
  "nbformat": 4,
  "nbformat_minor": 0,
  "metadata": {
    "colab": {
      "name": "Series: Información adicional.ipynb",
      "provenance": [],
      "collapsed_sections": [],
      "authorship_tag": "ABX9TyMHQFcSteRwvVacHFkI0TK3",
      "include_colab_link": true
    },
    "kernelspec": {
      "name": "python3",
      "display_name": "Python 3"
    },
    "language_info": {
      "name": "python"
    }
  },
  "cells": [
    {
      "cell_type": "markdown",
      "metadata": {
        "id": "view-in-github",
        "colab_type": "text"
      },
      "source": [
        "<a href=\"https://colab.research.google.com/github/Jessy0786/Mujeres-Digitales-Jessy/blob/main/Series_Informaci%C3%B3n_adicional.ipynb\" target=\"_parent\"><img src=\"https://colab.research.google.com/assets/colab-badge.svg\" alt=\"Open In Colab\"/></a>"
      ]
    },
    {
      "cell_type": "markdown",
      "metadata": {
        "id": "t4Uj_Oxe6-pW"
      },
      "source": [
        "# Como cargar un archivo en csv y un excell\n",
        "\n"
      ]
    },
    {
      "cell_type": "code",
      "metadata": {
        "colab": {
          "base_uri": "https://localhost:8080/",
          "height": 143
        },
        "id": "4n5buM_z63zu",
        "outputId": "99526fa3-f00b-49b7-eac1-10b45a3e280f"
      },
      "source": [
        "import pandas as pd\n",
        "pokemones= pd.read_csv('sample_data/pokemon_data.csv')\n",
        "pokemones.head(3)"
      ],
      "execution_count": 16,
      "outputs": [
        {
          "output_type": "execute_result",
          "data": {
            "text/html": [
              "<div>\n",
              "<style scoped>\n",
              "    .dataframe tbody tr th:only-of-type {\n",
              "        vertical-align: middle;\n",
              "    }\n",
              "\n",
              "    .dataframe tbody tr th {\n",
              "        vertical-align: top;\n",
              "    }\n",
              "\n",
              "    .dataframe thead th {\n",
              "        text-align: right;\n",
              "    }\n",
              "</style>\n",
              "<table border=\"1\" class=\"dataframe\">\n",
              "  <thead>\n",
              "    <tr style=\"text-align: right;\">\n",
              "      <th></th>\n",
              "      <th>#</th>\n",
              "      <th>Name</th>\n",
              "      <th>Type 1</th>\n",
              "      <th>Type 2</th>\n",
              "      <th>HP</th>\n",
              "      <th>Attack</th>\n",
              "      <th>Defense</th>\n",
              "      <th>Sp. Atk</th>\n",
              "      <th>Sp. Def</th>\n",
              "      <th>Speed</th>\n",
              "      <th>Generation</th>\n",
              "      <th>Legendary</th>\n",
              "    </tr>\n",
              "  </thead>\n",
              "  <tbody>\n",
              "    <tr>\n",
              "      <th>0</th>\n",
              "      <td>1</td>\n",
              "      <td>Bulbasaur</td>\n",
              "      <td>Grass</td>\n",
              "      <td>Poison</td>\n",
              "      <td>45</td>\n",
              "      <td>49</td>\n",
              "      <td>49</td>\n",
              "      <td>65</td>\n",
              "      <td>65</td>\n",
              "      <td>45</td>\n",
              "      <td>1</td>\n",
              "      <td>False</td>\n",
              "    </tr>\n",
              "    <tr>\n",
              "      <th>1</th>\n",
              "      <td>2</td>\n",
              "      <td>Ivysaur</td>\n",
              "      <td>Grass</td>\n",
              "      <td>Poison</td>\n",
              "      <td>60</td>\n",
              "      <td>62</td>\n",
              "      <td>63</td>\n",
              "      <td>80</td>\n",
              "      <td>80</td>\n",
              "      <td>60</td>\n",
              "      <td>1</td>\n",
              "      <td>False</td>\n",
              "    </tr>\n",
              "    <tr>\n",
              "      <th>2</th>\n",
              "      <td>3</td>\n",
              "      <td>Venusaur</td>\n",
              "      <td>Grass</td>\n",
              "      <td>Poison</td>\n",
              "      <td>80</td>\n",
              "      <td>82</td>\n",
              "      <td>83</td>\n",
              "      <td>100</td>\n",
              "      <td>100</td>\n",
              "      <td>80</td>\n",
              "      <td>1</td>\n",
              "      <td>False</td>\n",
              "    </tr>\n",
              "  </tbody>\n",
              "</table>\n",
              "</div>"
            ],
            "text/plain": [
              "   #       Name Type 1  Type 2  ...  Sp. Def  Speed  Generation  Legendary\n",
              "0  1  Bulbasaur  Grass  Poison  ...       65     45           1      False\n",
              "1  2    Ivysaur  Grass  Poison  ...       80     60           1      False\n",
              "2  3   Venusaur  Grass  Poison  ...      100     80           1      False\n",
              "\n",
              "[3 rows x 12 columns]"
            ]
          },
          "metadata": {},
          "execution_count": 16
        }
      ]
    },
    {
      "cell_type": "code",
      "metadata": {
        "colab": {
          "base_uri": "https://localhost:8080/",
          "height": 166
        },
        "id": "rQCeQU4u9ANG",
        "outputId": "0f3f0abe-144c-4c55-c654-bdc1b5e8e0de"
      },
      "source": [
        "import numpy as np\n",
        "z= pd.read_excel('sample_data/Libro1.xlsx')\n",
        "print(z)\n",
        "z.head(3)"
      ],
      "execution_count": 14,
      "outputs": [
        {
          "output_type": "stream",
          "name": "stdout",
          "text": [
            "   wdawd awdawd awdawd.1 wdawd.1\n",
            "0  dwdwd  dwdaw    dwdwa   wdawd\n",
            "1  rgggg   hhhh      jjj    jjjj\n"
          ]
        },
        {
          "output_type": "execute_result",
          "data": {
            "text/html": [
              "<div>\n",
              "<style scoped>\n",
              "    .dataframe tbody tr th:only-of-type {\n",
              "        vertical-align: middle;\n",
              "    }\n",
              "\n",
              "    .dataframe tbody tr th {\n",
              "        vertical-align: top;\n",
              "    }\n",
              "\n",
              "    .dataframe thead th {\n",
              "        text-align: right;\n",
              "    }\n",
              "</style>\n",
              "<table border=\"1\" class=\"dataframe\">\n",
              "  <thead>\n",
              "    <tr style=\"text-align: right;\">\n",
              "      <th></th>\n",
              "      <th>wdawd</th>\n",
              "      <th>awdawd</th>\n",
              "      <th>awdawd.1</th>\n",
              "      <th>wdawd.1</th>\n",
              "    </tr>\n",
              "  </thead>\n",
              "  <tbody>\n",
              "    <tr>\n",
              "      <th>0</th>\n",
              "      <td>dwdwd</td>\n",
              "      <td>dwdaw</td>\n",
              "      <td>dwdwa</td>\n",
              "      <td>wdawd</td>\n",
              "    </tr>\n",
              "    <tr>\n",
              "      <th>1</th>\n",
              "      <td>rgggg</td>\n",
              "      <td>hhhh</td>\n",
              "      <td>jjj</td>\n",
              "      <td>jjjj</td>\n",
              "    </tr>\n",
              "  </tbody>\n",
              "</table>\n",
              "</div>"
            ],
            "text/plain": [
              "   wdawd awdawd awdawd.1 wdawd.1\n",
              "0  dwdwd  dwdaw    dwdwa   wdawd\n",
              "1  rgggg   hhhh      jjj    jjjj"
            ]
          },
          "metadata": {},
          "execution_count": 14
        }
      ]
    },
    {
      "cell_type": "markdown",
      "metadata": {
        "id": "CkpPJj63_Mb9"
      },
      "source": [
        "# Filtros basicos"
      ]
    },
    {
      "cell_type": "code",
      "metadata": {
        "id": "O9bEhjI7_KqQ"
      },
      "source": [
        "#Filtros generales ------ informacion adicional\n",
        "visitas= pd.read_excel('sample_data/VIsitas.xlsx')\n",
        "print(visitas)\n",
        "print('-------------------Comando para imprimir determinado numero de filas--------------')\n",
        "#comando para imprimir determinado numero de filas(en este caso puse 5, pueden ser las que uno quiera)\n",
        "print(visitas.head(5))\n",
        "print('----------Nos dice cuantas columnas y cuantas filas tiene el dataframe------------')\n",
        "print('------------------------En este caso son 11 filas, 4 columnas----------------------')\n",
        "print(visitas.shape)\n",
        "print('------------------- Imprimir la lista de columnas que tiene el dataframe--------------')\n",
        "print(list(visitas))\n",
        "print('------------------- Imprimir el nombre y el tipo de datos de las columnas --------------')\n",
        "print(visitas.dtypes)"
      ],
      "execution_count": null,
      "outputs": []
    },
    {
      "cell_type": "code",
      "metadata": {
        "id": "8fXJGq4x_bRP"
      },
      "source": [
        "print('----------------mostrar el contenido de una columna-------------------')\n",
        "print(visitas['PaisesVisitado'])"
      ],
      "execution_count": null,
      "outputs": []
    },
    {
      "cell_type": "code",
      "metadata": {
        "id": "hgLTiBEQ_ft4"
      },
      "source": [
        "# mostrar el contenido de varias columnas (se imprimen en el orden que uno las ponga)\n",
        "print(visitas[['PaisesVisitado','PueblosNoVisitados','Pueblos visitados' ]])"
      ],
      "execution_count": null,
      "outputs": []
    },
    {
      "cell_type": "code",
      "metadata": {
        "id": "xohF-_21_mZ_"
      },
      "source": [
        "#seleccionar los primeros renglones(filas) del dataframe\n",
        "print(visitas[:3])"
      ],
      "execution_count": null,
      "outputs": []
    },
    {
      "cell_type": "code",
      "metadata": {
        "id": "Bl-Buip0_p2_"
      },
      "source": [
        "#seleccionar la ultima filas del dataframe\n",
        "print(visitas[-1:])"
      ],
      "execution_count": null,
      "outputs": []
    },
    {
      "cell_type": "markdown",
      "metadata": {
        "id": "fO1njfsw_3jm"
      },
      "source": [
        "# Escribir archivo csv"
      ]
    },
    {
      "cell_type": "code",
      "metadata": {
        "colab": {
          "base_uri": "https://localhost:8080/",
          "height": 193
        },
        "id": "KFHZimYEAOMA",
        "outputId": "888487e1-1eae-4f52-d358-646e1a3f6a6f"
      },
      "source": [
        "# Crear archivo desde cero\n",
        "import csv\n",
        "\n",
        "with open('exampleEDUARDO.csv', 'w') as csvfile:\n",
        "    fieldnames = ['first_name', 'last_name', 'Grade']\n",
        "    writer = csv.DictWriter(csvfile, fieldnames=fieldnames)\n",
        " \n",
        "    writer.writeheader()\n",
        "    writer.writerow({'Grade': 'B', 'first_name': 'Eduardo', 'last_name': 'Brian'})\n",
        "    writer.writerow({'Grade': 'A', 'first_name': 'Rachael','last_name': 'Rodriguez'})\n",
        "    writer.writerow({'Grade': 'B', 'first_name': 'Jane', 'last_name': 'Oscar'})\n",
        "    writer.writerow({'Grade': 'B', 'first_name': 'Jane', 'last_name': 'Loive'})\n",
        " \n",
        "print(\"Writing complete\")\n",
        "algo1= pd.read_csv('/content/exampleEDUARDO.csv')\n",
        "algo1"
      ],
      "execution_count": 19,
      "outputs": [
        {
          "output_type": "stream",
          "name": "stdout",
          "text": [
            "Writing complete\n"
          ]
        },
        {
          "output_type": "execute_result",
          "data": {
            "text/html": [
              "<div>\n",
              "<style scoped>\n",
              "    .dataframe tbody tr th:only-of-type {\n",
              "        vertical-align: middle;\n",
              "    }\n",
              "\n",
              "    .dataframe tbody tr th {\n",
              "        vertical-align: top;\n",
              "    }\n",
              "\n",
              "    .dataframe thead th {\n",
              "        text-align: right;\n",
              "    }\n",
              "</style>\n",
              "<table border=\"1\" class=\"dataframe\">\n",
              "  <thead>\n",
              "    <tr style=\"text-align: right;\">\n",
              "      <th></th>\n",
              "      <th>first_name</th>\n",
              "      <th>last_name</th>\n",
              "      <th>Grade</th>\n",
              "    </tr>\n",
              "  </thead>\n",
              "  <tbody>\n",
              "    <tr>\n",
              "      <th>0</th>\n",
              "      <td>Eduardo</td>\n",
              "      <td>Brian</td>\n",
              "      <td>B</td>\n",
              "    </tr>\n",
              "    <tr>\n",
              "      <th>1</th>\n",
              "      <td>Rachael</td>\n",
              "      <td>Rodriguez</td>\n",
              "      <td>A</td>\n",
              "    </tr>\n",
              "    <tr>\n",
              "      <th>2</th>\n",
              "      <td>Jane</td>\n",
              "      <td>Oscar</td>\n",
              "      <td>B</td>\n",
              "    </tr>\n",
              "    <tr>\n",
              "      <th>3</th>\n",
              "      <td>Jane</td>\n",
              "      <td>Loive</td>\n",
              "      <td>B</td>\n",
              "    </tr>\n",
              "  </tbody>\n",
              "</table>\n",
              "</div>"
            ],
            "text/plain": [
              "  first_name  last_name Grade\n",
              "0    Eduardo      Brian     B\n",
              "1    Rachael  Rodriguez     A\n",
              "2       Jane      Oscar     B\n",
              "3       Jane      Loive     B"
            ]
          },
          "metadata": {},
          "execution_count": 19
        }
      ]
    },
    {
      "cell_type": "code",
      "metadata": {
        "colab": {
          "base_uri": "https://localhost:8080/"
        },
        "id": "O4JMSt7i_9r_",
        "outputId": "c382a76a-3898-41d4-f802-fa492d6f5212"
      },
      "source": [
        "print(pokemones[['Generation','Name','Type 1']])\n",
        "import numpy as np"
      ],
      "execution_count": 17,
      "outputs": [
        {
          "output_type": "stream",
          "name": "stdout",
          "text": [
            "     Generation                   Name   Type 1\n",
            "0             1              Bulbasaur    Grass\n",
            "1             1                Ivysaur    Grass\n",
            "2             1               Venusaur    Grass\n",
            "3             1  VenusaurMega Venusaur    Grass\n",
            "4             1             Charmander     Fire\n",
            "..          ...                    ...      ...\n",
            "795           6                Diancie     Rock\n",
            "796           6    DiancieMega Diancie     Rock\n",
            "797           6    HoopaHoopa Confined  Psychic\n",
            "798           6     HoopaHoopa Unbound  Psychic\n",
            "799           6              Volcanion     Fire\n",
            "\n",
            "[800 rows x 3 columns]\n"
          ]
        }
      ]
    },
    {
      "cell_type": "code",
      "metadata": {
        "colab": {
          "base_uri": "https://localhost:8080/",
          "height": 440
        },
        "id": "tpzl4M8DAkLA",
        "outputId": "46ee08ee-06d6-4be1-e960-88a7122a8ee4"
      },
      "source": [
        "#Crear un archivo apartir de otro\n",
        "import csv\n",
        "pdExample = pd.DataFrame(pokemones, columns = ['Generation', 'Name', 'Type 1'])\n",
        "fieldnamesColumns = pdExample.columns.tolist()\n",
        "with open('examplePokemon.csv', 'w') as csvfile:\n",
        "  writer = csv.DictWriter(csvfile, fieldnames=fieldnamesColumns)\n",
        "  writer.writeheader()\n",
        "  for i in fieldnamesColumns:\n",
        "    columna1=fieldnamesColumns[0]\n",
        "    columna2=fieldnamesColumns[1]\n",
        "    columna3=fieldnamesColumns[2]\n",
        "  for index, row in pdExample.iterrows():   \n",
        "    writer.writerow({columna1: row[columna1], columna2: row[columna2], columna3: row[columna3]})    \n",
        " \n",
        "print(\"Writing complete\")\n",
        "pokeExp= pd.read_csv('/content/examplePokemon.csv')\n",
        "pokeExp"
      ],
      "execution_count": 22,
      "outputs": [
        {
          "output_type": "stream",
          "name": "stdout",
          "text": [
            "Writing complete\n"
          ]
        },
        {
          "output_type": "execute_result",
          "data": {
            "text/html": [
              "<div>\n",
              "<style scoped>\n",
              "    .dataframe tbody tr th:only-of-type {\n",
              "        vertical-align: middle;\n",
              "    }\n",
              "\n",
              "    .dataframe tbody tr th {\n",
              "        vertical-align: top;\n",
              "    }\n",
              "\n",
              "    .dataframe thead th {\n",
              "        text-align: right;\n",
              "    }\n",
              "</style>\n",
              "<table border=\"1\" class=\"dataframe\">\n",
              "  <thead>\n",
              "    <tr style=\"text-align: right;\">\n",
              "      <th></th>\n",
              "      <th>Generation</th>\n",
              "      <th>Name</th>\n",
              "      <th>Type 1</th>\n",
              "    </tr>\n",
              "  </thead>\n",
              "  <tbody>\n",
              "    <tr>\n",
              "      <th>0</th>\n",
              "      <td>1</td>\n",
              "      <td>Bulbasaur</td>\n",
              "      <td>Grass</td>\n",
              "    </tr>\n",
              "    <tr>\n",
              "      <th>1</th>\n",
              "      <td>1</td>\n",
              "      <td>Ivysaur</td>\n",
              "      <td>Grass</td>\n",
              "    </tr>\n",
              "    <tr>\n",
              "      <th>2</th>\n",
              "      <td>1</td>\n",
              "      <td>Venusaur</td>\n",
              "      <td>Grass</td>\n",
              "    </tr>\n",
              "    <tr>\n",
              "      <th>3</th>\n",
              "      <td>1</td>\n",
              "      <td>VenusaurMega Venusaur</td>\n",
              "      <td>Grass</td>\n",
              "    </tr>\n",
              "    <tr>\n",
              "      <th>4</th>\n",
              "      <td>1</td>\n",
              "      <td>Charmander</td>\n",
              "      <td>Fire</td>\n",
              "    </tr>\n",
              "    <tr>\n",
              "      <th>...</th>\n",
              "      <td>...</td>\n",
              "      <td>...</td>\n",
              "      <td>...</td>\n",
              "    </tr>\n",
              "    <tr>\n",
              "      <th>795</th>\n",
              "      <td>6</td>\n",
              "      <td>Diancie</td>\n",
              "      <td>Rock</td>\n",
              "    </tr>\n",
              "    <tr>\n",
              "      <th>796</th>\n",
              "      <td>6</td>\n",
              "      <td>DiancieMega Diancie</td>\n",
              "      <td>Rock</td>\n",
              "    </tr>\n",
              "    <tr>\n",
              "      <th>797</th>\n",
              "      <td>6</td>\n",
              "      <td>HoopaHoopa Confined</td>\n",
              "      <td>Psychic</td>\n",
              "    </tr>\n",
              "    <tr>\n",
              "      <th>798</th>\n",
              "      <td>6</td>\n",
              "      <td>HoopaHoopa Unbound</td>\n",
              "      <td>Psychic</td>\n",
              "    </tr>\n",
              "    <tr>\n",
              "      <th>799</th>\n",
              "      <td>6</td>\n",
              "      <td>Volcanion</td>\n",
              "      <td>Fire</td>\n",
              "    </tr>\n",
              "  </tbody>\n",
              "</table>\n",
              "<p>800 rows × 3 columns</p>\n",
              "</div>"
            ],
            "text/plain": [
              "     Generation                   Name   Type 1\n",
              "0             1              Bulbasaur    Grass\n",
              "1             1                Ivysaur    Grass\n",
              "2             1               Venusaur    Grass\n",
              "3             1  VenusaurMega Venusaur    Grass\n",
              "4             1             Charmander     Fire\n",
              "..          ...                    ...      ...\n",
              "795           6                Diancie     Rock\n",
              "796           6    DiancieMega Diancie     Rock\n",
              "797           6    HoopaHoopa Confined  Psychic\n",
              "798           6     HoopaHoopa Unbound  Psychic\n",
              "799           6              Volcanion     Fire\n",
              "\n",
              "[800 rows x 3 columns]"
            ]
          },
          "metadata": {},
          "execution_count": 22
        }
      ]
    },
    {
      "cell_type": "code",
      "metadata": {
        "colab": {
          "base_uri": "https://localhost:8080/",
          "height": 422
        },
        "id": "vHzYtimlBb7m",
        "outputId": "a760b674-550e-4ac5-c834-efd1483dc6a0"
      },
      "source": [
        "#Exportar Dataframe a csv\n",
        "pdExample = pd.DataFrame(pokemones, columns = ['Generation', 'Name', 'Type 1'])\n",
        "pdExample.to_csv(\"examplePokemo2n.csv\", index=False)\n",
        "pokeExp2= pd.read_csv('/content/examplePokemo2n.csv')\n",
        "pokeExp2"
      ],
      "execution_count": 23,
      "outputs": [
        {
          "output_type": "execute_result",
          "data": {
            "text/html": [
              "<div>\n",
              "<style scoped>\n",
              "    .dataframe tbody tr th:only-of-type {\n",
              "        vertical-align: middle;\n",
              "    }\n",
              "\n",
              "    .dataframe tbody tr th {\n",
              "        vertical-align: top;\n",
              "    }\n",
              "\n",
              "    .dataframe thead th {\n",
              "        text-align: right;\n",
              "    }\n",
              "</style>\n",
              "<table border=\"1\" class=\"dataframe\">\n",
              "  <thead>\n",
              "    <tr style=\"text-align: right;\">\n",
              "      <th></th>\n",
              "      <th>Generation</th>\n",
              "      <th>Name</th>\n",
              "      <th>Type 1</th>\n",
              "    </tr>\n",
              "  </thead>\n",
              "  <tbody>\n",
              "    <tr>\n",
              "      <th>0</th>\n",
              "      <td>1</td>\n",
              "      <td>Bulbasaur</td>\n",
              "      <td>Grass</td>\n",
              "    </tr>\n",
              "    <tr>\n",
              "      <th>1</th>\n",
              "      <td>1</td>\n",
              "      <td>Ivysaur</td>\n",
              "      <td>Grass</td>\n",
              "    </tr>\n",
              "    <tr>\n",
              "      <th>2</th>\n",
              "      <td>1</td>\n",
              "      <td>Venusaur</td>\n",
              "      <td>Grass</td>\n",
              "    </tr>\n",
              "    <tr>\n",
              "      <th>3</th>\n",
              "      <td>1</td>\n",
              "      <td>VenusaurMega Venusaur</td>\n",
              "      <td>Grass</td>\n",
              "    </tr>\n",
              "    <tr>\n",
              "      <th>4</th>\n",
              "      <td>1</td>\n",
              "      <td>Charmander</td>\n",
              "      <td>Fire</td>\n",
              "    </tr>\n",
              "    <tr>\n",
              "      <th>...</th>\n",
              "      <td>...</td>\n",
              "      <td>...</td>\n",
              "      <td>...</td>\n",
              "    </tr>\n",
              "    <tr>\n",
              "      <th>795</th>\n",
              "      <td>6</td>\n",
              "      <td>Diancie</td>\n",
              "      <td>Rock</td>\n",
              "    </tr>\n",
              "    <tr>\n",
              "      <th>796</th>\n",
              "      <td>6</td>\n",
              "      <td>DiancieMega Diancie</td>\n",
              "      <td>Rock</td>\n",
              "    </tr>\n",
              "    <tr>\n",
              "      <th>797</th>\n",
              "      <td>6</td>\n",
              "      <td>HoopaHoopa Confined</td>\n",
              "      <td>Psychic</td>\n",
              "    </tr>\n",
              "    <tr>\n",
              "      <th>798</th>\n",
              "      <td>6</td>\n",
              "      <td>HoopaHoopa Unbound</td>\n",
              "      <td>Psychic</td>\n",
              "    </tr>\n",
              "    <tr>\n",
              "      <th>799</th>\n",
              "      <td>6</td>\n",
              "      <td>Volcanion</td>\n",
              "      <td>Fire</td>\n",
              "    </tr>\n",
              "  </tbody>\n",
              "</table>\n",
              "<p>800 rows × 3 columns</p>\n",
              "</div>"
            ],
            "text/plain": [
              "     Generation                   Name   Type 1\n",
              "0             1              Bulbasaur    Grass\n",
              "1             1                Ivysaur    Grass\n",
              "2             1               Venusaur    Grass\n",
              "3             1  VenusaurMega Venusaur    Grass\n",
              "4             1             Charmander     Fire\n",
              "..          ...                    ...      ...\n",
              "795           6                Diancie     Rock\n",
              "796           6    DiancieMega Diancie     Rock\n",
              "797           6    HoopaHoopa Confined  Psychic\n",
              "798           6     HoopaHoopa Unbound  Psychic\n",
              "799           6              Volcanion     Fire\n",
              "\n",
              "[800 rows x 3 columns]"
            ]
          },
          "metadata": {},
          "execution_count": 23
        }
      ]
    }
  ]
}
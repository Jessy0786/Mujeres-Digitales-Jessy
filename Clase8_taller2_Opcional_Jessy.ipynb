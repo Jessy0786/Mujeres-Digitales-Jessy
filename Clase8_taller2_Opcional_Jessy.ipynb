{
  "nbformat": 4,
  "nbformat_minor": 0,
  "metadata": {
    "colab": {
      "name": "Clase8_taller2 Opcional Jessy.ipynb",
      "provenance": [],
      "collapsed_sections": [],
      "include_colab_link": true
    },
    "kernelspec": {
      "display_name": "Python 3",
      "language": "python",
      "name": "python3"
    },
    "language_info": {
      "codemirror_mode": {
        "name": "ipython",
        "version": 3
      },
      "file_extension": ".py",
      "mimetype": "text/x-python",
      "name": "python",
      "nbconvert_exporter": "python",
      "pygments_lexer": "ipython3",
      "version": "3.8.11"
    }
  },
  "cells": [
    {
      "cell_type": "markdown",
      "metadata": {
        "id": "view-in-github",
        "colab_type": "text"
      },
      "source": [
        "<a href=\"https://colab.research.google.com/github/Jessy0786/Mujeres-Digitales-Jessy/blob/main/Clase8_taller2_Opcional_Jessy.ipynb\" target=\"_parent\"><img src=\"https://colab.research.google.com/assets/colab-badge.svg\" alt=\"Open In Colab\"/></a>"
      ]
    },
    {
      "cell_type": "markdown",
      "metadata": {
        "id": "f2ItcHm2mUuW"
      },
      "source": [
        "## Taller opcional 2"
      ]
    },
    {
      "cell_type": "markdown",
      "metadata": {
        "id": "W4vZHp657u65"
      },
      "source": [
        "**Ejercicio 1**\n",
        "\n",
        "---\n",
        "Se le pide a la analista realizar una estimación poblacional a partir de información descriptiva relevante sobre la población de los países en vía de desarrollo.\n",
        "\n",
        "Para ello de inicio se solicita que se cree una función que reciba como argumento una lista de listas con los siguientes datos:\n",
        "\n",
        "```['Nombre del país', habitantes, área]```\n",
        "\n",
        "\n",
        "La función debe devolver el país con la población mas alta y el país con la densidad poblacional mas alta ( esto es ```habitantes / área```)\n",
        "\n",
        "Por ejemplo:\n",
        "Al llamar la función con los siguientes argumentos:\n",
        "```poblacion([['Colombia', 8, 4], ['Peru', 3, 1]])```\n",
        "\n",
        "Debería devolver:\n",
        "```\n",
        "Población más alta: Colombia\n",
        "Densidad poblacional mas alta: Peru\n",
        "```"
      ]
    },
    {
      "cell_type": "code",
      "metadata": {
        "colab": {
          "base_uri": "https://localhost:8080/"
        },
        "id": "auiE8tZrmUuj",
        "outputId": "2cffde48-ff00-461c-d0e1-022ceebe52a3"
      },
      "source": [
        "def poblacion(paises):\n",
        "    # Escriba su función aquí\n",
        "     #Se inicializan variables  \n",
        "    habitantesMax = 0\n",
        "    densidadMax = 0\n",
        "    NombrePaisPoblacionMax = ''\n",
        "    NombrePaisDensidadMax = ''\n",
        "\n",
        "    #Se saca el pais con mas habitantes y el que tiene mayor densidad poblacional(Habitantes/area)\n",
        "    for paisActual in paises:\n",
        "        nombrePaisActual = paisActual[0]\n",
        "        habitantesPaisActual = paisActual[1]\n",
        "        areaPaisActual = paisActual[2]\n",
        "        densidadActual = habitantesPaisActual / areaPaisActual\n",
        "\n",
        "        if habitantesPaisActual > habitantesMax:\n",
        "            NombrePaisPoblacionMax = nombrePaisActual\n",
        "            habitantesMax = habitantesPaisActual\n",
        "        if densidadActual > densidadMax:\n",
        "            NombrePaisDensidadMax = nombrePaisActual\n",
        "            densidadMax = densidadActual\n",
        "    #Se imprimen los valores\n",
        "    return f'Población más alta: {NombrePaisPoblacionMax}\\n\\\n",
        "Densidad poblacional mas alta: {NombrePaisDensidadMax}'\n",
        "\n",
        "print(poblacion([['Colombia', 8, 4], ['Peru', 3, 1], ['Mexico', 4, 1]]))"
      ],
      "execution_count": 24,
      "outputs": [
        {
          "output_type": "stream",
          "text": [
            "Población más alta: Colombia\n",
            "Densidad poblacional mas alta: Mexico\n"
          ],
          "name": "stdout"
        }
      ]
    },
    {
      "cell_type": "markdown",
      "metadata": {
        "id": "em_-ywrKE2I1"
      },
      "source": [
        "**Ejercicio 2**\n",
        "\n",
        "---\n",
        "Se solicita realizar un programa que permita identificar el nivel de cumplimiento del area de ventas de la empresa AVA. Entre los principales requerimientos se encuentran los siguientes:\n",
        "\n",
        "1. Escribir una función que reciba los datos de los vendedores como un diccionario, en donde la llave sea el nombre del vendedor y el valor sea una tupla con la calificación (escala de 1 a 10) y faltas al puesto de trabajo, así: ```{'Juan':(8,1)}```\n",
        "2. El programa debe permitir identificar el vendedor con peor rendimiento y mejor rendimiento.\n",
        "3. Obtener también el promedio general del nivel de rendimiento del área de ventas.\n",
        "4. Los vendedores con un número de faltas por encima del promedio como una lista.\n",
        "\n",
        "Por ejemplo:\n",
        "\n",
        "Al llamar la función con los siguientes argumentos: ```ventas({'Juan':(8,1), 'Pablo':(6,3)})```\n",
        "\n",
        "Debería devolver:\n",
        "```\n",
        "Mejor rendimiento: Juan\n",
        "Peor rendimiento: Pablo\n",
        "Promedio rendimiento: 7\n",
        "Vendedores con mas faltas: ['Pablo']\n",
        "```\n"
      ]
    },
    {
      "cell_type": "code",
      "metadata": {
        "colab": {
          "base_uri": "https://localhost:8080/"
        },
        "id": "zH6sSnp23UCg",
        "outputId": "a772be87-8be6-4639-948b-a159f6526092"
      },
      "source": [
        "def ventas(vendedores):\n",
        "    # Escriba su función aquí \n",
        "    #Se inicializan variables   \n",
        "    nombreMejorVendedor = ''\n",
        "    nombrePeorVendedor = ''\n",
        "    mejorValor = 0\n",
        "    peorValor = 10    \n",
        "    renProm = 0\n",
        "    falProm = 0\n",
        "\n",
        "    #Se saca el mejor y peor vendedor y los promedios del rendimiento y las faltas\n",
        "    for vendedorActual in vendedores:\n",
        "        renVenActual = vendedores[vendedorActual][0]\n",
        "        falVenActual = vendedores[vendedorActual][1]\n",
        "\n",
        "        if renVenActual > mejorValor:\n",
        "            mejorValor = renVenActual\n",
        "            nombreMejorVendedor = vendedorActual\n",
        "        if renVenActual < peorValor:\n",
        "            peorValor = renVenActual\n",
        "            nombrePeorVendedor = vendedorActual\n",
        "        renProm += renVenActual\n",
        "        falProm += falVenActual\n",
        "    renProm = renProm / len(vendedores)\n",
        "    falProm = falProm / len(vendedores)\n",
        "    vendedoresMasFaltas = []\n",
        "    \n",
        "    #Se llena la lista de los vendedores cuyas faltas superen el promedio\n",
        "    for vendedorActual in vendedores:\n",
        "        falVenActual = vendedores[vendedorActual][1]\n",
        "        if falVenActual > falProm:\n",
        "            vendedoresMasFaltas.append(vendedorActual)\n",
        "    #Se imprimen los valores\n",
        "    return f'Mejor vendedor: {nombreMejorVendedor}\\nPeor vendedor: {nombrePeorVendedor}\\n\\\n",
        "Promedio rendimiento: {renProm}\\nPromedio faltas: {falProm}\\nVendedores con mas faltas: {vendedoresMasFaltas}'\n",
        "    \n",
        "print(ventas({'Juan':(8,1), 'Pablo':(6,3), 'Jose':(5,3)}))"
      ],
      "execution_count": 25,
      "outputs": [
        {
          "output_type": "stream",
          "text": [
            "Mejor vendedor: Juan\n",
            "Peor vendedor: Jose\n",
            "Promedio rendimiento: 6.333333333333333\n",
            "Promedio faltas: 2.3333333333333335\n",
            "Vendedores con mas faltas: ['Pablo', 'Jose']\n"
          ],
          "name": "stdout"
        }
      ]
    },
    {
      "cell_type": "code",
      "metadata": {
        "id": "iRsoVVTEmUuv"
      },
      "source": [
        ""
      ],
      "execution_count": null,
      "outputs": []
    }
  ]
}
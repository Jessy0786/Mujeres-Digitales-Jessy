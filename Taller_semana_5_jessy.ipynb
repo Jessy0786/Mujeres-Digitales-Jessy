{
  "nbformat": 4,
  "nbformat_minor": 0,
  "metadata": {
    "colab": {
      "name": "Taller semana 5 jessy.ipynb",
      "provenance": [],
      "collapsed_sections": [],
      "include_colab_link": true
    },
    "kernelspec": {
      "name": "python3",
      "display_name": "Python 3"
    },
    "language_info": {
      "name": "python"
    }
  },
  "cells": [
    {
      "cell_type": "markdown",
      "metadata": {
        "id": "view-in-github",
        "colab_type": "text"
      },
      "source": [
        "<a href=\"https://colab.research.google.com/github/Jessy0786/Mujeres-Digitales-Jessy/blob/main/Taller_semana_5_jessy.ipynb\" target=\"_parent\"><img src=\"https://colab.research.google.com/assets/colab-badge.svg\" alt=\"Open In Colab\"/></a>"
      ]
    },
    {
      "cell_type": "markdown",
      "metadata": {
        "id": "-SzpXMKPoxzx"
      },
      "source": [
        "**Jesyca Maria Patiño Londoño**"
      ]
    },
    {
      "cell_type": "markdown",
      "metadata": {
        "id": "POi23B_G6wnG"
      },
      "source": [
        "Un fanático de pokemones le pide analizar los datos de pokemones, para esto se le proporciona un conjunto de datos en archivo csv. Este fanático le pide a usted como analista investigar cuales son los pokemones con mayor ataque."
      ]
    },
    {
      "cell_type": "code",
      "metadata": {
        "id": "k7kCoay597D2"
      },
      "source": [
        "import pandas as pd\n",
        "import matplotlib.pyplot as plt\n",
        "import seaborn as sns\n",
        "from scipy import stats"
      ],
      "execution_count": null,
      "outputs": []
    },
    {
      "cell_type": "code",
      "metadata": {
        "id": "wx9ixLT6EmQv"
      },
      "source": [
        "df = pd.read_csv('/content/sample_data/pokemon_data.csv')"
      ],
      "execution_count": null,
      "outputs": []
    },
    {
      "cell_type": "code",
      "metadata": {
        "colab": {
          "base_uri": "https://localhost:8080/"
        },
        "id": "9xGupQKJLI3R",
        "outputId": "84406981-449f-4ae3-d2b6-164761a6a853"
      },
      "source": [
        "print(df) "
      ],
      "execution_count": null,
      "outputs": [
        {
          "output_type": "stream",
          "name": "stdout",
          "text": [
            "       #                   Name   Type 1  ... Speed  Generation  Legendary\n",
            "0      1              Bulbasaur    Grass  ...    45           1      False\n",
            "1      2                Ivysaur    Grass  ...    60           1      False\n",
            "2      3               Venusaur    Grass  ...    80           1      False\n",
            "3      3  VenusaurMega Venusaur    Grass  ...    80           1      False\n",
            "4      4             Charmander     Fire  ...    65           1      False\n",
            "..   ...                    ...      ...  ...   ...         ...        ...\n",
            "795  719                Diancie     Rock  ...    50           6       True\n",
            "796  719    DiancieMega Diancie     Rock  ...   110           6       True\n",
            "797  720    HoopaHoopa Confined  Psychic  ...    70           6       True\n",
            "798  720     HoopaHoopa Unbound  Psychic  ...    80           6       True\n",
            "799  721              Volcanion     Fire  ...    70           6       True\n",
            "\n",
            "[800 rows x 12 columns]\n"
          ]
        }
      ]
    },
    {
      "cell_type": "markdown",
      "metadata": {
        "id": "WWVZnKFY9xsD"
      },
      "source": [
        "## Ejercicio 1:\n",
        "\n",
        "Calcule el promedio y la mediana del ataque de: \n",
        "1. Todos los pokemones\n",
        "* promedio: 79.00125\n",
        "* mediana : 75\n",
        "2. Los pokemones agrupados por Legendary (es decir el promedio y mediana de pokemones legendarios y no legendarios)\n",
        "* Promedio legendarios : 116.67692307692307\n",
        "* Promedio no legendarios : 75.66938775510204\n",
        "* Mediana legendarios : 110.0\n",
        "* Mediana no legendarios : 72.0\n",
        "3. Los pokemones agrupados por Type 1"
      ]
    },
    {
      "cell_type": "code",
      "metadata": {
        "colab": {
          "base_uri": "https://localhost:8080/"
        },
        "id": "iUc7NpykDydg",
        "outputId": "e049fde3-b736-43bf-cc49-1bdbd6fdb792"
      },
      "source": [
        "\n",
        "#1 \n",
        "print(\"#1\")\n",
        "#EL promerio de ataque de todos los pokemones es : 79.00125\n",
        "print(\"Promedio de ataque de  todos los pokemones : \",df[\"Attack\"].mean())\n",
        "#La mediana de ataque de todos los pokemones es : 75\n",
        "print(\"Mediana de ataque de todos los pokemones : \",df[\"Attack\"].median())\n",
        "print(\"\\n\")\n",
        "\n",
        "#2\n",
        "print(\"#2\")\n",
        "print(\"Pokemones LEGENDARIOS\")\n",
        "#Promedio de ataque de todos los pokemones legendarios : 116.67692307692307\n",
        "print(\"PROMEDIO de ataque  : \",df.loc[df['Legendary'] == True, \"Attack\"].mean())\n",
        "#Mediana de ataque de todos los pokemones legendarios : 110.0\n",
        "print(\"MEDIANA de ataque  : \",df.loc[df['Legendary'] == True, \"Attack\"].median())\n",
        "print(\"\\n\")\n",
        "\n",
        "print(\"Pokemones NO LEGENDARIOS\")\n",
        "#Promedio de ataque de todos los pokemones no legendarios : 75.66938775510204\n",
        "print(\"PROMEDIO de ataque : \",df.loc[df['Legendary'] == False, \"Attack\"].mean())\n",
        "#Mediana de ataque de todos los pokemones no legendarios : 72.0\n",
        "print(\"MEDIANA de ataque  : \",df.loc[df['Legendary'] == False, \"Attack\"].median())\n",
        "print(\"\\n\")\n",
        "\n",
        "#3\n",
        "print(\"#3\")\n",
        "#Pokemones agrupados por Type 1\n",
        "print(df.groupby(['Type 1'])['Attack'].mean().reset_index(name=\"Promedio de ataque\"))\n"
      ],
      "execution_count": null,
      "outputs": [
        {
          "output_type": "stream",
          "name": "stdout",
          "text": [
            "#1\n",
            "Promedio de ataque de  todos los pokemones :  79.00125\n",
            "Mediana de ataque de todos los pokemones :  75.0\n",
            "\n",
            "\n",
            "#2\n",
            "Pokemones LEGENDARIOS\n",
            "PROMEDIO de ataque  :  116.67692307692307\n",
            "MEDIANA de ataque  :  110.0\n",
            "\n",
            "\n",
            "Pokemones NO LEGENDARIOS\n",
            "PROMEDIO de ataque :  75.66938775510204\n",
            "MEDIANA de ataque  :  72.0\n",
            "\n",
            "\n",
            "#3\n",
            "      Type 1  Promedio de ataque\n",
            "0        Bug           70.971014\n",
            "1       Dark           88.387097\n",
            "2     Dragon          112.125000\n",
            "3   Electric           69.090909\n",
            "4      Fairy           61.529412\n",
            "5   Fighting           96.777778\n",
            "6       Fire           84.769231\n",
            "7     Flying           78.750000\n",
            "8      Ghost           73.781250\n",
            "9      Grass           73.214286\n",
            "10    Ground           95.750000\n",
            "11       Ice           72.750000\n",
            "12    Normal           73.469388\n",
            "13    Poison           74.678571\n",
            "14   Psychic           71.456140\n",
            "15      Rock           92.863636\n",
            "16     Steel           92.703704\n",
            "17     Water           74.151786\n"
          ]
        }
      ]
    },
    {
      "cell_type": "markdown",
      "metadata": {
        "id": "icVwAqRB-71l"
      },
      "source": [
        "## Ejercicio 2:\n",
        "\n",
        "Grafique el ataque de los pokemones con un grafico boxplot para los siguientes casos:\n",
        "1. Todos los pokemones\n",
        "2. Los pokemones agrupados por Legendary (es decir el promedio y mediana de pokemones legendarios y no legendarios)\n",
        "3. Los pokemones agrupados por Type 1"
      ]
    },
    {
      "cell_type": "code",
      "metadata": {
        "colab": {
          "base_uri": "https://localhost:8080/",
          "height": 1000
        },
        "id": "2b3eIMlfOK5O",
        "outputId": "c35625ef-8e7e-4410-d947-5e0c5ce21d99"
      },
      "source": [
        "import matplotlib.pyplot as plt \n",
        "\n",
        "#1 \n",
        "print(\"#1\")\n",
        "pokemones_Attack=df[\"Attack\"]\n",
        "#print(pokemones_Attack)\n",
        "plt.boxplot(pokemones_Attack)\n",
        "plt.title(\"Ataque de todos los pokemones\")\n",
        "plt.show()\n",
        "\n",
        "#2\n",
        "print(\"#2\")\n",
        "print(\"Pokemones Agrupados LEGENDARY PROMEDIO\")\n",
        "pokemones_agrupados_Legendary_promedio=df.groupby(['Legendary'])['Attack'].mean().reset_index(name=\"Promedio de ataque\")[\"Promedio de ataque\"]\n",
        "#print(pokemones_agrupados_Legendary_promedio)\n",
        "plt.boxplot(pokemones_agrupados_Legendary_promedio)\n",
        "plt.title(\"Promedio de ataque agrupados por la columna Legendary\")\n",
        "plt.show()\n",
        "print(\"\\n\")\n",
        "\n",
        "print(\"Pokemones Agrupados LEGENDARY MEDIA\")\n",
        "pokemones_agrupados_Legendary_mediana=df.groupby(['Legendary'])['Attack'].median().reset_index(name=\"Mediana de ataque\")[\"Mediana de ataque\"]\n",
        "#print(pokemones_agrupados_Legendary_mediana)\n",
        "plt.boxplot(pokemones_agrupados_Legendary_mediana)\n",
        "plt.title(\"Mediana de ataque agrupados por la columna Legendary\")\n",
        "plt.show()\n",
        "\n",
        "#3\n",
        "print(\"#3\")\n",
        "pokemones_agrupados_Type1=df.groupby(['Type 1'])['Attack'].mean().reset_index(name=\"Promedio de ataque\")[\"Promedio de ataque\"]\n",
        "#print(pokemones_agrupados_Type1)\n",
        "plt.boxplot(pokemones_agrupados_Type1)\n",
        "plt.title(\"Promedio de ataque agrupados por la columna Type 1\")\n",
        "plt.show()"
      ],
      "execution_count": null,
      "outputs": [
        {
          "output_type": "stream",
          "name": "stdout",
          "text": [
            "#1\n"
          ]
        },
        {
          "output_type": "display_data",
          "data": {
            "image/png": "[encoded data removed]",
            "text/plain": [
              "<Figure size 432x288 with 1 Axes>"
            ]
          },
          "metadata": {
            "needs_background": "light"
          }
        },
        {
          "output_type": "stream",
          "name": "stdout",
          "text": [
            "#2\n",
            "Pokemones Agrupados LEGENDARY PROMEDIO\n"
          ]
        },
        {
          "output_type": "display_data",
          "data": {
            "image/png": "[encoded data removed]",
            "text/plain": [
              "<Figure size 432x288 with 1 Axes>"
            ]
          },
          "metadata": {
            "needs_background": "light"
          }
        },
        {
          "output_type": "stream",
          "name": "stdout",
          "text": [
            "\n",
            "\n",
            "Pokemones Agrupados LEGENDARY MEDIA\n"
          ]
        },
        {
          "output_type": "display_data",
          "data": {
            "image/png": "[encoded data removed]",
            "text/plain": [
              "<Figure size 432x288 with 1 Axes>"
            ]
          },
          "metadata": {
            "needs_background": "light"
          }
        },
        {
          "output_type": "stream",
          "name": "stdout",
          "text": [
            "#3\n"
          ]
        },
        {
          "output_type": "display_data",
          "data": {
            "image/png": "[encoded data removed]",
            "text/plain": [
              "<Figure size 432x288 with 1 Axes>"
            ]
          },
          "metadata": {
            "needs_background": "light"
          }
        }
      ]
    },
    {
      "cell_type": "markdown",
      "metadata": {
        "id": "tO65sHNiAmU9"
      },
      "source": [
        "## Ejercicio 3:\n",
        "\n",
        "Realice las siguientes pruebas de hipótesis:\n",
        "1. El promedio del ataque de los pokemones es mayor a 77\n",
        "2. El promedio del ataque de los pokemones legendarios es diferente a los no legendarios\n",
        "\n",
        "\n",
        "Y determine con un nivel de significancia del 5% (es decir $\\alpha$ = 0.05), si podemos rechazar o no las 3 hipótesis anteriores. "
      ]
    },
    {
      "cell_type": "code",
      "metadata": {
        "colab": {
          "base_uri": "https://localhost:8080/"
        },
        "id": "BgC9nAamVy7h",
        "outputId": "05681db5-e4be-48cb-ae55-8dc9f5ff722a"
      },
      "source": [
        "#Las 2 reglas son :\n",
        "# p<α se rechaza la hipotesis ya que la diferencia es estadisticamente significativa\n",
        "# p>α se retiene la hipotesis ya que la diferencia no es estadistivamente significativa\n",
        "\n",
        "#1\n",
        "#Promedio de ataque de todos los pokemones : 79.00125\n",
        "print(\"#1\")\n",
        "print(\"El promedio del ataque de los pokemones es mayor a 77\")\n",
        "T,p = stats.ttest_1samp(df['Attack'], popmean=77)\n",
        "# Como la hipotesis es > y no diferente se divide el valor de p en 2\n",
        "p_value = p/2\n",
        "print(\"pvalue : \",p_value)\n",
        "print(\"Se rechaza la hipotesis porque\",p_value,\" es menor que 0.05, la diferencia es estadisticamente significativa, p_value < 0.05 =\",p_value < 0.05)\n",
        "#Se se rechaza la hipotesis porque 0.04077652822594917 < 0.05, la diferencia es estadisticamente significativa\n",
        "print(\"\\n\")\n",
        "\n",
        "#2\n",
        "print(\"#2\")\n",
        "#Promedio no legendarios : 75.66938775510204\n",
        "#print(df.loc[df['Legendary'] == True, \"Attack\"])\n",
        "print(\"El promedio del ataque de los pokemones legendarios es diferente a los no legendarios\")\n",
        "T,p = stats.ttest_1samp(df.loc[df['Legendary'] == True, \"Attack\"], popmean=75.66938775510204)\n",
        "p_value = p\n",
        "print(\"pvalue : \",p_value)\n",
        "print(\"Se rechaza la hipotesis porque\",p_value,\" es menor que 0.05, la diferencia es estadisticamente significativa, p_value < 0.05 =\",p_value < 0.05)\n",
        "print(\"\\n\")\n",
        "\n",
        "#Promedio legendarios : 116.67692307692307\n",
        "#print(df.loc[df['Legendary'] == False, \"Attack\"])\n",
        "print(\"El promedio del ataque de los pokemones no legendarios es diferente a los legendarios\")\n",
        "T,p = stats.ttest_1samp(df.loc[df['Legendary'] == False, \"Attack\"], popmean=116.67692307692307)\n",
        "p_value = p\n",
        "print(\"pvalue : \",p_value)\n",
        "print(\"Se rechaza la hipotesis porque\",p_value,\" es menor que 0.05, la diferencia es estadisticamente significativa, p_value < 0.05 =\",p_value < 0.05)"
      ],
      "execution_count": null,
      "outputs": [
        {
          "output_type": "stream",
          "name": "stdout",
          "text": [
            "#1\n",
            "El promedio del ataque de los pokemones es mayor a 77\n",
            "pvalue :  0.04077652822594917\n",
            "Se rechaza la hipotesis porque 0.04077652822594917  es menor que 0.05, la diferencia es estadisticamente significativa, p_value < 0.05 = True\n",
            "\n",
            "\n",
            "#2\n",
            "El promedio del ataque de los pokemones legendarios es diferente a los no legendarios\n",
            "pvalue :  3.242916928785329e-16\n",
            "Se rechaza la hipotesis porque 3.242916928785329e-16  es menor que 0.05, la diferencia es estadisticamente significativa, p_value < 0.05 = True\n",
            "\n",
            "\n",
            "El promedio del ataque de los pokemones no legendarios es diferente a los legendarios\n",
            "pvalue :  6.501299300067182e-167\n",
            "Se rechaza la hipotesis porque 6.501299300067182e-167  es menor que 0.05, la diferencia es estadisticamente significativa, p_value < 0.05 = True\n"
          ]
        }
      ]
    }
  ]
}
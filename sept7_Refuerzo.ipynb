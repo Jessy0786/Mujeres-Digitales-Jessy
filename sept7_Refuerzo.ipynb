{
  "nbformat": 4,
  "nbformat_minor": 0,
  "metadata": {
    "colab": {
      "name": "sept7 Refuerzo.ipynb",
      "provenance": [],
      "authorship_tag": "ABX9TyMkk+NvufNhb3UnLElXuyck",
      "include_colab_link": true
    },
    "kernelspec": {
      "name": "python3",
      "display_name": "Python 3"
    },
    "language_info": {
      "name": "python"
    }
  },
  "cells": [
    {
      "cell_type": "markdown",
      "metadata": {
        "id": "view-in-github",
        "colab_type": "text"
      },
      "source": [
        "<a href=\"https://colab.research.google.com/github/Jessy0786/Mujeres-Digitales-Jessy/blob/main/sept7_Refuerzo.ipynb\" target=\"_parent\"><img src=\"https://colab.research.google.com/assets/colab-badge.svg\" alt=\"Open In Colab\"/></a>"
      ]
    },
    {
      "cell_type": "code",
      "metadata": {
        "colab": {
          "base_uri": "https://localhost:8080/"
        },
        "id": "BMJyTsudyicU",
        "outputId": "1e540222-7391-46cf-e3fa-75c71001cc37"
      },
      "source": [
        "entero= 1\n",
        "flotante= 1.2\n",
        "cadena= 'hola'\n",
        "lista=[1,2]\n",
        "diccionario={1:2}\n",
        "\n",
        "print(entero)\n",
        "print(flotante)\n",
        "print(cadena)\n",
        "print(lista)\n",
        "print(diccionario)\n",
        "print('........suma.............')\n",
        "print([entero+ flotante])\n",
        "\n",
        "print(lista[0])\n",
        "\n",
        "#ciclos for y while\n",
        "print('.....................')\n",
        "for i in lista:\n",
        "     print(i)\n",
        "print('.....................')\n",
        "print(list(range(0,5,1)))\n",
        "for i in range(0,7,1):\n",
        "    print(i)\n"
      ],
      "execution_count": null,
      "outputs": [
        {
          "output_type": "stream",
          "name": "stdout",
          "text": [
            "1\n",
            "1.2\n",
            "hola\n",
            "[1, 2]\n",
            "{1: 2}\n",
            "........suma.............\n",
            "[2.2]\n",
            "1\n",
            ".....................\n",
            "1\n",
            "2\n",
            ".....................\n",
            "[0, 1, 2, 3, 4]\n",
            "0\n",
            "1\n",
            "2\n",
            "3\n",
            "4\n",
            "5\n",
            "6\n"
          ]
        }
      ]
    },
    {
      "cell_type": "code",
      "metadata": {
        "colab": {
          "base_uri": "https://localhost:8080/"
        },
        "id": "QbtNZwHQ0uWe",
        "outputId": "b682a9cb-916b-4e08-d767-9c7a970f226a"
      },
      "source": [
        "#Actividad 1: sacar el promedio de la lista 1 y la 2\n",
        "lista1=[1,2]\n",
        "lista2=[3,4]\n",
        "suma=0\n",
        "prom= 0\n",
        "for i in range(len(lista1)):\n",
        "  suma=lista1[i]+lista2[i]\n",
        "  prom=suma/len(lista1)#len no me funciona si pongo mas numeros en la lista\n",
        "  print(suma)\n",
        "  print(prom)"
      ],
      "execution_count": null,
      "outputs": [
        {
          "output_type": "stream",
          "name": "stdout",
          "text": [
            "4\n",
            "2.0\n",
            "6\n",
            "3.0\n"
          ]
        }
      ]
    },
    {
      "cell_type": "code",
      "metadata": {
        "colab": {
          "base_uri": "https://localhost:8080/"
        },
        "id": "3MA7u53C49JU",
        "outputId": "e53a37ba-45ab-4ee2-c3e5-866c7d99b17b"
      },
      "source": [
        "#corregido\n",
        "lista1=[1,2]\n",
        "lista2=[3,4]\n",
        "suma=0\n",
        "prom= 0\n",
        "for i in range(len(lista1)):\n",
        "  suma=lista1[i]+lista2[i]\n",
        "  prom=suma/2 #len no me funciona si pongo mas numeros en la lista\n",
        "  print(suma)\n",
        "  print(prom)"
      ],
      "execution_count": null,
      "outputs": [
        {
          "output_type": "stream",
          "name": "stdout",
          "text": [
            "4\n",
            "2.0\n",
            "6\n",
            "3.0\n"
          ]
        }
      ]
    },
    {
      "cell_type": "code",
      "metadata": {
        "colab": {
          "base_uri": "https://localhost:8080/"
        },
        "id": "kf9AX4I2693O",
        "outputId": "4fa4166f-e669-45b4-df21-25cae5c8ced0"
      },
      "source": [
        "#cositas de len\n",
        "lista3=[0,1,2,3,4]\n",
        "for i in range(1,len(lista3)):\n",
        "  print(lista3[i])"
      ],
      "execution_count": null,
      "outputs": [
        {
          "output_type": "stream",
          "name": "stdout",
          "text": [
            "1\n",
            "2\n",
            "3\n",
            "4\n"
          ]
        }
      ]
    },
    {
      "cell_type": "code",
      "metadata": {
        "colab": {
          "base_uri": "https://localhost:8080/"
        },
        "id": "pyiGSgNY7tZm",
        "outputId": "74b5dc38-93c8-4cf5-be90-b8e3b504de2c"
      },
      "source": [
        "#No toma indices solo los valores\n",
        "lista4=['a','b','c','h']\n",
        "for i in lista4: \n",
        "  print(i)\n"
      ],
      "execution_count": null,
      "outputs": [
        {
          "output_type": "stream",
          "name": "stdout",
          "text": [
            "a\n",
            "b\n",
            "c\n",
            "h\n"
          ]
        }
      ]
    },
    {
      "cell_type": "code",
      "metadata": {
        "colab": {
          "base_uri": "https://localhost:8080/"
        },
        "id": "rXlVmxO2-vcr",
        "outputId": "7978b972-bff8-416e-987b-955a268260cc"
      },
      "source": [
        "#Toma los indices\n",
        "for i in range(len(lista4)):\n",
        "   print(i)"
      ],
      "execution_count": null,
      "outputs": [
        {
          "output_type": "stream",
          "name": "stdout",
          "text": [
            "0\n",
            "1\n",
            "2\n",
            "3\n"
          ]
        }
      ]
    },
    {
      "cell_type": "code",
      "metadata": {
        "colab": {
          "base_uri": "https://localhost:8080/"
        },
        "id": "T70FaMZZ93dB",
        "outputId": "50d9affd-9461-4f26-f09f-295403a4d77d"
      },
      "source": [
        "#tomando indices de otras listas antes declaradas con el mismo rango\n",
        "a=['c','b']\n",
        "for i in range(len(a)):\n",
        "  print(a[i], lista[i],lista2[i])"
      ],
      "execution_count": null,
      "outputs": [
        {
          "output_type": "stream",
          "name": "stdout",
          "text": [
            "c 1 3\n",
            "b 2 4\n"
          ]
        }
      ]
    },
    {
      "cell_type": "code",
      "metadata": {
        "colab": {
          "base_uri": "https://localhost:8080/"
        },
        "id": "6OtiIe77B0xg",
        "outputId": "046495b4-1d1a-4062-f895-9787ff273f77"
      },
      "source": [
        "#indice mas elemento\n",
        "for i, elem in enumerate(a):\n",
        "  print(i,elem)"
      ],
      "execution_count": null,
      "outputs": [
        {
          "output_type": "stream",
          "name": "stdout",
          "text": [
            "0 c\n",
            "1 b\n"
          ]
        }
      ]
    },
    {
      "cell_type": "code",
      "metadata": {
        "colab": {
          "base_uri": "https://localhost:8080/"
        },
        "id": "9eKl1YABCX3S",
        "outputId": "8111682c-c062-4f68-c263-a7e528fc6257"
      },
      "source": [
        "#forma 1\n",
        "b=['cero','uno','dos','tres']\n",
        "for i, elem in enumerate(b):\n",
        "  print(i,elem)"
      ],
      "execution_count": null,
      "outputs": [
        {
          "output_type": "stream",
          "name": "stdout",
          "text": [
            "0 cero\n",
            "1 uno\n",
            "2 dos\n",
            "3 tres\n"
          ]
        }
      ]
    },
    {
      "cell_type": "code",
      "metadata": {
        "colab": {
          "base_uri": "https://localhost:8080/"
        },
        "id": "OLW2NT-1Cv1q",
        "outputId": "b4a4f3f1-b6fb-44e3-d269-a49a8ad3039b"
      },
      "source": [
        "#forma2\n",
        "b=['cero','uno','dos','tres']\n",
        "for i, e in enumerate(b):\n",
        "  print(i,e, b[i])"
      ],
      "execution_count": null,
      "outputs": [
        {
          "output_type": "stream",
          "name": "stdout",
          "text": [
            "0 cero cero\n",
            "1 uno uno\n",
            "2 dos dos\n",
            "3 tres tres\n"
          ]
        }
      ]
    },
    {
      "cell_type": "code",
      "metadata": {
        "colab": {
          "base_uri": "https://localhost:8080/"
        },
        "id": "TsGSlKPlDoTH",
        "outputId": "2beb4a0b-8056-4890-fa7b-6834326da1ff"
      },
      "source": [
        "#forma 3\n",
        "c=['cosa1','cosa2','cosa3','cosa4']\n",
        "for i in range(len(c)):\n",
        "  print(i,c[i])"
      ],
      "execution_count": null,
      "outputs": [
        {
          "output_type": "stream",
          "name": "stdout",
          "text": [
            "0 cosa1\n",
            "1 cosa2\n",
            "2 cosa3\n",
            "3 cosa4\n"
          ]
        }
      ]
    },
    {
      "cell_type": "code",
      "metadata": {
        "colab": {
          "base_uri": "https://localhost:8080/"
        },
        "id": "TaD_rPipEy8l",
        "outputId": "cb514b70-1723-4fe3-bb52-5003b88eed29"
      },
      "source": [
        "#iterar una matriz\n",
        "d=[['cosa6','cosa7'],['cosa8','cosa9']]\n",
        "for i in range(len(d)):\n",
        "  print(i,d[i])"
      ],
      "execution_count": null,
      "outputs": [
        {
          "output_type": "stream",
          "name": "stdout",
          "text": [
            "0 ['cosa6', 'cosa7']\n",
            "1 ['cosa8', 'cosa9']\n"
          ]
        }
      ]
    },
    {
      "cell_type": "code",
      "metadata": {
        "colab": {
          "base_uri": "https://localhost:8080/"
        },
        "id": "JYNAhIG5FKYR",
        "outputId": "cbf762b1-5e5f-48d3-ae09-26a95d59c991"
      },
      "source": [
        "d=[['cosa6','cosa7'],['cosa8','cosa9']]\n",
        "for i, elem in enumerate(d):\n",
        "  print(i,elem)"
      ],
      "execution_count": null,
      "outputs": [
        {
          "output_type": "stream",
          "name": "stdout",
          "text": [
            "0 ['cosa6', 'cosa7']\n",
            "1 ['cosa8', 'cosa9']\n"
          ]
        }
      ]
    },
    {
      "cell_type": "code",
      "metadata": {
        "colab": {
          "base_uri": "https://localhost:8080/"
        },
        "id": "Xa0WKYSRG9en",
        "outputId": "1cf6908a-84fa-4069-f0bb-27b9e61d293c"
      },
      "source": [
        "#sacar el primer elemento de cada lista\n",
        "d=[['cosa6','cosa7'],['cosa8','cosa9']]\n",
        "for i in range(len(d)):\n",
        "    print(i, d[i][0])"
      ],
      "execution_count": null,
      "outputs": [
        {
          "output_type": "stream",
          "name": "stdout",
          "text": [
            "0 cosa6\n",
            "1 cosa8\n"
          ]
        }
      ]
    },
    {
      "cell_type": "code",
      "metadata": {
        "colab": {
          "base_uri": "https://localhost:8080/"
        },
        "id": "JBToQp9KHtuJ",
        "outputId": "46a9d1a0-81e8-444a-ef52-1fba5c14d391"
      },
      "source": [
        "#sacar el primer elemento de cada lista\n",
        "d=[['cosa6','cosa7'],['cosa8','cosa9']]\n",
        "for i in range(len(d)):\n",
        "    print(i, d[i][1])"
      ],
      "execution_count": null,
      "outputs": [
        {
          "output_type": "stream",
          "name": "stdout",
          "text": [
            "0 cosa7\n",
            "1 cosa9\n"
          ]
        }
      ]
    },
    {
      "cell_type": "code",
      "metadata": {
        "colab": {
          "base_uri": "https://localhost:8080/"
        },
        "id": "gQSOLAigQBnN",
        "outputId": "e41c1015-9766-45a7-eada-32bc91933f0c"
      },
      "source": [
        "#recorrer un diccionario\n",
        "#diccionario={1:2,4:6,}\n",
        "diccionario = {\n",
        "  'clave 1': 'valor 1',\n",
        "  'clave 2': 'valor 2',\n",
        "  'clave 3': 'valor 3'\n",
        "}\n",
        "\n",
        "for clave in diccionario:\n",
        "    # Hacer algo con esa clave\n",
        "    print(clave)"
      ],
      "execution_count": null,
      "outputs": [
        {
          "output_type": "stream",
          "name": "stdout",
          "text": [
            "clave 1\n",
            "clave 2\n",
            "clave 3\n"
          ]
        }
      ]
    },
    {
      "cell_type": "code",
      "metadata": {
        "colab": {
          "base_uri": "https://localhost:8080/"
        },
        "id": "JvOxk_7jRp8d",
        "outputId": "c13c37fe-6450-448b-bfc5-6b8d965ec3f0"
      },
      "source": [
        "for  clave in diccionario.values():\n",
        "  print(clave)"
      ],
      "execution_count": null,
      "outputs": [
        {
          "output_type": "stream",
          "name": "stdout",
          "text": [
            "valor 1\n",
            "valor 2\n",
            "valor 3\n"
          ]
        }
      ]
    },
    {
      "cell_type": "code",
      "metadata": {
        "colab": {
          "base_uri": "https://localhost:8080/"
        },
        "id": "6D-PeGthUSBW",
        "outputId": "c079f5e7-655d-46a3-a71f-874c4605fac5"
      },
      "source": [
        "for clave, valor in diccionario.items():\n",
        "  print(clave)\n"
      ],
      "execution_count": null,
      "outputs": [
        {
          "output_type": "stream",
          "name": "stdout",
          "text": [
            "clave 1\n",
            "clave 2\n",
            "clave 3\n"
          ]
        }
      ]
    },
    {
      "cell_type": "code",
      "metadata": {
        "colab": {
          "base_uri": "https://localhost:8080/"
        },
        "id": "7fKGLIXtU3JW",
        "outputId": "67344c7b-dfcf-484a-fbdc-fd9021d4545c"
      },
      "source": [
        "for clave in diccionario.keys():\n",
        "  print(clave)"
      ],
      "execution_count": null,
      "outputs": [
        {
          "output_type": "stream",
          "name": "stdout",
          "text": [
            "clave 1\n",
            "clave 2\n",
            "clave 3\n"
          ]
        }
      ]
    }
  ]
}
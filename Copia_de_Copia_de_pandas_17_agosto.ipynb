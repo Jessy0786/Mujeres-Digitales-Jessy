{
  "nbformat": 4,
  "nbformat_minor": 0,
  "metadata": {
    "colab": {
      "name": "Copia de Copia de pandas  17 agosto",
      "provenance": [],
      "collapsed_sections": [],
      "authorship_tag": "ABX9TyO/KY+OJKCPCAKfwREQTnSC",
      "include_colab_link": true
    },
    "kernelspec": {
      "name": "python3",
      "display_name": "Python 3"
    },
    "language_info": {
      "name": "python"
    }
  },
  "cells": [
    {
      "cell_type": "markdown",
      "metadata": {
        "id": "view-in-github",
        "colab_type": "text"
      },
      "source": [
        "<a href=\"https://colab.research.google.com/github/Jessy0786/Mujeres-Digitales-Jessy/blob/main/Copia_de_Copia_de_pandas_17_agosto.ipynb\" target=\"_parent\"><img src=\"https://colab.research.google.com/assets/colab-badge.svg\" alt=\"Open In Colab\"/></a>"
      ]
    },
    {
      "cell_type": "code",
      "metadata": {
        "id": "vr5XMz8ExOJP"
      },
      "source": [
        "import pandas as  pd\n"
      ],
      "execution_count": null,
      "outputs": []
    },
    {
      "cell_type": "code",
      "metadata": {
        "id": "Ky_pfNOlxcAm"
      },
      "source": [
        "numerico = pd.Series ([145,142,38,13]) "
      ],
      "execution_count": null,
      "outputs": []
    },
    {
      "cell_type": "code",
      "metadata": {
        "colab": {
          "base_uri": "https://localhost:8080/"
        },
        "id": "GTZitMdqbPGC",
        "outputId": "543b83aa-4661-4fc5-8604-f03cf4a2cc19"
      },
      "source": [
        "numerico[[0,3]]"
      ],
      "execution_count": null,
      "outputs": [
        {
          "output_type": "execute_result",
          "data": {
            "text/plain": [
              "0    145\n",
              "3     13\n",
              "dtype: int64"
            ]
          },
          "metadata": {},
          "execution_count": 21
        }
      ]
    },
    {
      "cell_type": "code",
      "metadata": {
        "colab": {
          "base_uri": "https://localhost:8080/"
        },
        "id": "TSUW_-15yTPj",
        "outputId": "1f1a6a23-1475-4ae9-ce61-bf4cad5fe677"
      },
      "source": [
        "pd.Series (['a','b','c'])"
      ],
      "execution_count": null,
      "outputs": [
        {
          "output_type": "execute_result",
          "data": {
            "text/plain": [
              "0    a\n",
              "1    b\n",
              "2    c\n",
              "dtype: object"
            ]
          },
          "metadata": {},
          "execution_count": 4
        }
      ]
    },
    {
      "cell_type": "code",
      "metadata": {
        "colab": {
          "base_uri": "https://localhost:8080/"
        },
        "id": "RzrQMYVVz95E",
        "outputId": "9dfa61b5-e94a-42c9-a0a4-91901508ef04"
      },
      "source": [
        "david= pd.Series([145,142,38,13], name='counts')\n",
        "print(type(david))\n",
        "david\n"
      ],
      "execution_count": null,
      "outputs": [
        {
          "output_type": "execute_result",
          "data": {
            "text/plain": [
              "0    145\n",
              "1    142\n",
              "2     38\n",
              "3     13\n",
              "Name: counts, dtype: int64"
            ]
          },
          "metadata": {},
          "execution_count": 18
        }
      ]
    },
    {
      "cell_type": "code",
      "metadata": {
        "colab": {
          "base_uri": "https://localhost:8080/"
        },
        "id": "khETvKH11pIp",
        "outputId": "58b6606f-eddd-4bf2-8f18-0de2a8396bca"
      },
      "source": [
        "david= pd.Series([145,142,38,13,'abc','x'], name='counts')\n",
        "print(type(david))\n",
        "david"
      ],
      "execution_count": null,
      "outputs": [
        {
          "output_type": "stream",
          "text": [
            "<class 'pandas.core.series.Series'>\n"
          ],
          "name": "stdout"
        },
        {
          "output_type": "execute_result",
          "data": {
            "text/plain": [
              "0    145\n",
              "1    142\n",
              "2     38\n",
              "3     13\n",
              "4    abc\n",
              "5      x\n",
              "Name: counts, dtype: object"
            ]
          },
          "metadata": {},
          "execution_count": 23
        }
      ]
    },
    {
      "cell_type": "code",
      "metadata": {
        "colab": {
          "base_uri": "https://localhost:8080/"
        },
        "id": "K5KoY7S91THs",
        "outputId": "afa7f0ac-4832-410e-daf8-151f60671a0d"
      },
      "source": [
        "print(david.index)\n",
        "print(david.values)"
      ],
      "execution_count": null,
      "outputs": [
        {
          "output_type": "stream",
          "text": [
            "RangeIndex(start=0, stop=6, step=1)\n",
            "[145 142 38 13 'abc' 'x']\n"
          ],
          "name": "stdout"
        }
      ]
    },
    {
      "cell_type": "code",
      "metadata": {
        "colab": {
          "base_uri": "https://localhost:8080/"
        },
        "id": "mVFvG12U1_7S",
        "outputId": "307e89c1-48aa-438a-f256-862ae6fa3334"
      },
      "source": [
        "# el indice no necesariamente tiene que ser un numero\n",
        "david3= pd.Series([145,142,38,13,'a'], name='counts', index=['juan','pedro','sofia','andrea','b'])\n",
        "print(david3)\n",
        "print('-------')\n",
        "print(david3.values)\n",
        "print('-------')\n",
        "print(david3.index)"
      ],
      "execution_count": null,
      "outputs": [
        {
          "output_type": "stream",
          "text": [
            "juan      145\n",
            "pedro     142\n",
            "sofia      38\n",
            "andrea     13\n",
            "b           a\n",
            "Name: counts, dtype: object\n",
            "-------\n",
            "[145 142 38 13 'a']\n",
            "-------\n",
            "Index(['juan', 'pedro', 'sofia', 'andrea', 'b'], dtype='object')\n"
          ],
          "name": "stdout"
        }
      ]
    },
    {
      "cell_type": "code",
      "metadata": {
        "colab": {
          "base_uri": "https://localhost:8080/"
        },
        "id": "HWBj4nM2aPZH",
        "outputId": "a0839172-46b9-4b42-e852-e77c082956ed"
      },
      "source": [
        "david3[['juan', 'andrea']]"
      ],
      "execution_count": null,
      "outputs": [
        {
          "output_type": "execute_result",
          "data": {
            "text/plain": [
              "juan      145\n",
              "andrea     13\n",
              "Name: counts, dtype: object"
            ]
          },
          "metadata": {},
          "execution_count": 18
        }
      ]
    },
    {
      "cell_type": "code",
      "metadata": {
        "colab": {
          "base_uri": "https://localhost:8080/"
        },
        "id": "jkmAlVaG4UkP",
        "outputId": "0e822cd9-51a2-49c8-afd4-110b789e8c49"
      },
      "source": [
        "#tambien pueden diferentes objetos\n",
        "class j:\n",
        "  pass\n",
        "pedro= pd.Series (['david','fran',13,j()],name='jj')\n",
        "print(pedro)"
      ],
      "execution_count": null,
      "outputs": [
        {
          "output_type": "stream",
          "text": [
            "0                                    david\n",
            "1                                     fran\n",
            "2                                       13\n",
            "3    <__main__.j object at 0x7f51fae2f7d0>\n",
            "Name: jj, dtype: object\n"
          ],
          "name": "stdout"
        }
      ]
    },
    {
      "cell_type": "code",
      "metadata": {
        "colab": {
          "base_uri": "https://localhost:8080/"
        },
        "id": "OyFUczE3A0jN",
        "outputId": "f002aedd-1478-4368-fdf5-7fce0db3e286"
      },
      "source": [
        "#  y que hay de los nulos\n",
        "nan_ser =pd.Series ([2,None],index=['0','c'])\n",
        "print (nan_ser)\n",
        "nan_ser.count()"
      ],
      "execution_count": null,
      "outputs": [
        {
          "output_type": "stream",
          "text": [
            "0    2.0\n",
            "c    NaN\n",
            "dtype: float64\n"
          ],
          "name": "stdout"
        },
        {
          "output_type": "execute_result",
          "data": {
            "text/plain": [
              "1"
            ]
          },
          "metadata": {},
          "execution_count": 47
        }
      ]
    },
    {
      "cell_type": "code",
      "metadata": {
        "colab": {
          "base_uri": "https://localhost:8080/"
        },
        "id": "3RorqSihCj9q",
        "outputId": "c7195f6e-0522-42cc-8bff-e3f972c05d0d"
      },
      "source": [
        "# Actividad crear una serie de numeros impares hasta el 15\n",
        "\n",
        "serieJessyImpar= pd.Series ([1,3,5,7,9,11,13,15])\n",
        "serieJessy"
      ],
      "execution_count": null,
      "outputs": [
        {
          "output_type": "execute_result",
          "data": {
            "text/plain": [
              "0     1\n",
              "1     3\n",
              "2     5\n",
              "3     7\n",
              "4     9\n",
              "5    11\n",
              "6    13\n",
              "7    15\n",
              "dtype: int64"
            ]
          },
          "metadata": {},
          "execution_count": 36
        }
      ]
    },
    {
      "cell_type": "code",
      "metadata": {
        "id": "JtLZQxYNF9Bd",
        "colab": {
          "base_uri": "https://localhost:8080/"
        },
        "outputId": "7eadafab-8d1b-4f75-91ed-58d9e61d1e91"
      },
      "source": [
        "serieJessyImpar= pd.Series ([1,3,5,7,9,11,13,15],name='jes',index=['a','b','c','d','e','f','i','k'])\n",
        "serieJessyImpar"
      ],
      "execution_count": null,
      "outputs": [
        {
          "output_type": "execute_result",
          "data": {
            "text/plain": [
              "a     1\n",
              "b     3\n",
              "c     5\n",
              "d     7\n",
              "e     9\n",
              "f    11\n",
              "i    13\n",
              "k    15\n",
              "Name: jes, dtype: int64"
            ]
          },
          "metadata": {},
          "execution_count": 37
        }
      ]
    },
    {
      "cell_type": "code",
      "metadata": {
        "colab": {
          "base_uri": "https://localhost:8080/"
        },
        "id": "6smxoSD4PKEB",
        "outputId": "09cb1945-2d35-4e21-c2e6-d25f24d4dfdc"
      },
      "source": [
        "serieJessyImpar= pd.Series ([1,3,5,7,9,11,13,15],index=['a','b','c','d','e','f','h','i'])\n",
        "serieJessyImpar "
      ],
      "execution_count": null,
      "outputs": [
        {
          "output_type": "execute_result",
          "data": {
            "text/plain": [
              "a     1\n",
              "b     3\n",
              "c     5\n",
              "d     7\n",
              "e     9\n",
              "f    11\n",
              "h    13\n",
              "i    15\n",
              "dtype: int64"
            ]
          },
          "metadata": {},
          "execution_count": 38
        }
      ]
    },
    {
      "cell_type": "code",
      "metadata": {
        "colab": {
          "base_uri": "https://localhost:8080/"
        },
        "id": "I3QkPY7XP72Z",
        "outputId": "06807695-2876-4a56-b8d0-0503dd3e3174"
      },
      "source": [
        "serieJessyImpar= pd.Series (range(1,16,2))\n",
        "serieJessyImpar"
      ],
      "execution_count": null,
      "outputs": [
        {
          "output_type": "execute_result",
          "data": {
            "text/plain": [
              "0     1\n",
              "1     3\n",
              "2     5\n",
              "3     7\n",
              "4     9\n",
              "5    11\n",
              "6    13\n",
              "7    15\n",
              "dtype: int64"
            ]
          },
          "metadata": {},
          "execution_count": 39
        }
      ]
    },
    {
      "cell_type": "code",
      "metadata": {
        "colab": {
          "base_uri": "https://localhost:8080/"
        },
        "id": "Kl57JJyQcWMk",
        "outputId": "12d8e5c2-6344-4317-c50d-eb33cd23d3a4"
      },
      "source": [
        "#Actividad2\n",
        "serieJessyImpar[2:5]"
      ],
      "execution_count": null,
      "outputs": [
        {
          "output_type": "execute_result",
          "data": {
            "text/plain": [
              "2    5\n",
              "3    7\n",
              "4    9\n",
              "dtype: int64"
            ]
          },
          "metadata": {},
          "execution_count": 40
        }
      ]
    },
    {
      "cell_type": "code",
      "metadata": {
        "colab": {
          "base_uri": "https://localhost:8080/"
        },
        "id": "7rbaz29Jq5sP",
        "outputId": "4d5d9de2-fa64-4721-9dd2-6114637cce00"
      },
      "source": [
        "serieJessyImpar > 10\n"
      ],
      "execution_count": null,
      "outputs": [
        {
          "output_type": "execute_result",
          "data": {
            "text/plain": [
              "0    False\n",
              "1    False\n",
              "2    False\n",
              "3    False\n",
              "4    False\n",
              "5     True\n",
              "6     True\n",
              "7     True\n",
              "dtype: bool"
            ]
          },
          "metadata": {},
          "execution_count": 41
        }
      ]
    },
    {
      "cell_type": "code",
      "metadata": {
        "colab": {
          "base_uri": "https://localhost:8080/"
        },
        "id": "A-rWuiQXrWyb",
        "outputId": "73242f32-fbf5-4a0d-fac3-c460b6ee6997"
      },
      "source": [
        "mask = serieJessyImpar > 10\n",
        "serieJessyImpar[mask]"
      ],
      "execution_count": null,
      "outputs": [
        {
          "output_type": "execute_result",
          "data": {
            "text/plain": [
              "5    11\n",
              "6    13\n",
              "7    15\n",
              "dtype: int64"
            ]
          },
          "metadata": {},
          "execution_count": 43
        }
      ]
    },
    {
      "cell_type": "code",
      "metadata": {
        "colab": {
          "base_uri": "https://localhost:8080/"
        },
        "id": "HrCuGmUjuXm-",
        "outputId": "4b02cb9b-c9fa-4a0f-c596-73b6ab130541"
      },
      "source": [
        "cidys= pd.Series([10,7,1,22],index=['1968','1969','1970','1970'],name='per')\n",
        "cidys\n",
        "cidys['1969'] = 6\n",
        "cidys"
      ],
      "execution_count": null,
      "outputs": [
        {
          "output_type": "execute_result",
          "data": {
            "text/plain": [
              "1968    10\n",
              "1969     6\n",
              "1970     1\n",
              "1970    22\n",
              "Name: per, dtype: int64"
            ]
          },
          "metadata": {},
          "execution_count": 50
        }
      ]
    },
    {
      "cell_type": "code",
      "metadata": {
        "colab": {
          "base_uri": "https://localhost:8080/"
        },
        "id": "0TIj1aDrRp9-",
        "outputId": "5572edba-b1c3-46a7-f607-0b3313ecbb86"
      },
      "source": [
        "cidys= pd.Series([10,7,1,22],index=['1968','1969','1970','1970'],name='per')\n",
        "print(cidys)\n",
        "#que hay si necesito guardar multiples entradas en mi serie\n",
        "g2= pd.Series({'1969':7,'1970':[1,22]},index=['1969','1970','1970','1970'])\n",
        "print(g2)\n",
        "#2 lectura\n",
        "print('-------------')\n",
        "print(cidys['1968'])\n",
        "print('-------------')\n",
        "for element in  cidys:\n",
        "  print('El elemento es : ',element)"
      ],
      "execution_count": null,
      "outputs": [
        {
          "output_type": "stream",
          "text": [
            "1968    10\n",
            "1969     7\n",
            "1970     1\n",
            "1970    22\n",
            "Name: per, dtype: int64\n",
            "1969          7\n",
            "1970    [1, 22]\n",
            "1970    [1, 22]\n",
            "1970    [1, 22]\n",
            "dtype: object\n",
            "-------------\n",
            "10\n",
            "-------------\n",
            "El elemento es :  10\n",
            "El elemento es :  7\n",
            "El elemento es :  1\n",
            "El elemento es :  22\n"
          ],
          "name": "stdout"
        }
      ]
    },
    {
      "cell_type": "code",
      "metadata": {
        "colab": {
          "base_uri": "https://localhost:8080/"
        },
        "id": "WRhocfD5cF1V",
        "outputId": "d52f8ee3-ff8d-410f-9fdc-4d35c3aa9d10"
      },
      "source": [
        "cidys['1968']"
      ],
      "execution_count": null,
      "outputs": [
        {
          "output_type": "execute_result",
          "data": {
            "text/plain": [
              "10"
            ]
          },
          "metadata": {},
          "execution_count": 23
        }
      ]
    },
    {
      "cell_type": "code",
      "metadata": {
        "colab": {
          "base_uri": "https://localhost:8080/"
        },
        "id": "5v0AxiYbbt5N",
        "outputId": "bf58f25c-875b-49c5-b6ec-2df24384c7a7"
      },
      "source": [
        "g2['1970']"
      ],
      "execution_count": null,
      "outputs": [
        {
          "output_type": "execute_result",
          "data": {
            "text/plain": [
              "1970    [1, 22]\n",
              "1970    [1, 22]\n",
              "1970    [1, 22]\n",
              "dtype: object"
            ]
          },
          "metadata": {},
          "execution_count": 22
        }
      ]
    },
    {
      "cell_type": "code",
      "metadata": {
        "colab": {
          "base_uri": "https://localhost:8080/"
        },
        "id": "XZJnWGsMYc5K",
        "outputId": "ccf578e1-5c8d-44df-c516-ec3f09dc9c5a"
      },
      "source": [
        "print(22 in cidys) #Incorrecto\n",
        "print(22 in set(cidys))\n",
        "print(22 in cidys.values)\n",
        "print('1970' in cidys)\n",
        "for item in cidys.iteritems():\n",
        "  print(item)"
      ],
      "execution_count": null,
      "outputs": [
        {
          "output_type": "stream",
          "text": [
            "False\n",
            "True\n",
            "True\n",
            "True\n",
            "('1968', 10)\n",
            "('1969', 7)\n",
            "('1970', 1)\n",
            "('1970', 22)\n"
          ],
          "name": "stdout"
        }
      ]
    },
    {
      "cell_type": "code",
      "metadata": {
        "colab": {
          "base_uri": "https://localhost:8080/"
        },
        "id": "4CnOCGfLvHIc",
        "outputId": "cf45b380-354e-4cd7-d64f-edd2f522e841"
      },
      "source": [
        "#3) Actualización\n",
        "cidys= pd.Series([10,7,1,22],index=['1968','1969','1970','1970'],name='per')\n",
        "print(cidys)\n",
        "#Que pasa si intento actualizar un indice duplicado\n",
        "cidys['1970']=2\n",
        "print('---------')\n",
        "print(cidys)\n"
      ],
      "execution_count": null,
      "outputs": [
        {
          "output_type": "stream",
          "text": [
            "1968    10\n",
            "1969     7\n",
            "1970     1\n",
            "1970    22\n",
            "Name: per, dtype: int64\n",
            "---------\n",
            "1968    10\n",
            "1969     7\n",
            "1970     2\n",
            "1970     2\n",
            "Name: per, dtype: int64\n"
          ],
          "name": "stdout"
        }
      ]
    },
    {
      "cell_type": "code",
      "metadata": {
        "colab": {
          "base_uri": "https://localhost:8080/"
        },
        "id": "XUoNGKwAv813",
        "outputId": "ddd69549-976f-4f6c-8e2f-f1651dd47080"
      },
      "source": [
        "cidys= pd.Series([10,7,1,22],index=['1968','1969','1970','1970'],name='per')\n",
        "print(cidys)\n",
        "#Se cambia por la posicion\n",
        "cidys.iloc[3] = 3\n",
        "print(cidys)"
      ],
      "execution_count": null,
      "outputs": [
        {
          "output_type": "stream",
          "text": [
            "1968    10\n",
            "1969     7\n",
            "1970     1\n",
            "1970    22\n",
            "Name: per, dtype: int64\n",
            "1968    10\n",
            "1969     7\n",
            "1970     1\n",
            "1970     3\n",
            "Name: per, dtype: int64\n"
          ],
          "name": "stdout"
        }
      ]
    },
    {
      "cell_type": "code",
      "metadata": {
        "colab": {
          "base_uri": "https://localhost:8080/"
        },
        "id": "Kzl1mxxNxp2U",
        "outputId": "7f181e71-5f2c-45df-84ce-d8cbc2e07fd2"
      },
      "source": [
        "# Agregar\n",
        "cidys= pd.Series([10,7,1,22],index=['1968','1969','1970','1970'],name='per')\n",
        "cidys = cidys.append(pd.Series({'1974':9}))\n",
        "print(cidys)"
      ],
      "execution_count": null,
      "outputs": [
        {
          "output_type": "stream",
          "text": [
            "1968    10\n",
            "1969     7\n",
            "1970     1\n",
            "1970    22\n",
            "1974     9\n",
            "dtype: int64\n"
          ],
          "name": "stdout"
        }
      ]
    },
    {
      "cell_type": "code",
      "metadata": {
        "colab": {
          "base_uri": "https://localhost:8080/"
        },
        "id": "Ae0yEm5fyrEk",
        "outputId": "e7e550c6-367b-4129-bcb4-d2bd7d5ec498"
      },
      "source": [
        "# Borrar\n",
        "print(cidys)\n",
        "del cidys['1968']\n",
        "print(cidys)\n",
        "cidys[cidys <= 2]"
      ],
      "execution_count": null,
      "outputs": [
        {
          "output_type": "stream",
          "text": [
            "1968    10\n",
            "1969     7\n",
            "1970     1\n",
            "1970    22\n",
            "1974     9\n",
            "dtype: int64\n",
            "1969     7\n",
            "1970     1\n",
            "1970    22\n",
            "1974     9\n",
            "dtype: int64\n"
          ],
          "name": "stdout"
        },
        {
          "output_type": "execute_result",
          "data": {
            "text/plain": [
              "1970    1\n",
              "dtype: int64"
            ]
          },
          "metadata": {},
          "execution_count": 84
        }
      ]
    },
    {
      "cell_type": "markdown",
      "metadata": {
        "id": "oMXglwp206vt"
      },
      "source": [
        "# Indexamiento de series\n",
        "El atributo .iloc sirve para encontrar la posicion de los indices\n",
        "Por el contrario .loc permite entoncontrar los labels en el indice"
      ]
    },
    {
      "cell_type": "code",
      "metadata": {
        "colab": {
          "base_uri": "https://localhost:8080/"
        },
        "id": "BW-hXBx81LgN",
        "outputId": "9b013416-77fb-4cc8-9d50-7f7c5fd40f41"
      },
      "source": [
        "print(cidys)\n",
        "print(cidys.iloc[0])\n",
        "print('---------')\n",
        "print(cidys.iloc[-1])\n",
        "print('---------')\n",
        "print(cidys.iloc[3])\n"
      ],
      "execution_count": null,
      "outputs": [
        {
          "output_type": "stream",
          "text": [
            "1969     7\n",
            "1970     1\n",
            "1970    22\n",
            "1974     9\n",
            "dtype: int64\n",
            "7\n",
            "---------\n",
            "9\n",
            "---------\n",
            "9\n"
          ],
          "name": "stdout"
        }
      ]
    },
    {
      "cell_type": "code",
      "metadata": {
        "colab": {
          "base_uri": "https://localhost:8080/"
        },
        "id": "VQeMh8h32vzl",
        "outputId": "fa5aee20-1642-42f8-d4d6-1b9dbd2e5dc0"
      },
      "source": [
        "print(cidys)\n",
        "print('---------')\n",
        "print(cidys.loc['1974'])\n",
        "print('---------')\n",
        "print(cidys['1974'])"
      ],
      "execution_count": null,
      "outputs": [
        {
          "output_type": "stream",
          "text": [
            "1969     7\n",
            "1970     1\n",
            "1970    22\n",
            "1974     9\n",
            "dtype: int64\n",
            "---------\n",
            "9\n",
            "---------\n",
            "9\n"
          ],
          "name": "stdout"
        }
      ]
    },
    {
      "cell_type": "code",
      "metadata": {
        "colab": {
          "base_uri": "https://localhost:8080/"
        },
        "id": "bzNSG3a439x7",
        "outputId": "b0a10eab-0330-46c9-bb30-3d7654182d61"
      },
      "source": [
        "print(cidys)\n",
        "print('---------')\n",
        "print(cidys.iloc[0:2])"
      ],
      "execution_count": null,
      "outputs": [
        {
          "output_type": "stream",
          "text": [
            "1969     7\n",
            "1970     1\n",
            "1970    22\n",
            "1974     9\n",
            "dtype: int64\n",
            "---------\n",
            "1969    7\n",
            "1970    1\n",
            "dtype: int64\n"
          ],
          "name": "stdout"
        }
      ]
    },
    {
      "cell_type": "markdown",
      "metadata": {
        "id": "GS1XU0iq45Z5"
      },
      "source": [
        "Existen otros metodos llamados .at y .iat que son los analogos a .loc y .oloc solo que devuelven como resultado un objeto numpy.ndarray"
      ]
    },
    {
      "cell_type": "code",
      "metadata": {
        "colab": {
          "base_uri": "https://localhost:8080/"
        },
        "id": "WB1OnuZd8FhJ",
        "outputId": "a0b5d463-a853-4911-bccf-8e3626fb9cfb"
      },
      "source": [
        "serieJessyImpar2= pd.Series ([1,3,5,7,9,11,13,15])\n",
        "serieJessyImpar2 \n",
        "print(serieJessyImpar2)\n",
        "print('-------------------')\n",
        "serieJessyImpar2.iloc[2:4]\n",
        "print(serieJessyImpar2.iloc[2:4])\n",
        "print('-------------------')\n",
        "serieJessyImpar2.loc[2:4]\n",
        "              "
      ],
      "execution_count": null,
      "outputs": [
        {
          "output_type": "stream",
          "text": [
            "0     1\n",
            "1     3\n",
            "2     5\n",
            "3     7\n",
            "4     9\n",
            "5    11\n",
            "6    13\n",
            "7    15\n",
            "dtype: int64\n",
            "-------------------\n",
            "2    5\n",
            "3    7\n",
            "dtype: int64\n",
            "-------------------\n"
          ],
          "name": "stdout"
        },
        {
          "output_type": "execute_result",
          "data": {
            "text/plain": [
              "2    5\n",
              "3    7\n",
              "4    9\n",
              "dtype: int64"
            ]
          },
          "metadata": {},
          "execution_count": 112
        }
      ]
    },
    {
      "cell_type": "code",
      "metadata": {
        "colab": {
          "base_uri": "https://localhost:8080/"
        },
        "id": "GI6mZyKB-iBj",
        "outputId": "edbd023d-9847-45d0-83f0-1b0b12886e3b"
      },
      "source": [
        "serieJessyImpar= pd.Series ([1,3,5,7,9,11,13,15],index=['a','b','c','d','e','f','h','i'])\n",
        "serieJessyImpar.loc['a':'c']\n",
        "serieJessyImpar.iloc[2:4]"
      ],
      "execution_count": null,
      "outputs": [
        {
          "output_type": "execute_result",
          "data": {
            "text/plain": [
              "c    5\n",
              "d    7\n",
              "dtype: int64"
            ]
          },
          "metadata": {},
          "execution_count": 115
        }
      ]
    },
    {
      "cell_type": "code",
      "metadata": {
        "colab": {
          "base_uri": "https://localhost:8080/"
        },
        "id": "ZzoO8VJWHkv-",
        "outputId": "ae85ddab-9bed-45ec-d755-3b5f84c49c81"
      },
      "source": [
        "#Saca el indice y valor\n",
        "for index, value in serieJessyImpar.iteritems():\n",
        "  #print(index, value)\n",
        "  print('Indice : ',index, ' Valor :', value)"
      ],
      "execution_count": null,
      "outputs": [
        {
          "output_type": "stream",
          "text": [
            "Indice :  a  Valor : 1\n",
            "Indice :  b  Valor : 3\n",
            "Indice :  c  Valor : 5\n",
            "Indice :  d  Valor : 7\n",
            "Indice :  e  Valor : 9\n",
            "Indice :  f  Valor : 11\n",
            "Indice :  h  Valor : 13\n",
            "Indice :  i  Valor : 15\n"
          ],
          "name": "stdout"
        }
      ]
    },
    {
      "cell_type": "code",
      "metadata": {
        "colab": {
          "base_uri": "https://localhost:8080/"
        },
        "id": "NWdN2cWqH3zf",
        "outputId": "7edd9f3b-381c-4294-93a1-92cf68028d1d"
      },
      "source": [
        "#Saca el indice\n",
        "for index in serieJessyImpar.keys():\n",
        "  print(index)"
      ],
      "execution_count": null,
      "outputs": [
        {
          "output_type": "stream",
          "text": [
            "a\n",
            "b\n",
            "c\n",
            "d\n",
            "e\n",
            "f\n",
            "h\n",
            "i\n"
          ],
          "name": "stdout"
        }
      ]
    },
    {
      "cell_type": "code",
      "metadata": {
        "colab": {
          "base_uri": "https://localhost:8080/"
        },
        "id": "Xl4JhUERH-VA",
        "outputId": "24440097-4fd5-4619-d1b0-caa46a20d094"
      },
      "source": [
        "#Saca todo el elemento\n",
        "for element in serieJessyImpar.iteritems():\n",
        "  print(element)"
      ],
      "execution_count": null,
      "outputs": [
        {
          "output_type": "stream",
          "text": [
            "('a', 1)\n",
            "('b', 3)\n",
            "('c', 5)\n",
            "('d', 7)\n",
            "('e', 9)\n",
            "('f', 11)\n",
            "('h', 13)\n",
            "('i', 15)\n"
          ],
          "name": "stdout"
        }
      ]
    },
    {
      "cell_type": "code",
      "metadata": {
        "colab": {
          "base_uri": "https://localhost:8080/"
        },
        "id": "8fb_16ZiKBIL",
        "outputId": "d97942f5-f253-4d5b-8150-a86f23a39108"
      },
      "source": [
        "# Fechas\n",
        "fechas = pd.to_datetime(pd.Series(['Sep 7, 2001', '9/8/2001', '9-9-2001', '10th of September 2001', 'One of September 2001', 'Once de Septiembre 2001']), errors='coerce')\n",
        "print(fechas)\n",
        "fechas[fechas < '2001-09-09']\n",
        "fechas[fechas < 'Sep 9, 2001']"
      ],
      "execution_count": null,
      "outputs": [
        {
          "output_type": "stream",
          "text": [
            "0   2001-09-07\n",
            "1   2001-09-08\n",
            "2   2001-09-09\n",
            "3   2001-09-10\n",
            "4          NaT\n",
            "5          NaT\n",
            "dtype: datetime64[ns]\n"
          ],
          "name": "stdout"
        },
        {
          "output_type": "execute_result",
          "data": {
            "text/plain": [
              "0   2001-09-07\n",
              "1   2001-09-08\n",
              "dtype: datetime64[ns]"
            ]
          },
          "metadata": {},
          "execution_count": 138
        }
      ]
    },
    {
      "cell_type": "code",
      "metadata": {
        "colab": {
          "base_uri": "https://localhost:8080/"
        },
        "id": "wTfXYLbhNcZ0",
        "outputId": "668e0227-2ba0-4e22-fbaf-5ac3a9794a72"
      },
      "source": [
        "cumple = pd.to_datetime(pd.Series(['17-12-1983', '07-11-1954', '30-05-1958'], index=['yo', 'papa', 'mama']))\n",
        "print(cumple)"
      ],
      "execution_count": null,
      "outputs": [
        {
          "output_type": "stream",
          "text": [
            "yo     1983-12-17\n",
            "papa   1954-07-11\n",
            "mama   1958-05-30\n",
            "dtype: datetime64[ns]\n"
          ],
          "name": "stdout"
        }
      ]
    }
  ]
}
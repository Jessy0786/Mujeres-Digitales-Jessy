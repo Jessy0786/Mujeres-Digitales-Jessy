{
  "nbformat": 4,
  "nbformat_minor": 0,
  "metadata": {
    "colab": {
      "name": "Copia de Copia de Mujeres Digitales2",
      "provenance": [],
      "collapsed_sections": [],
      "authorship_tag": "ABX9TyP7Rc8vtBHZqayL0/bJzzFe",
      "include_colab_link": true
    },
    "kernelspec": {
      "name": "python3",
      "display_name": "Python 3"
    },
    "language_info": {
      "name": "python"
    }
  },
  "cells": [
    {
      "cell_type": "markdown",
      "metadata": {
        "id": "view-in-github",
        "colab_type": "text"
      },
      "source": [
        "<a href=\"https://colab.research.google.com/github/Jessy0786/Mujeres-Digitales-Jessy/blob/main/Copia_de_Copia_de_Mujeres_Digitales2.ipynb\" target=\"_parent\"><img src=\"https://colab.research.google.com/assets/colab-badge.svg\" alt=\"Open In Colab\"/></a>"
      ]
    },
    {
      "cell_type": "markdown",
      "metadata": {
        "id": "W6CUcXy4LmKu"
      },
      "source": [
        "clase 1 python, instalación"
      ]
    },
    {
      "cell_type": "code",
      "metadata": {
        "colab": {
          "base_uri": "https://localhost:8080/"
        },
        "id": "5Wn82eskLsEI",
        "outputId": "83b58bfb-fa43-4b73-9fd7-710f25b3903c"
      },
      "source": [
        "a=7+7\n",
        "print(a)"
      ],
      "execution_count": null,
      "outputs": [
        {
          "output_type": "stream",
          "text": [
            "14\n"
          ],
          "name": "stdout"
        }
      ]
    },
    {
      "cell_type": "code",
      "metadata": {
        "id": "truvuWwvxBI6",
        "colab": {
          "base_uri": "https://localhost:8080/"
        },
        "outputId": "0b847040-ee8f-4b3a-c40c-0b5a3f204ead"
      },
      "source": [
        "n=\"Aprender\"\n",
        "z=\"python\"\n",
        "w=\"Aprender Python\"\n",
        "nz=n+\" \"+z\n",
        "print(nz)"
      ],
      "execution_count": null,
      "outputs": [
        {
          "output_type": "stream",
          "text": [
            "Aprender python\n"
          ],
          "name": "stdout"
        }
      ]
    },
    {
      "cell_type": "code",
      "metadata": {
        "id": "tkjk3mBKyCod"
      },
      "source": [
        ""
      ],
      "execution_count": null,
      "outputs": []
    }
  ]
}
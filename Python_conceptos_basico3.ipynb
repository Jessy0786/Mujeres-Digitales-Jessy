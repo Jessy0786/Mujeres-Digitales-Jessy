{
  "nbformat": 4,
  "nbformat_minor": 0,
  "metadata": {
    "colab": {
      "name": "Python_conceptos_basico3.ipynb",
      "provenance": [],
      "authorship_tag": "ABX9TyP3jrPdutXES4kwZ+ymG0gq",
      "include_colab_link": true
    },
    "kernelspec": {
      "name": "python3",
      "display_name": "Python 3"
    },
    "language_info": {
      "name": "python"
    }
  },
  "cells": [
    {
      "cell_type": "markdown",
      "metadata": {
        "id": "view-in-github",
        "colab_type": "text"
      },
      "source": [
        "<a href=\"https://colab.research.google.com/github/Jessy0786/Mujeres-Digitales-Jessy/blob/main/Python_conceptos_basico3.ipynb\" target=\"_parent\"><img src=\"https://colab.research.google.com/assets/colab-badge.svg\" alt=\"Open In Colab\"/></a>"
      ]
    },
    {
      "cell_type": "markdown",
      "metadata": {
        "id": "Vuvf2cvNVf8j"
      },
      "source": [
        "# Strings"
      ]
    },
    {
      "cell_type": "code",
      "metadata": {
        "id": "dlomUfsS_Ohw"
      },
      "source": [
        "a=\"hola\"\n",
        "b=\"hola!\"\n",
        "c=\"345 hola\"\n",
        "d=\"'hola?'\"\n",
        "e='\"hola!\"'\n",
        "f=\"123\"\n"
      ],
      "execution_count": 2,
      "outputs": []
    },
    {
      "cell_type": "code",
      "metadata": {
        "colab": {
          "base_uri": "https://localhost:8080/"
        },
        "id": "TCPw5yABWDWQ",
        "outputId": "16289172-bc75-4f96-dcbc-577f2ced4966"
      },
      "source": [
        "print(a)\n",
        "print(b)\n",
        "print(c)\n",
        "print(d)\n",
        "print(e)\n",
        "print(f)"
      ],
      "execution_count": 3,
      "outputs": [
        {
          "output_type": "stream",
          "name": "stdout",
          "text": [
            "hola\n",
            "hola!\n",
            "345 hola\n",
            "'hola?'\n",
            "\"hola!\"\n",
            "123\n"
          ]
        }
      ]
    },
    {
      "cell_type": "markdown",
      "metadata": {
        "id": "OFN_D7LLWUJL"
      },
      "source": [
        "Propiedades"
      ]
    },
    {
      "cell_type": "code",
      "metadata": {
        "colab": {
          "base_uri": "https://localhost:8080/"
        },
        "id": "RoW4IoOcWa6C",
        "outputId": "edb14c9f-304e-43e7-e34b-c137776ada1c"
      },
      "source": [
        "#len para contar cuando elementos hay en un texto\n",
        "a=\"holaa\"\n",
        "print(len(a))"
      ],
      "execution_count": 5,
      "outputs": [
        {
          "output_type": "stream",
          "name": "stdout",
          "text": [
            "5\n"
          ]
        }
      ]
    },
    {
      "cell_type": "code",
      "metadata": {
        "colab": {
          "base_uri": "https://localhost:8080/"
        },
        "id": "fUY_E_6xXYXK",
        "outputId": "59cb41e8-fe84-47a3-f212-24c03aa7c264"
      },
      "source": [
        "#concatenacion\n",
        "a=\"hola\"\n",
        "b=\"jessy\"\n",
        "print(a+' '+b)\n",
        "print(\"hola\"+\"jessy\")"
      ],
      "execution_count": 10,
      "outputs": [
        {
          "output_type": "stream",
          "name": "stdout",
          "text": [
            "hola jessy\n",
            "holajessy\n"
          ]
        }
      ]
    },
    {
      "cell_type": "code",
      "metadata": {
        "colab": {
          "base_uri": "https://localhost:8080/"
        },
        "id": "YWQsCHw8aaOy",
        "outputId": "e20e4737-1fcd-4b40-961b-3dfe6afba55d"
      },
      "source": [
        "#cadenas multiples de texto\n",
        "ab= \"\"\"\n",
        "cadena con \n",
        "multiples \n",
        "lineas\n",
        "\"\"\"\n",
        "print(ab)\n"
      ],
      "execution_count": 12,
      "outputs": [
        {
          "output_type": "stream",
          "name": "stdout",
          "text": [
            "\n",
            "cadena con \n",
            "multiples \n",
            "lineas\n",
            "\n"
          ]
        }
      ]
    },
    {
      "cell_type": "code",
      "metadata": {
        "colab": {
          "base_uri": "https://localhost:8080/"
        },
        "id": "eSu4xsmfa8g6",
        "outputId": "b370db65-bada-4a19-95a3-d6de31da7fbf"
      },
      "source": [
        "#extraer elementos\n",
        "a='Jesyca'\n",
        "print(a[2]) #de izquierda a derecha las posiciones inician en 0\n",
        "print(a[-2])# de derecha a izquierda inician en -1\n",
        "print('---------------------------------------------------------------')\n",
        "#tomar de la izquierda en adelante\n",
        "print(a[2:]) #de izquierda a derecha las posiciones inician en 0\n",
        "print(a[-2:])# de derecha a izquierda inician en -1\n",
        "print('---------------------------------------------------------------')\n",
        "#tomar de la derecha hacia atras\n",
        "print(a[:2]) #de izquierda a derecha las posiciones inician en 0\n",
        "print(a[:-2])# de derecha a izquierda inician en -1\n",
        "print('---------------------------------------------------------------')\n",
        "#no tomar en cuenta una posicion\n",
        "print(a[1:-2])\n",
        "print(a[1:3])\n"
      ],
      "execution_count": 25,
      "outputs": [
        {
          "output_type": "stream",
          "name": "stdout",
          "text": [
            "s\n",
            "c\n",
            "---------------------------------------------------------------\n",
            "syca\n",
            "ca\n",
            "---------------------------------------------------------------\n",
            "Je\n",
            "Jesy\n",
            "---------------------------------------------------------------\n",
            "esy\n",
            "es\n"
          ]
        }
      ]
    },
    {
      "cell_type": "code",
      "metadata": {
        "colab": {
          "base_uri": "https://localhost:8080/"
        },
        "id": "a11VXCdfeqxD",
        "outputId": "fd431f2a-e7af-4133-c000-bae4faf220ee"
      },
      "source": [
        "#formateo de string\n",
        "print(\"hola %s, tienes %i años y naciste en el %i\" % ('jessy', 34, 86)) #s= strig i=entero f=float"
      ],
      "execution_count": 30,
      "outputs": [
        {
          "output_type": "stream",
          "name": "stdout",
          "text": [
            "hola jessy, tienes 34 años y naciste en el 86\n"
          ]
        }
      ]
    }
  ]
}
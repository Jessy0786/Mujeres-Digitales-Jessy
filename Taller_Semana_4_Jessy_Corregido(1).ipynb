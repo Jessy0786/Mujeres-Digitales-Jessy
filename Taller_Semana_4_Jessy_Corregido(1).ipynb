{
  "nbformat": 4,
  "nbformat_minor": 0,
  "metadata": {
    "kernelspec": {
      "display_name": "Python 3",
      "language": "python",
      "name": "python3"
    },
    "language_info": {
      "codemirror_mode": {
        "name": "ipython",
        "version": 3
      },
      "file_extension": ".py",
      "mimetype": "text/x-python",
      "name": "python",
      "nbconvert_exporter": "python",
      "pygments_lexer": "ipython3",
      "version": "3.7.3"
    },
    "colab": {
      "name": "Taller Semana 4 Jessy Corregido(1).ipynb",
      "provenance": [],
      "collapsed_sections": [],
      "include_colab_link": true
    }
  },
  "cells": [
    {
      "cell_type": "markdown",
      "metadata": {
        "id": "view-in-github",
        "colab_type": "text"
      },
      "source": [
        "<a href=\"https://colab.research.google.com/github/Jessy0786/Mujeres-Digitales-Jessy/blob/main/Taller_Semana_4_Jessy_Corregido(1).ipynb\" target=\"_parent\"><img src=\"https://colab.research.google.com/assets/colab-badge.svg\" alt=\"Open In Colab\"/></a>"
      ]
    },
    {
      "cell_type": "markdown",
      "metadata": {
        "id": "SUIcZJyyd6Vw"
      },
      "source": [
        "# Investigando los accidentes de tránsito en Nueva York"
      ]
    },
    {
      "cell_type": "markdown",
      "metadata": {
        "id": "03iG65T_aSdi"
      },
      "source": [
        "# **Taller 4 Jesyca Maria Patiño Londoño**"
      ]
    },
    {
      "cell_type": "code",
      "metadata": {
        "id": "0qKbKxgBd6Vz"
      },
      "source": [
        "import pandas as pd \n",
        "import numpy as np\n",
        "import matplotlib.pyplot as plt\n",
        "import seaborn as sns\n",
        "%matplotlib inline"
      ],
      "execution_count": 1,
      "outputs": []
    },
    {
      "cell_type": "markdown",
      "metadata": {
        "id": "CciJWSAqd6V0"
      },
      "source": [
        "## Introducción\n",
        "\n",
        "**Contexto empresarial.** La ciudad de Nueva York ha experimentado un aumento en el número de accidentes en las vías de la ciudad. Quieren saber si el número de accidentes ha aumentado en las últimas semanas. Para todos los accidentes reportados, han recopilado detalles para cada accidente y han estado manteniendo registros durante el último año y medio (desde enero de 2018 hasta agosto de 2019).\n",
        "\n",
        "La ciudad te ha contratado para que construyas visualizaciones que les ayuden a identificar patrones en accidentes, lo que les ayudaría a tomar acciones preventivas para reducir la cantidad de accidentes en el futuro. Tienen ciertos parámetros como comuna, hora del día, motivo del accidente, etc. De los que se preocupan y de los que les gustaría obtener información específica.\n",
        "\n",
        "**Problema empresarial.** Su tarea es formatear los datos proporcionados y proporcionar visualizaciones que respondan a las preguntas específicas que tiene el cliente, que se mencionan a continuación.\n",
        "\n",
        "**Contexto analítico.** Se le proporciona un archivo CSV que contiene detalles sobre cada accidente como fecha, hora, ubicación del accidente, motivo del accidente, tipos de vehículos involucrados, recuento de lesiones y muertes, etc. El delimitador en el archivo CSV dado es; en lugar del predeterminado,. Realizará las siguientes tareas con los datos:\n",
        "\n",
        "*    Leer, transformar y preparar datos para su visualización\n",
        "*    Realizar análisis y construir visualizaciones de los datos para identificar patrones en el conjunto de datos.\n",
        "\n",
        "El cliente tiene un conjunto específico de preguntas a las que le gustaría obtener respuestas. Deberá proporcionar visualizaciones para acompañar estos:\n",
        "\n",
        "1.    ¿Cómo ha fluctuado el número de accidentes durante el último año y medio? ¿Han aumentado con el tiempo? Los accidentes disminuyeron, tal y como indica la grafica\n",
        "2.   Para un día en particular, ¿durante qué horas es más probable que ocurran accidentes? A las 16 y 17 Horas\n",
        "3.    ¿Hay más accidentes entre semana que los fines de semana? Entre semana hay mas accidentes\n",
        "4.    ¿Cuál es la proporción de accidentes por área por comuna? ¿Qué distritos tienen un número desproporcionadamente grande de accidentes para su tamaño?\n",
        "**a**\n",
        "* BRONX :             895\n",
        "* BROOKLYN :         1076\n",
        "* MANHATTAN :        2135\n",
        "* QUEENS :            618\n",
        "* STATEN ISLAND :     148\n",
        "\n",
        "**b**\n",
        "* Manhattan tiene muchos accidentes con respecto al area que ocupa\n",
        "5.    Para cada comuna, ¿durante qué horas es más probable que ocurran accidentes?\n",
        "* BRONX            16 (Hora)         2952 (Numero de accidentes)\n",
        "* BROOKLYN         16 (Hora)         5701 (Numero de accidentes)\n",
        "* MANHATTAN        14 (Hora)         3375 (Numero de accidentes)\n",
        "* QUEENS           17 (Hora)         5104 (Numero de accidentes)\n",
        "* STATEN ISLAND    16 (Hora)          775 (Numero de accidentes)\n",
        "6.    ¿Cuáles son las 5 principales causas de accidentes en la ciudad?\n",
        "Se omitio : Unspecified\n",
        "* Driver Inattention/Distraction                            72203.0\n",
        "* Failure to Yield Right-of-Way                             20413.0\n",
        "* Following Too Closely                                     17909.0\n",
        "* Backing Unsafely                                          15068.0\n",
        "* Passing Too Closely                                       13378.0"
      ]
    },
    {
      "cell_type": "code",
      "metadata": {
        "id": "pf5H533Td6V1"
      },
      "source": [
        "# Use la siguiente informacipón de cada comuna (\"borough\") para realizar los análisis\n",
        "\n",
        "borough_data = {'bronx': {'name': 'the bronx', 'population': 1471160.0, 'area': 42.1},\n",
        " 'brooklyn': {'name': 'brooklyn', 'population': 2648771.0, 'area': 70.82},\n",
        " 'manhattan': {'name': 'manhattan', 'population': 1664727.0, 'area': 22.83},\n",
        " 'queens': {'name': 'queens', 'population': 2358582.0, 'area': 108.53},\n",
        " 'staten island': {'name': 'staten island', 'population': 479458.0, 'area': 58.37}}"
      ],
      "execution_count": 2,
      "outputs": []
    },
    {
      "cell_type": "markdown",
      "metadata": {
        "id": "QP-Y4A-3d6V2"
      },
      "source": [
        "Tenemos las siguientes columnas\n",
        "\n",
        "     Borough: el comuna en el que ocurrió el accidente.\n",
        "     COLLISION_ID: un identificador único para esta colisión\n",
        "     CONTRIBUTING FACTOR VEHICLE (1, 2, 3, 4, 5): Motivos del accidente\n",
        "     CROSS STREET : Calle transversal más cercana al lugar de los accidentes\n",
        "     DATE: Fecha del accidente\n",
        "     TIME: Hora del accidente\n",
        "     DATETIME: la columna que creamos anteriormente con la combinación de fecha y hora\n",
        "     LATITUDE: Latitud del accidente\n",
        "     LONGITUDE: Longitud del accidente\n",
        "     NUMBER OF (CYCLIST, MOTORIST, PEDESTRIANS) INJURED: Lesión por categoría\n",
        "     NUMBER OF (CYCLIST, MOTORIST, PEDESTRIANS) KILLED: Categoría muerte sabia\n",
        "     ON STREET NAME: Calle donde ocurrió el accidente\n",
        "     TOTAL INJURED: Total de heridos por el accidente\n",
        "     TOTAL KILLED: Total de bajas en el accidente\n",
        "     VEHICLE TYPE CODE (1, 2, 3, 4, 5): Tipos de vehículos involucrados en el accidente\n",
        "     ZIP CODE: código postal del lugar del accidente"
      ]
    },
    {
      "cell_type": "markdown",
      "metadata": {
        "id": "KsHqg54gd6V3"
      },
      "source": [
        "Primero cargue los datos del csv a un dataframe.\n",
        "\n",
        "**Nota:** El archivo se encuentra separado por punto y coma ( ; ) en lugar de coma ( , ), así que se debe ingresar el parámetro sep para leer el archivo. Aquí puede encontrar información:\n",
        "\n",
        "https://pandas.pydata.org/pandas-docs/stable/reference/api/pandas.read_csv.html#pandas.read_csv"
      ]
    },
    {
      "cell_type": "code",
      "metadata": {
        "colab": {
          "resources": {
            "http://localhost:8080/nbextensions/google.colab/files.js": {
              "data": "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",
              "ok": true,
              "headers": [
                [
                  "content-type",
                  "application/javascript"
                ]
              ],
              "status": 200,
              "status_text": ""
            }
          },
          "base_uri": "https://localhost:8080/",
          "height": 38
        },
        "id": "8FuVciVZrNn6",
        "outputId": "320bbb62-1f14-444a-826d-3e98a0523c1f"
      },
      "source": [
        "from google.colab import files\n",
        "uploaded = files.upload()"
      ],
      "execution_count": null,
      "outputs": [
        {
          "output_type": "display_data",
          "data": {
            "text/html": [
              "\n",
              "     <input type=\"file\" id=\"files-5c8c9700-903b-4558-bb5c-448b89caafd5\" name=\"files[]\" multiple disabled\n",
              "        style=\"border:none\" />\n",
              "     <output id=\"result-5c8c9700-903b-4558-bb5c-448b89caafd5\">\n",
              "      Upload widget is only available when the cell has been executed in the\n",
              "      current browser session. Please rerun this cell to enable.\n",
              "      </output>\n",
              "      <script src=\"/nbextensions/google.colab/files.js\"></script> "
            ],
            "text/plain": [
              "<IPython.core.display.HTML object>"
            ]
          },
          "metadata": {}
        }
      ]
    },
    {
      "cell_type": "code",
      "metadata": {
        "id": "-lIQwE70d6V3",
        "colab": {
          "base_uri": "https://localhost:8080/"
        },
        "outputId": "14fba26c-c05e-478f-b659-368763da6165"
      },
      "source": [
        "# Escriba su código aquí\n",
        "#df = pd.read_csv('accidents_sample.csv', sep= ';')\n",
        "df = pd.read_csv('/content/sample_data/accidents_sample.csv', sep= ';')\n",
        "pd.options.display.max_columns = 5\n",
        "print(df)"
      ],
      "execution_count": 3,
      "outputs": [
        {
          "output_type": "stream",
          "name": "stdout",
          "text": [
            "             DATE   TIME  ... VEHICLE TYPE CODE 4  VEHICLE TYPE CODE 5\n",
            "0      05/29/2019   8:19  ...                 NaN                  NaN\n",
            "1      05/11/2018  16:30  ...                 NaN                  NaN\n",
            "2      07/18/2019  12:51  ...                 NaN                  NaN\n",
            "3      07/06/2019  15:00  ...                 NaN                  NaN\n",
            "4      07/14/2018  23:26  ...                 NaN                  NaN\n",
            "...           ...    ...  ...                 ...                  ...\n",
            "47699  06/02/2018   0:15  ...                 NaN                  NaN\n",
            "47700  06/04/2019   6:30  ...                 NaN                  NaN\n",
            "47701  05/03/2019  15:46  ...                 NaN                  NaN\n",
            "47702  01/24/2018  19:05  ...                 NaN                  NaN\n",
            "47703  09/23/2018  17:28  ...                 NaN                  NaN\n",
            "\n",
            "[47704 rows x 24 columns]\n"
          ]
        }
      ]
    },
    {
      "cell_type": "markdown",
      "metadata": {
        "id": "icNi1Weed6V4"
      },
      "source": [
        "## Parte 1: Accidentes a lo largo del tiempo\n",
        "\n",
        "Agrupe los datos disponibles mensualmente y genere una gráfica lineal de accidentes a lo largo del tiempo. ¿Ha aumentado el número de accidentes durante el último año y medio?"
      ]
    },
    {
      "cell_type": "code",
      "metadata": {
        "id": "K876XaNBd6V6",
        "colab": {
          "base_uri": "https://localhost:8080/",
          "height": 698
        },
        "outputId": "7caec0de-75b4-4fd5-a033-53329e965c69"
      },
      "source": [
        "# Numero de accidentes a lo largo del tiempo\n",
        "dfg_mes = df['DATE']\n",
        "dfg_mes= dfg_mes.groupby(pd.PeriodIndex(df['DATE'], freq='M')).count()\n",
        "print(dfg_mes)\n",
        "dfg_mes.plot(kind='line',color='m');\n",
        "plt.ylabel(\"Número Accidentes\")\n",
        "plt.xlabel(\"Fecha\")\n",
        "plt.title(\"Número de accidentes por mes\")\n",
        "plt.legend()\n",
        "#Los accidentes disminuyeron"
      ],
      "execution_count": 4,
      "outputs": [
        {
          "output_type": "stream",
          "name": "stdout",
          "text": [
            "DATE\n",
            "2018-01    2406\n",
            "2018-02    2110\n",
            "2018-03    2469\n",
            "2018-04    2317\n",
            "2018-05    2658\n",
            "2018-06    2669\n",
            "2018-07    2453\n",
            "2018-08    2556\n",
            "2018-09    2494\n",
            "2018-10    2654\n",
            "2018-11    2470\n",
            "2018-12    2461\n",
            "2019-01    2170\n",
            "2019-02    2102\n",
            "2019-03    2258\n",
            "2019-04    2196\n",
            "2019-05    2562\n",
            "2019-06    2583\n",
            "2019-07    2422\n",
            "2019-08    1694\n",
            "Freq: M, Name: DATE, dtype: int64\n"
          ]
        },
        {
          "output_type": "execute_result",
          "data": {
            "text/plain": [
              "<matplotlib.legend.Legend at 0x7f0b81a58110>"
            ]
          },
          "metadata": {},
          "execution_count": 4
        },
        {
          "output_type": "display_data",
          "data": {
            "image/png": "[encoded data removed]",
            "text/plain": [
              "<Figure size 432x288 with 1 Axes>"
            ]
          },
          "metadata": {
            "needs_background": "light"
          }
        }
      ]
    },
    {
      "cell_type": "markdown",
      "metadata": {
        "id": "NqOw_sajd6V7"
      },
      "source": [
        "## Parte 2: Puntos calientes de accidentes en un día\n",
        "\n",
        "¿Cómo varía el número de accidentes a lo largo de un solo día? Cree una nueva columna HORA basada en los datos de la columna DATETIME, luego trace un gráfico de barras de la distribución por hora a lo largo del día."
      ]
    },
    {
      "cell_type": "code",
      "metadata": {
        "id": "IC6Do3s3d6V8",
        "colab": {
          "base_uri": "https://localhost:8080/",
          "height": 329
        },
        "outputId": "48be78c3-6817-4889-eee9-7afd38e458ee"
      },
      "source": [
        "# Numero de accidentes distribuidos en un día\n",
        "df['TIME'] = pd.to_datetime(df['TIME'])\n",
        "df['HOUR'] = df['TIME'].dt.hour\n",
        "dfg_hour = df.groupby('HOUR').size()\n",
        "plt.bar(dfg_hour.index, dfg_hour.values, color=\"m\")\n",
        "plt.ylabel(\"Número de accidentes\")\n",
        "plt.xlabel(\"Horas\")\n",
        "plt.title(\"Número de accidentes por hora\")\n",
        "plt.legend()"
      ],
      "execution_count": 5,
      "outputs": [
        {
          "output_type": "stream",
          "name": "stderr",
          "text": [
            "No handles with labels found to put in legend.\n"
          ]
        },
        {
          "output_type": "execute_result",
          "data": {
            "text/plain": [
              "<matplotlib.legend.Legend at 0x7f0b81bbfa90>"
            ]
          },
          "metadata": {},
          "execution_count": 5
        },
        {
          "output_type": "display_data",
          "data": {
            "image/png": "[encoded data removed]",
            "text/plain": [
              "<Figure size 432x288 with 1 Axes>"
            ]
          },
          "metadata": {
            "needs_background": "light"
          }
        }
      ]
    },
    {
      "cell_type": "markdown",
      "metadata": {
        "id": "DbVnzWWGd6V8"
      },
      "source": [
        "## Parte 3: Accidentes por día laborable\n",
        "\n",
        "¿Cómo varía el número de accidentes en una sola semana? Trace un gráfico de barras basado en el recuento de accidentes por día de la semana."
      ]
    },
    {
      "cell_type": "code",
      "metadata": {
        "id": "wjmKw6mGd6V8",
        "colab": {
          "base_uri": "https://localhost:8080/",
          "height": 465
        },
        "outputId": "e8bebf36-ce9a-4f5b-a479-87c92e9ca8db"
      },
      "source": [
        "# Por dia de la semana\n",
        "df['DATE'] = pd.to_datetime(df['DATE'])\n",
        "dfg_wd= df.groupby(df['DATE'].dt.weekday).size()\n",
        "plt.bar(dfg_wd.index, dfg_wd.values, color=\"m\")\n",
        "plt.ylabel(\"Número de accidentes\")\n",
        "plt.xlabel(\"Dias de la semana\")\n",
        "plt.title(\"Número de accidentes por dias de la semana\")\n",
        "plt.legend()\n",
        "print(dfg_wd)"
      ],
      "execution_count": 6,
      "outputs": [
        {
          "output_type": "stream",
          "name": "stderr",
          "text": [
            "No handles with labels found to put in legend.\n"
          ]
        },
        {
          "output_type": "stream",
          "name": "stdout",
          "text": [
            "DATE\n",
            "0    7020\n",
            "1    7146\n",
            "2    7090\n",
            "3    7252\n",
            "4    7565\n",
            "5    6330\n",
            "6    5301\n",
            "dtype: int64\n"
          ]
        },
        {
          "output_type": "display_data",
          "data": {
            "image/png": "[encoded data removed]",
            "text/plain": [
              "<Figure size 432x288 with 1 Axes>"
            ]
          },
          "metadata": {
            "needs_background": "light"
          }
        }
      ]
    },
    {
      "cell_type": "code",
      "metadata": {
        "colab": {
          "base_uri": "https://localhost:8080/",
          "height": 411
        },
        "id": "lpYSnMVo_0SM",
        "outputId": "5814bf45-b641-4a62-9b17-f0a108a36929"
      },
      "source": [
        "# Por nombre del dia de la semana\n",
        "import calendar\n",
        "df['DATE'] = pd.to_datetime(df['DATE'])\n",
        "dfg_wd= df.groupby(df['DATE'].dt.day_name()).size()\n",
        "plt.figure(figsize=(10, 3))\n",
        "plt.bar(dfg_wd.index, dfg_wd.values, color=\"m\")\n",
        "plt.ylabel(\"Número de accidentes\")\n",
        "plt.xlabel(\"Dias de la semana\")\n",
        "plt.title(\"Número de accidentes por dias de la semana\")\n",
        "plt.legend()\n",
        "\n",
        "print(dfg_wd)"
      ],
      "execution_count": 7,
      "outputs": [
        {
          "output_type": "stream",
          "name": "stderr",
          "text": [
            "No handles with labels found to put in legend.\n"
          ]
        },
        {
          "output_type": "stream",
          "name": "stdout",
          "text": [
            "DATE\n",
            "Friday       7565\n",
            "Monday       7020\n",
            "Saturday     6330\n",
            "Sunday       5301\n",
            "Thursday     7252\n",
            "Tuesday      7146\n",
            "Wednesday    7090\n",
            "dtype: int64\n"
          ]
        },
        {
          "output_type": "display_data",
          "data": {
            "image/png": "[encoded data removed]",
            "text/plain": [
              "<Figure size 720x216 with 1 Axes>"
            ]
          },
          "metadata": {
            "needs_background": "light"
          }
        }
      ]
    },
    {
      "cell_type": "markdown",
      "metadata": {
        "id": "7fNI3lqed6V9"
      },
      "source": [
        "## Parte 4: Análisis de comuna\n",
        "\n",
        "Trace un gráfico de barras del número total de accidentes en cada comuna, así como uno de los accidentes por kilómetro cuadrado por comuna. ¿Qué puedes concluir?"
      ]
    },
    {
      "cell_type": "code",
      "metadata": {
        "id": "ZDt6VtoTd6V9",
        "colab": {
          "base_uri": "https://localhost:8080/",
          "height": 448
        },
        "outputId": "708d6b66-1ee3-4c36-a959-f225504c35ce"
      },
      "source": [
        "# Número de accidentes por comuna\n",
        "dfg_c= df.groupby(df['BOROUGH']).size()\n",
        "print(dfg_c)\n",
        "plt.bar(dfg_c.index, dfg_c.values, color=\"m\")\n",
        "plt.ylabel(\"Número de accidentes\")\n",
        "plt.xlabel(\"comuna\")\n",
        "plt.title(\"Número de accidentes por comuna\")\n",
        "plt.legend()"
      ],
      "execution_count": 14,
      "outputs": [
        {
          "output_type": "stream",
          "name": "stderr",
          "text": [
            "No handles with labels found to put in legend.\n"
          ]
        },
        {
          "output_type": "stream",
          "name": "stdout",
          "text": [
            "BOROUGH\n",
            "BRONX             7547\n",
            "BROOKLYN         15248\n",
            "MANHATTAN         9918\n",
            "QUEENS           13173\n",
            "STATEN ISLAND     1818\n",
            "dtype: int64\n"
          ]
        },
        {
          "output_type": "execute_result",
          "data": {
            "text/plain": [
              "<matplotlib.legend.Legend at 0x7f0b812f8990>"
            ]
          },
          "metadata": {},
          "execution_count": 14
        },
        {
          "output_type": "display_data",
          "data": {
            "image/png": "[encoded data removed]",
            "text/plain": [
              "<Figure size 432x288 with 1 Axes>"
            ]
          },
          "metadata": {
            "needs_background": "light"
          }
        }
      ]
    },
    {
      "cell_type": "code",
      "metadata": {
        "colab": {
          "base_uri": "https://localhost:8080/",
          "height": 329
        },
        "id": "Q2J7VBYOWe8E",
        "outputId": "1e232a31-9e54-44c5-d4bd-732eec8308a0"
      },
      "source": [
        "# Escriba su código aquí Número de accidentes por comuna por area\n",
        "dfg_ca= df.groupby(df['BOROUGH']).size()\n",
        "\n",
        "indexList = dfg_ca.index.tolist()\n",
        "listValues = dfg_ca.values\n",
        "index = 0\n",
        "for key in indexList:\n",
        "  key = str(key).lower()  \n",
        "  listValues[index] = dfg_ca.values[index]/borough_data[key]['area']\n",
        "  index = index + 1\n",
        "\n",
        "plt.bar(dfg_ca.index, listValues, color=\"m\")\n",
        "plt.ylabel(\"Número de accidentes\")\n",
        "plt.xlabel(\"comuna\")\n",
        "plt.title(\"Número de accidentes por comuna por area\")\n",
        "plt.legend()\n",
        "\n"
      ],
      "execution_count": 12,
      "outputs": [
        {
          "output_type": "stream",
          "name": "stderr",
          "text": [
            "No handles with labels found to put in legend.\n"
          ]
        },
        {
          "output_type": "execute_result",
          "data": {
            "text/plain": [
              "<matplotlib.legend.Legend at 0x7f0b81378e90>"
            ]
          },
          "metadata": {},
          "execution_count": 12
        },
        {
          "output_type": "display_data",
          "data": {
            "image/png": "[encoded data removed]",
            "text/plain": [
              "<Figure size 432x288 with 1 Axes>"
            ]
          },
          "metadata": {
            "needs_background": "light"
          }
        }
      ]
    },
    {
      "cell_type": "code",
      "metadata": {
        "colab": {
          "base_uri": "https://localhost:8080/"
        },
        "id": "eJlt4oh8X0EN",
        "outputId": "cf79cfa8-5806-4b5d-9d0f-68292c366155"
      },
      "source": [
        "print(dfg_ca)"
      ],
      "execution_count": 16,
      "outputs": [
        {
          "output_type": "stream",
          "name": "stdout",
          "text": [
            "BOROUGH\n",
            "BRONX            179\n",
            "BROOKLYN         215\n",
            "MANHATTAN        434\n",
            "QUEENS           121\n",
            "STATEN ISLAND     31\n",
            "dtype: int64\n"
          ]
        }
      ]
    },
    {
      "cell_type": "code",
      "metadata": {
        "colab": {
          "base_uri": "https://localhost:8080/"
        },
        "id": "BXvX6LOAzgwW",
        "outputId": "11455505-c52c-41ac-aa4b-c8cae4a2d1ac"
      },
      "source": [
        "mascara = df['BOROUGH'] == \"BRONX\"\n",
        "df_bronx = df.loc[mascara, 'BOROUGH']\n",
        "#df_bronx= df_bronx.groupby(df['BOROUGH']).size()\n",
        "print(df_bronx.shape[0])\n",
        "print(df_bronx.shape[0]/42.1)\n"
      ],
      "execution_count": 15,
      "outputs": [
        {
          "output_type": "stream",
          "name": "stdout",
          "text": [
            "7547\n",
            "179.26365795724465\n"
          ]
        }
      ]
    },
    {
      "cell_type": "code",
      "metadata": {
        "colab": {
          "base_uri": "https://localhost:8080/",
          "height": 419
        },
        "id": "F7fWBo1zDIGX",
        "outputId": "176d79be-28fa-4c7d-d0dd-7250fde6edd4"
      },
      "source": [
        "df"
      ],
      "execution_count": 17,
      "outputs": [
        {
          "output_type": "execute_result",
          "data": {
            "text/html": [
              "<div>\n",
              "<style scoped>\n",
              "    .dataframe tbody tr th:only-of-type {\n",
              "        vertical-align: middle;\n",
              "    }\n",
              "\n",
              "    .dataframe tbody tr th {\n",
              "        vertical-align: top;\n",
              "    }\n",
              "\n",
              "    .dataframe thead th {\n",
              "        text-align: right;\n",
              "    }\n",
              "</style>\n",
              "<table border=\"1\" class=\"dataframe\">\n",
              "  <thead>\n",
              "    <tr style=\"text-align: right;\">\n",
              "      <th></th>\n",
              "      <th>DATE</th>\n",
              "      <th>TIME</th>\n",
              "      <th>...</th>\n",
              "      <th>VEHICLE TYPE CODE 5</th>\n",
              "      <th>HOUR</th>\n",
              "    </tr>\n",
              "  </thead>\n",
              "  <tbody>\n",
              "    <tr>\n",
              "      <th>0</th>\n",
              "      <td>2019-05-29</td>\n",
              "      <td>2021-09-07 08:19:00</td>\n",
              "      <td>...</td>\n",
              "      <td>NaN</td>\n",
              "      <td>8</td>\n",
              "    </tr>\n",
              "    <tr>\n",
              "      <th>1</th>\n",
              "      <td>2018-05-11</td>\n",
              "      <td>2021-09-07 16:30:00</td>\n",
              "      <td>...</td>\n",
              "      <td>NaN</td>\n",
              "      <td>16</td>\n",
              "    </tr>\n",
              "    <tr>\n",
              "      <th>2</th>\n",
              "      <td>2019-07-18</td>\n",
              "      <td>2021-09-07 12:51:00</td>\n",
              "      <td>...</td>\n",
              "      <td>NaN</td>\n",
              "      <td>12</td>\n",
              "    </tr>\n",
              "    <tr>\n",
              "      <th>3</th>\n",
              "      <td>2019-07-06</td>\n",
              "      <td>2021-09-07 15:00:00</td>\n",
              "      <td>...</td>\n",
              "      <td>NaN</td>\n",
              "      <td>15</td>\n",
              "    </tr>\n",
              "    <tr>\n",
              "      <th>4</th>\n",
              "      <td>2018-07-14</td>\n",
              "      <td>2021-09-07 23:26:00</td>\n",
              "      <td>...</td>\n",
              "      <td>NaN</td>\n",
              "      <td>23</td>\n",
              "    </tr>\n",
              "    <tr>\n",
              "      <th>...</th>\n",
              "      <td>...</td>\n",
              "      <td>...</td>\n",
              "      <td>...</td>\n",
              "      <td>...</td>\n",
              "      <td>...</td>\n",
              "    </tr>\n",
              "    <tr>\n",
              "      <th>47699</th>\n",
              "      <td>2018-06-02</td>\n",
              "      <td>2021-09-07 00:15:00</td>\n",
              "      <td>...</td>\n",
              "      <td>NaN</td>\n",
              "      <td>0</td>\n",
              "    </tr>\n",
              "    <tr>\n",
              "      <th>47700</th>\n",
              "      <td>2019-06-04</td>\n",
              "      <td>2021-09-07 06:30:00</td>\n",
              "      <td>...</td>\n",
              "      <td>NaN</td>\n",
              "      <td>6</td>\n",
              "    </tr>\n",
              "    <tr>\n",
              "      <th>47701</th>\n",
              "      <td>2019-05-03</td>\n",
              "      <td>2021-09-07 15:46:00</td>\n",
              "      <td>...</td>\n",
              "      <td>NaN</td>\n",
              "      <td>15</td>\n",
              "    </tr>\n",
              "    <tr>\n",
              "      <th>47702</th>\n",
              "      <td>2018-01-24</td>\n",
              "      <td>2021-09-07 19:05:00</td>\n",
              "      <td>...</td>\n",
              "      <td>NaN</td>\n",
              "      <td>19</td>\n",
              "    </tr>\n",
              "    <tr>\n",
              "      <th>47703</th>\n",
              "      <td>2018-09-23</td>\n",
              "      <td>2021-09-07 17:28:00</td>\n",
              "      <td>...</td>\n",
              "      <td>NaN</td>\n",
              "      <td>17</td>\n",
              "    </tr>\n",
              "  </tbody>\n",
              "</table>\n",
              "<p>47704 rows × 25 columns</p>\n",
              "</div>"
            ],
            "text/plain": [
              "            DATE                TIME  ... VEHICLE TYPE CODE 5  HOUR\n",
              "0     2019-05-29 2021-09-07 08:19:00  ...                 NaN     8\n",
              "1     2018-05-11 2021-09-07 16:30:00  ...                 NaN    16\n",
              "2     2019-07-18 2021-09-07 12:51:00  ...                 NaN    12\n",
              "3     2019-07-06 2021-09-07 15:00:00  ...                 NaN    15\n",
              "4     2018-07-14 2021-09-07 23:26:00  ...                 NaN    23\n",
              "...          ...                 ...  ...                 ...   ...\n",
              "47699 2018-06-02 2021-09-07 00:15:00  ...                 NaN     0\n",
              "47700 2019-06-04 2021-09-07 06:30:00  ...                 NaN     6\n",
              "47701 2019-05-03 2021-09-07 15:46:00  ...                 NaN    15\n",
              "47702 2018-01-24 2021-09-07 19:05:00  ...                 NaN    19\n",
              "47703 2018-09-23 2021-09-07 17:28:00  ...                 NaN    17\n",
              "\n",
              "[47704 rows x 25 columns]"
            ]
          },
          "metadata": {},
          "execution_count": 17
        }
      ]
    },
    {
      "cell_type": "markdown",
      "metadata": {
        "id": "T7GhKEKRd6V9"
      },
      "source": [
        "## Parte 5: Análisis por hora del comuna\n",
        "\n",
        "¿Qué horas tienen más accidentes en cada comuna? Trace un gráfico de barras para cada comuna que muestre el número de accidentes por cada hora del día."
      ]
    },
    {
      "cell_type": "code",
      "metadata": {
        "colab": {
          "base_uri": "https://localhost:8080/",
          "height": 566
        },
        "id": "oTRHpBagh5As",
        "outputId": "0fc05963-e75e-401e-f9f2-1685f6d3e405"
      },
      "source": [
        "#g = sns.FacetGrid(churn, col='Attrition_Flag', height=4, aspect=1.2)\n",
        "#g.map(sns.histplot, 'Customer_Age')\n",
        "\n",
        "# Escriba su código aquí\n",
        "df['TIME'] = pd.to_datetime(df['TIME'])\n",
        "df['HOUR'] = df['TIME'].dt.hour\n",
        "\n",
        "dfg_Comuna_hour =df.groupby(['BOROUGH', 'HOUR'])['HOUR'].size().reset_index(name=\"NumAccidents\")\n",
        "print(dfg_Comuna_hour)\n",
        "\n",
        "g = sns.FacetGrid(dfg_Comuna_hour, col='BOROUGH', height=5)\n",
        "g.map(sns.histplot, 'HOUR', \"NumAccidents\")\n",
        "\n",
        "#dfg_hour.index\n",
        "#dfg_hour.values\n",
        "#print(df['BOROUGH'].unique())\n",
        "#g = sns.FacetGrid(dfg_hour, col=dfg_hour['BOROUGH'])\n",
        "#g.map(sns.histplot, dfg_hour.values)\n"
      ],
      "execution_count": 18,
      "outputs": [
        {
          "output_type": "stream",
          "name": "stdout",
          "text": [
            "           BOROUGH  HOUR  NumAccidents\n",
            "0            BRONX     0           262\n",
            "1            BRONX     1           113\n",
            "2            BRONX     2            95\n",
            "3            BRONX     3            69\n",
            "4            BRONX     4            77\n",
            "..             ...   ...           ...\n",
            "115  STATEN ISLAND    19            85\n",
            "116  STATEN ISLAND    20            64\n",
            "117  STATEN ISLAND    21            54\n",
            "118  STATEN ISLAND    22            57\n",
            "119  STATEN ISLAND    23            40\n",
            "\n",
            "[120 rows x 3 columns]\n"
          ]
        },
        {
          "output_type": "execute_result",
          "data": {
            "text/plain": [
              "<seaborn.axisgrid.FacetGrid at 0x7f0b811de890>"
            ]
          },
          "metadata": {},
          "execution_count": 18
        },
        {
          "output_type": "display_data",
          "data": {
            "image/png": "[encoded data removed]",
            "text/plain": [
              "<Figure size 1800x360 with 5 Axes>"
            ]
          },
          "metadata": {
            "needs_background": "light"
          }
        }
      ]
    },
    {
      "cell_type": "code",
      "metadata": {
        "colab": {
          "base_uri": "https://localhost:8080/"
        },
        "id": "tq94D_GJVsZ3",
        "outputId": "220d09a7-e794-433f-ee00-d4dd59a6b1c4"
      },
      "source": [
        "# Para ver los datos de los numeros de accidentes en un rango determinado\n",
        "print(dfg_Comuna_hour.iloc[95:])"
      ],
      "execution_count": 19,
      "outputs": [
        {
          "output_type": "stream",
          "name": "stdout",
          "text": [
            "           BOROUGH  HOUR  NumAccidents\n",
            "95          QUEENS    23           300\n",
            "96   STATEN ISLAND     0            50\n",
            "97   STATEN ISLAND     1            19\n",
            "98   STATEN ISLAND     2            11\n",
            "99   STATEN ISLAND     3            10\n",
            "100  STATEN ISLAND     4            10\n",
            "101  STATEN ISLAND     5            22\n",
            "102  STATEN ISLAND     6            31\n",
            "103  STATEN ISLAND     7            54\n",
            "104  STATEN ISLAND     8           111\n",
            "105  STATEN ISLAND     9            94\n",
            "106  STATEN ISLAND    10            94\n",
            "107  STATEN ISLAND    11            92\n",
            "108  STATEN ISLAND    12           100\n",
            "109  STATEN ISLAND    13           123\n",
            "110  STATEN ISLAND    14           145\n",
            "111  STATEN ISLAND    15           142\n",
            "112  STATEN ISLAND    16           133\n",
            "113  STATEN ISLAND    17           161\n",
            "114  STATEN ISLAND    18           116\n",
            "115  STATEN ISLAND    19            85\n",
            "116  STATEN ISLAND    20            64\n",
            "117  STATEN ISLAND    21            54\n",
            "118  STATEN ISLAND    22            57\n",
            "119  STATEN ISLAND    23            40\n"
          ]
        }
      ]
    },
    {
      "cell_type": "markdown",
      "metadata": {
        "id": "6PPahsuVd6V-"
      },
      "source": [
        "## Parte 6: Causa de accidentes\n",
        "\n",
        "¿Qué factores provocan la mayoría de los accidentes?"
      ]
    },
    {
      "cell_type": "code",
      "metadata": {
        "id": "C2TiU-2gd6V-",
        "colab": {
          "base_uri": "https://localhost:8080/",
          "height": 700
        },
        "outputId": "a73fc0eb-4036-4426-b8f3-cb776fc8f208"
      },
      "source": [
        "# Escriba su código aquí\n",
        "#CONTRIBUTING FACTOR VEHICLE 1\n",
        "#CONTRIBUTING FACTOR VEHICLE 2\n",
        "#CONTRIBUTING FACTOR VEHICLE 3\n",
        "#CONTRIBUTING FACTOR VEHICLE 4\n",
        "#CONTRIBUTING FACTOR VEHICLE 5\n",
        "#print(df['CONTRIBUTING FACTOR VEHICLE 1'].value_counts())\n",
        "pd_causa = pd.concat(\n",
        "    [df['CONTRIBUTING FACTOR VEHICLE 1'].value_counts(), df['CONTRIBUTING FACTOR VEHICLE 2'].value_counts(), df['CONTRIBUTING FACTOR VEHICLE 3'].value_counts(), df['CONTRIBUTING FACTOR VEHICLE 4'].value_counts(), df['CONTRIBUTING FACTOR VEHICLE 5'].value_counts()], \n",
        "    axis=1\n",
        "    ).sum(axis=1)\n",
        "print(pd_causa.index)\n",
        "\n",
        "pd_causa = pd_causa.iloc[1:6]\n",
        "\n",
        "plt.figure(figsize=(20, 3))\n",
        "plt.bar(pd_causa.index, pd_causa.values, color=\"m\")\n",
        "plt.ylabel(\"Frecuencia\")\n",
        "plt.xlabel(\"Causa\")\n",
        "plt.title(\"Las causas mas recurrentes en accidentes\")\n",
        "plt.legend()"
      ],
      "execution_count": 20,
      "outputs": [
        {
          "output_type": "stream",
          "name": "stderr",
          "text": [
            "No handles with labels found to put in legend.\n"
          ]
        },
        {
          "output_type": "stream",
          "name": "stdout",
          "text": [
            "Index(['Unspecified', 'Driver Inattention/Distraction',\n",
            "       'Failure to Yield Right-of-Way', 'Following Too Closely',\n",
            "       'Backing Unsafely', 'Passing Too Closely',\n",
            "       'Passing or Lane Usage Improper', 'Other Vehicular',\n",
            "       'Turning Improperly', 'Unsafe Lane Changing',\n",
            "       'Traffic Control Disregarded', 'Driver Inexperience', 'Unsafe Speed',\n",
            "       'Reaction to Uninvolved Vehicle', 'Alcohol Involvement',\n",
            "       'View Obstructed/Limited', 'Pavement Slippery', 'Oversized Vehicle',\n",
            "       'Pedestrian/Bicyclist/Other Pedestrian Error/Confusion',\n",
            "       'Passenger Distraction', 'Aggressive Driving/Road Rage',\n",
            "       'Brakes Defective', 'Outside Car Distraction', 'Glare', 'Fell Asleep',\n",
            "       'Obstruction/Debris', 'Steering Failure', 'Pavement Defective',\n",
            "       'Failure to Keep Right', 'Illnes', 'Driverless/Runaway Vehicle',\n",
            "       'Fatigued/Drowsy', 'Tire Failure/Inadequate', 'Lost Consciousness',\n",
            "       'Animals Action', 'Accelerator Defective',\n",
            "       'Lane Marking Improper/Inadequate', 'Drugs (illegal)',\n",
            "       'Traffic Control Device Improper/Non-Working', 'Cell Phone (hand-Held)',\n",
            "       'Other Lighting Defects', 'Prescription Medication',\n",
            "       'Vehicle Vandalism', 'Physical Disability', 'Other Electronic Device',\n",
            "       'Headlights Defective', 'Using On Board Navigation Device',\n",
            "       'Shoulders Defective/Improper', 'Eating or Drinking',\n",
            "       'Tow Hitch Defective', 'Texting', 'Tinted Windows',\n",
            "       'Windshield Inadequate', 'Cell Phone (hands-free)',\n",
            "       'Listening/Using Headphones'],\n",
            "      dtype='object')\n"
          ]
        },
        {
          "output_type": "execute_result",
          "data": {
            "text/plain": [
              "<matplotlib.legend.Legend at 0x7f0b812f3e90>"
            ]
          },
          "metadata": {},
          "execution_count": 20
        },
        {
          "output_type": "display_data",
          "data": {
            "image/png": "[encoded data removed]",
            "text/plain": [
              "<Figure size 1440x216 with 1 Axes>"
            ]
          },
          "metadata": {
            "needs_background": "light"
          }
        }
      ]
    }
  ]
}